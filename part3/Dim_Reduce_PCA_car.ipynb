{
 "cells": [
  {
   "cell_type": "code",
   "execution_count": 119,
   "metadata": {},
   "outputs": [
    {
     "name": "stdout",
     "output_type": "stream",
     "text": [
      "Automatically created module for IPython interactive environment\n"
     ]
    }
   ],
   "source": [
    "print(__doc__)\n",
    "\n",
    "import matplotlib as mpl\n",
    "import matplotlib.pyplot as plt\n",
    "import numpy as np\n",
    "import pandas as pd\n",
    "import seaborn as sns\n",
    "import scipy  \n",
    "from scipy import linalg\n",
    "\n",
    "from sklearn.cluster import KMeans\n",
    "from sklearn import datasets\n",
    "from sklearn.mixture import GaussianMixture\n",
    "from sklearn.decomposition import PCA\n",
    "from sklearn.preprocessing import scale  \n",
    "from sklearn import decomposition\n",
    "from mpl_toolkits.mplot3d import Axes3D\n",
    "from matplotlib import style\n",
    "from sklearn.model_selection import StratifiedKFold\n",
    "from sklearn.linear_model import LogisticRegression\n",
    "import itertools\n",
    "\n",
    "from sklearn import mixture\n",
    "\n",
    "\n",
    "style.use(\"ggplot\")\n",
    "%matplotlib inline\n",
    "\n"
   ]
  },
  {
   "cell_type": "code",
   "execution_count": 120,
   "metadata": {
    "collapsed": true
   },
   "outputs": [],
   "source": [
    "def make_ellipses(gmm, ax):\n",
    "    for n, color in enumerate(colors):\n",
    "        if gmm.covariance_type == 'full':\n",
    "            covariances = gmm.covariances_[n][:2, :2]\n",
    "        elif gmm.covariance_type == 'tied':\n",
    "            covariances = gmm.covariances_[:2, :2]\n",
    "        elif gmm.covariance_type == 'diag':\n",
    "            covariances = np.diag(gmm.covariances_[n][:2])\n",
    "        elif gmm.covariance_type == 'spherical':\n",
    "            covariances = np.eye(gmm.means_.shape[1]) * gmm.covariances_[n]\n",
    "        v, w = np.linalg.eigh(covariances)\n",
    "        u = w[0] / np.linalg.norm(w[0])\n",
    "        angle = np.arctan2(u[1], u[0])\n",
    "        angle = 180 * angle / np.pi  # convert to degrees\n",
    "        v = 2. * np.sqrt(2.) * np.sqrt(v)\n",
    "        ell = mpl.patches.Ellipse(gmm.means_[n, :2], v[0], v[1],\n",
    "                                  180 + angle, color=color)\n",
    "        ell.set_clip_box(ax.bbox)\n",
    "        ell.set_alpha(0.5)\n",
    "        ax.add_artist(ell)"
   ]
  },
  {
   "cell_type": "code",
   "execution_count": 174,
   "metadata": {},
   "outputs": [
    {
     "data": {
      "text/html": [
       "<div>\n",
       "<style>\n",
       "    .dataframe thead tr:only-child th {\n",
       "        text-align: right;\n",
       "    }\n",
       "\n",
       "    .dataframe thead th {\n",
       "        text-align: left;\n",
       "    }\n",
       "\n",
       "    .dataframe tbody tr th {\n",
       "        vertical-align: top;\n",
       "    }\n",
       "</style>\n",
       "<table border=\"1\" class=\"dataframe\">\n",
       "  <thead>\n",
       "    <tr style=\"text-align: right;\">\n",
       "      <th></th>\n",
       "      <th>buying</th>\n",
       "      <th>maint</th>\n",
       "      <th>doors</th>\n",
       "      <th>persons</th>\n",
       "      <th>lug_boot</th>\n",
       "      <th>safety</th>\n",
       "      <th>acceptable</th>\n",
       "      <th>acceptable_label</th>\n",
       "    </tr>\n",
       "  </thead>\n",
       "  <tbody>\n",
       "    <tr>\n",
       "      <th>0</th>\n",
       "      <td>0</td>\n",
       "      <td>0</td>\n",
       "      <td>2</td>\n",
       "      <td>2</td>\n",
       "      <td>0</td>\n",
       "      <td>0</td>\n",
       "      <td>0</td>\n",
       "      <td>unacc</td>\n",
       "    </tr>\n",
       "    <tr>\n",
       "      <th>1</th>\n",
       "      <td>0</td>\n",
       "      <td>0</td>\n",
       "      <td>2</td>\n",
       "      <td>2</td>\n",
       "      <td>0</td>\n",
       "      <td>1</td>\n",
       "      <td>0</td>\n",
       "      <td>unacc</td>\n",
       "    </tr>\n",
       "    <tr>\n",
       "      <th>2</th>\n",
       "      <td>0</td>\n",
       "      <td>0</td>\n",
       "      <td>2</td>\n",
       "      <td>2</td>\n",
       "      <td>0</td>\n",
       "      <td>2</td>\n",
       "      <td>0</td>\n",
       "      <td>unacc</td>\n",
       "    </tr>\n",
       "    <tr>\n",
       "      <th>3</th>\n",
       "      <td>0</td>\n",
       "      <td>0</td>\n",
       "      <td>2</td>\n",
       "      <td>2</td>\n",
       "      <td>1</td>\n",
       "      <td>0</td>\n",
       "      <td>0</td>\n",
       "      <td>unacc</td>\n",
       "    </tr>\n",
       "    <tr>\n",
       "      <th>4</th>\n",
       "      <td>0</td>\n",
       "      <td>0</td>\n",
       "      <td>2</td>\n",
       "      <td>2</td>\n",
       "      <td>1</td>\n",
       "      <td>1</td>\n",
       "      <td>0</td>\n",
       "      <td>unacc</td>\n",
       "    </tr>\n",
       "  </tbody>\n",
       "</table>\n",
       "</div>"
      ],
      "text/plain": [
       "   buying  maint  doors  persons  lug_boot  safety  acceptable  \\\n",
       "0       0      0      2        2         0       0           0   \n",
       "1       0      0      2        2         0       1           0   \n",
       "2       0      0      2        2         0       2           0   \n",
       "3       0      0      2        2         1       0           0   \n",
       "4       0      0      2        2         1       1           0   \n",
       "\n",
       "  acceptable_label  \n",
       "0            unacc  \n",
       "1            unacc  \n",
       "2            unacc  \n",
       "3            unacc  \n",
       "4            unacc  "
      ]
     },
     "execution_count": 174,
     "metadata": {},
     "output_type": "execute_result"
    }
   ],
   "source": [
    "raw_data = pd.read_csv('C:/Users/Chenming/Desktop/assignment3/Data1_Car/car.csv')\n",
    "#convert buying to int, 'vhigh'->0, 'high'->1,'med'->2,'low'->3, save to a new dataset: data \n",
    "raw_data['buying'] = raw_data.buying.str.replace('vhigh','0')\n",
    "raw_data['buying'] = raw_data.buying.str.replace('high','1')\n",
    "raw_data['buying'] = raw_data.buying.str.replace('med','2')\n",
    "raw_data['buying'] = raw_data.buying.str.replace('low','3')\n",
    "data=raw_data\n",
    "data['buying']=raw_data.buying\n",
    "data['buying']=data.buying.astype(int)\n",
    "\n",
    "#convert maint to int, 'vhigh'->0, 'high'->1,'med'->2,'low'->3, save to a new dataset: data \n",
    "raw_data['maint'] = raw_data.maint.str.replace('vhigh','0')\n",
    "raw_data['maint'] = raw_data.maint.str.replace('high','1')\n",
    "raw_data['maint'] = raw_data.maint.str.replace('med','2')\n",
    "raw_data['maint'] = raw_data.maint.str.replace('low','3')\n",
    "data['maint']=raw_data.maint\n",
    "data['maint']=data.maint.astype(int)\n",
    "\n",
    "#convert doors, 5more ->5, all to int\n",
    "raw_data['doors'] = raw_data.doors.str.replace('5more','5')\n",
    "data['doors']=raw_data.doors\n",
    "data['doors']=data.doors.astype(int)\n",
    "\n",
    "#persons more->5, all to int\n",
    "raw_data['persons'] = raw_data.persons.str.replace('more','5')\n",
    "data['persons']=raw_data.persons\n",
    "data['persons']=data.persons.astype(int)\n",
    "\n",
    "#lug_boot, small->0, med->1, big->2, all to int\n",
    "raw_data['lug_boot'] = raw_data.lug_boot.str.replace('small','0')\n",
    "raw_data['lug_boot'] = raw_data.lug_boot.str.replace('med','1')\n",
    "raw_data['lug_boot'] = raw_data.lug_boot.str.replace('big','2')\n",
    "data['lug_boot']=raw_data.lug_boot\n",
    "data['lug_boot']=data.lug_boot.astype(int)\n",
    "\n",
    "#safety, low->0, med->1, high->2\n",
    "raw_data['safety'] = raw_data.safety.str.replace('low','0')\n",
    "raw_data['safety'] = raw_data.safety.str.replace('med','1')\n",
    "raw_data['safety'] = raw_data.safety.str.replace('high','2')\n",
    "data['safety']=raw_data.safety\n",
    "data['safety']=data.safety.astype(int)\n",
    "\n",
    "#set label column\n",
    "data['acceptable_label'] = raw_data.acceptable\n",
    "\n",
    "#acceptable, unacc->0, acc->1, good->2, vgood->3\n",
    "raw_data['acceptable'] = raw_data.acceptable.str.replace('unacc','0')\n",
    "raw_data['acceptable'] = raw_data.acceptable.str.replace('acc','1')\n",
    "raw_data['acceptable'] = raw_data.acceptable.str.replace('good','2')\n",
    "raw_data['acceptable'] = raw_data.acceptable.str.replace('v2','3')\n",
    "data['acceptable']=raw_data.acceptable\n",
    "data['acceptable']=data.acceptable.astype(int)\n",
    "data.to_csv('data1.csv' , sep=',')\n",
    "data.head()"
   ]
  },
  {
   "cell_type": "code",
   "execution_count": 122,
   "metadata": {
    "scrolled": true
   },
   "outputs": [
    {
     "data": {
      "text/plain": [
       "array([[0, 0, 2, 2, 0, 0],\n",
       "       [0, 0, 2, 2, 0, 1],\n",
       "       [0, 0, 2, 2, 0, 2],\n",
       "       ..., \n",
       "       [3, 3, 5, 5, 2, 0],\n",
       "       [3, 3, 5, 5, 2, 1],\n",
       "       [3, 3, 5, 5, 2, 2]])"
      ]
     },
     "execution_count": 122,
     "metadata": {},
     "output_type": "execute_result"
    }
   ],
   "source": [
    "datalist_label = data.acceptable\n",
    "datalist_names = data.acceptable_label\n",
    "datalist_label_names = np.array(['unacc','acc','good','vgood'])\n",
    "datalist = data.drop(['acceptable','acceptable_label'], axis=1)\n",
    "datalist_array = datalist.values\n",
    "datalist_array"
   ]
  },
  {
   "cell_type": "code",
   "execution_count": 123,
   "metadata": {
    "collapsed": true
   },
   "outputs": [],
   "source": [
    "EM_data = data.drop(['buying','maint','doors','persons','lug_boot','safety'], axis=1)"
   ]
  },
  {
   "cell_type": "code",
   "execution_count": 124,
   "metadata": {
    "collapsed": true
   },
   "outputs": [],
   "source": [
    "#NN  on X = datalist_array, y = datalist_label\n",
    "from sklearn.cross_validation import KFold, cross_val_score\n",
    "from sklearn.cross_validation import StratifiedKFold\n",
    "import time\n",
    "from sklearn.neural_network import MLPClassifier\n",
    "\n",
    "skf = StratifiedKFold(datalist_label, n_folds=4)\n",
    "# Only take the first fold.\n",
    "train_index, test_index = next(iter(skf))\n",
    "\n",
    "\n",
    "X_train = datalist_array[train_index]\n",
    "y_train = datalist_label[train_index].values\n",
    "X_test  = datalist_array[test_index]\n",
    "y_test  = datalist_label[test_index].values"
   ]
  },
  {
   "cell_type": "code",
   "execution_count": 125,
   "metadata": {},
   "outputs": [
    {
     "name": "stdout",
     "output_type": "stream",
     "text": [
      "Iteration 1, loss = 1.03892006\n",
      "Iteration 2, loss = 0.89786322\n",
      "Iteration 3, loss = 0.79470831\n",
      "Iteration 4, loss = 0.71031073\n",
      "Iteration 5, loss = 0.62745243\n",
      "Iteration 6, loss = 0.54439144\n",
      "Iteration 7, loss = 0.48296494\n",
      "Iteration 8, loss = 0.58045382\n",
      "Iteration 9, loss = 0.43215406\n",
      "Iteration 10, loss = 0.38388783\n",
      "Iteration 11, loss = 0.37821896\n",
      "Iteration 12, loss = 0.35503610\n",
      "Iteration 13, loss = 0.32861726\n",
      "Iteration 14, loss = 0.33212186\n",
      "Iteration 15, loss = 0.29675447\n",
      "Iteration 16, loss = 0.32086875\n",
      "Iteration 17, loss = 0.31344747\n",
      "Iteration 18, loss = 0.25959806\n",
      "Iteration 19, loss = 0.24989952\n",
      "Iteration 20, loss = 0.22852860\n",
      "Iteration 21, loss = 0.25068690\n",
      "Iteration 22, loss = 0.27276938\n",
      "Iteration 23, loss = 0.21855874\n",
      "Iteration 24, loss = 0.25588710\n",
      "Iteration 25, loss = 0.18866410\n",
      "Iteration 26, loss = 0.22647718\n",
      "Iteration 27, loss = 0.17266470\n",
      "Iteration 28, loss = 0.17820107\n",
      "Iteration 29, loss = 0.16677432\n",
      "Iteration 30, loss = 0.16125560\n",
      "Iteration 31, loss = 0.15943472\n",
      "Iteration 32, loss = 0.15416316\n",
      "Iteration 33, loss = 0.15735134\n",
      "Iteration 34, loss = 0.58879376\n",
      "Iteration 35, loss = 0.23320762\n",
      "Training loss did not improve more than tol=0.000100 for two consecutive epochs. Stopping.\n",
      "Training set score: 0.910355\n",
      "Training variance:  0.779768259198\n",
      "Test set score: 0.852535\n",
      "Testing variance:  0.649827545476\n",
      "Running Time:  0.23501324653625488\n"
     ]
    }
   ],
   "source": [
    "#NN of original data\n",
    "from sklearn.metrics import explained_variance_score\n",
    "\n",
    "start_time = time.time()\n",
    "\n",
    "mlp = MLPClassifier(hidden_layer_sizes=(50,10), max_iter=1000, alpha=1e-4,\n",
    "                    solver='sgd', verbose=10, tol=1e-4, random_state=1,\n",
    "                    learning_rate_init=.03)\n",
    "\n",
    "mlp.fit(X_train, y_train)\n",
    "y_train_pred = mlp.predict(X_train)\n",
    "y_test_pred = mlp.predict(X_test)\n",
    "elapsed_time = time.time() - start_time\n",
    "\n",
    "print(\"Training set score: %f\" % mlp.score(X_train, y_train))\n",
    "print (\"Training variance: \", explained_variance_score(y_train, y_train_pred, multioutput='uniform_average'))\n",
    "print(\"Test set score: %f\" % mlp.score(X_test, y_test))\n",
    "print (\"Testing variance: \", explained_variance_score(y_test, y_test_pred, multioutput='uniform_average'))\n",
    "print (\"Running Time: \", elapsed_time)"
   ]
  },
  {
   "cell_type": "code",
   "execution_count": 126,
   "metadata": {
    "collapsed": true
   },
   "outputs": [],
   "source": [
    "from sklearn.decomposition import PCA\n",
    "def pca_code(data):\n",
    "    pca = PCA()\n",
    "    X_transformed = pca.fit_transform(data)\n",
    "    # We center the data and compute the sample covariance matrix.\n",
    "    X_centered = data - np.mean(data, axis=0)\n",
    "    cov_matrix = np.dot(X_centered.T, X_centered) / len(data)\n",
    "    eigenvalues = pca.explained_variance_\n",
    "    e_v=[]\n",
    "    for eigenvalue, eigenvector in zip(eigenvalues, pca.components_):    \n",
    "        e_v.append(eigenvalue)\n",
    "    return e_v"
   ]
  },
  {
   "cell_type": "code",
   "execution_count": 127,
   "metadata": {},
   "outputs": [
    {
     "data": {
      "text/plain": [
       "[1.5564562825709307,\n",
       " 1.2507237984945025,\n",
       " 1.2507237984944994,\n",
       " 1.2507237984944986,\n",
       " 0.66705269253039989,\n",
       " 0.66705269253039945]"
      ]
     },
     "execution_count": 127,
     "metadata": {},
     "output_type": "execute_result"
    }
   ],
   "source": [
    "eig_val = pca_code(datalist_array)\n",
    "eig_val"
   ]
  },
  {
   "cell_type": "code",
   "execution_count": 128,
   "metadata": {
    "scrolled": true
   },
   "outputs": [
    {
     "data": {
      "text/plain": [
       "<matplotlib.collections.PathCollection at 0x164a2d30>"
      ]
     },
     "execution_count": 128,
     "metadata": {},
     "output_type": "execute_result"
    },
    {
     "data": {
      "image/png": "[encoded data removed]",
      "text/plain": [
       "<matplotlib.figure.Figure at 0x1678e588>"
      ]
     },
     "metadata": {},
     "output_type": "display_data"
    }
   ],
   "source": [
    "x_axis=[1,2,3,4,5,6]\n",
    "plt.scatter(x_axis, eig_val)"
   ]
  },
  {
   "cell_type": "code",
   "execution_count": 129,
   "metadata": {},
   "outputs": [
    {
     "data": {
      "text/plain": [
       "array([[ 1.66666667,  2.1209698 ,  0.03856309],\n",
       "       [ 1.66666667,  2.1209698 ,  0.03856309],\n",
       "       [ 1.66666667,  2.1209698 ,  0.03856309],\n",
       "       ..., \n",
       "       [-1.33333333, -2.1209698 , -0.03856309],\n",
       "       [-1.33333333, -2.1209698 , -0.03856309],\n",
       "       [-1.33333333, -2.1209698 , -0.03856309]])"
      ]
     },
     "execution_count": 129,
     "metadata": {},
     "output_type": "execute_result"
    }
   ],
   "source": [
    "#comment the below change to plot the original X################\n",
    "pca = decomposition.PCA(n_components=3)\n",
    "pca.fit(datalist_array)\n",
    "data_PCA = pca.transform(datalist_array)\n",
    "data_PCA\n",
    "#Here new X is the new arrays of datalist after PCA treatment, \n",
    "#can be used to evaluate with K-means and EM algorithms, not necessary to plot\n",
    "##################################\n",
    "#Original data\n",
    "#X = datalist_array\n",
    "#X"
   ]
  },
  {
   "cell_type": "code",
   "execution_count": 130,
   "metadata": {
    "scrolled": true
   },
   "outputs": [
    {
     "data": {
      "image/png": "[encoded data removed]",
      "text/plain": [
       "<matplotlib.figure.Figure at 0x162d3128>"
      ]
     },
     "metadata": {},
     "output_type": "display_data"
    }
   ],
   "source": [
    "fig = plt.figure(1, figsize=(4, 3))\n",
    "plt.clf()\n",
    "ax = Axes3D(fig, rect=[0, 0, .95, 1], elev=48, azim=134)\n",
    "datalist_label_3D = data.acceptable.values\n",
    "\n",
    "plt.cla()\n",
    "\n",
    "for name, label in [('unacc', 0), ('acc', 1), ('good', 2), ('vgood', 3)]:\n",
    "    ax.text3D(data_PCA[datalist_label == label, 0].mean(),\n",
    "              data_PCA[datalist_label == label, 1].mean() + 1.5,\n",
    "              data_PCA[datalist_label == label, 2].mean(),\n",
    "              name,\n",
    "              horizontalalignment='center',\n",
    "              bbox=dict(alpha=.5, edgecolor='w', facecolor='w'))\n",
    "# Reorder the labels to have colors matching the cluster results\n",
    "datalist_label_3D = np.choose(datalist_label_3D, [0, 1, 2, 3]).astype(np.float)\n",
    "ax.scatter(data_PCA[:, 0], data_PCA[:, 1], data_PCA[:, 2], c=datalist_label_3D, cmap=plt.cm.spectral,\n",
    "           edgecolor='k')\n",
    "\n",
    "ax.w_xaxis.set_ticklabels([])\n",
    "ax.w_yaxis.set_ticklabels([])\n",
    "ax.w_zaxis.set_ticklabels([])\n",
    "\n",
    "plt.show()"
   ]
  },
  {
   "cell_type": "code",
   "execution_count": 131,
   "metadata": {},
   "outputs": [
    {
     "data": {
      "text/plain": [
       "array([[ 1.66666667, -2.1       ],\n",
       "       [ 1.66666667, -2.1       ],\n",
       "       [ 1.66666667, -2.1       ],\n",
       "       ..., \n",
       "       [-1.33333333,  2.1       ],\n",
       "       [-1.33333333,  2.1       ],\n",
       "       [-1.33333333,  2.1       ]])"
      ]
     },
     "execution_count": 131,
     "metadata": {},
     "output_type": "execute_result"
    }
   ],
   "source": [
    "pca = decomposition.PCA(n_components=2)\n",
    "pca.fit(datalist_array)\n",
    "data_PCA = pca.transform(datalist_array)\n",
    "data_PCA\n"
   ]
  },
  {
   "cell_type": "code",
   "execution_count": 132,
   "metadata": {},
   "outputs": [
    {
     "name": "stdout",
     "output_type": "stream",
     "text": [
      "Iteration 1, loss = 1.35319582\n",
      "Iteration 2, loss = 0.75516549\n",
      "Iteration 3, loss = 0.69954737\n",
      "Iteration 4, loss = 0.67712317\n",
      "Iteration 5, loss = 0.66140939\n",
      "Iteration 6, loss = 0.65724221\n",
      "Iteration 7, loss = 0.65437344\n",
      "Iteration 8, loss = 0.65261623\n",
      "Iteration 9, loss = 0.65135994\n",
      "Iteration 10, loss = 0.65027632\n",
      "Iteration 11, loss = 0.65055463\n",
      "Iteration 12, loss = 0.65032577\n",
      "Iteration 13, loss = 0.64914783\n",
      "Iteration 14, loss = 0.64961785\n",
      "Iteration 15, loss = 0.64883446\n",
      "Iteration 16, loss = 0.64849441\n",
      "Iteration 17, loss = 0.64862286\n",
      "Iteration 18, loss = 0.64849461\n",
      "Iteration 19, loss = 0.64795054\n",
      "Iteration 20, loss = 0.64799064\n",
      "Iteration 21, loss = 0.64803710\n",
      "Iteration 22, loss = 0.64787433\n",
      "Training loss did not improve more than tol=0.000100 for two consecutive epochs. Stopping.\n",
      "Training set score: 0.700927\n",
      "Training variance:  0.0\n",
      "Test set score: 0.698157\n",
      "Testing variance:  0.0\n",
      "Running Time:  0.1500089168548584\n"
     ]
    }
   ],
   "source": [
    "#NN upon PCA dataset\n",
    "X_train = data_PCA[train_index]\n",
    "y_train = datalist_label[train_index]\n",
    "X_test  = data_PCA[test_index]\n",
    "y_test  = datalist_label[test_index]\n",
    "\n",
    "start_time = time.time()\n",
    "\n",
    "mlp = MLPClassifier(hidden_layer_sizes=(50,10), max_iter=1000, alpha=1e-4,\n",
    "                    solver='sgd', verbose=10, tol=1e-4, random_state=1,\n",
    "                    learning_rate_init=.03)\n",
    "\n",
    "mlp.fit(X_train, y_train)\n",
    "y_train_pred = mlp.predict(X_train)\n",
    "y_test_pred = mlp.predict(X_test)\n",
    "elapsed_time = time.time() - start_time\n",
    "\n",
    "print(\"Training set score: %f\" % mlp.score(X_train, y_train))\n",
    "print (\"Training variance: \", explained_variance_score(y_train, y_train_pred, multioutput='uniform_average'))\n",
    "print(\"Test set score: %f\" % mlp.score(X_test, y_test))\n",
    "print (\"Testing variance: \", explained_variance_score(y_test, y_test_pred, multioutput='uniform_average'))\n",
    "print (\"Running Time: \", elapsed_time)"
   ]
  },
  {
   "cell_type": "code",
   "execution_count": 133,
   "metadata": {},
   "outputs": [
    {
     "data": {
      "text/plain": [
       "1294"
      ]
     },
     "execution_count": 133,
     "metadata": {},
     "output_type": "execute_result"
    }
   ],
   "source": [
    "n_classes=4\n",
    "len(train_index)"
   ]
  },
  {
   "cell_type": "code",
   "execution_count": 134,
   "metadata": {
    "collapsed": true
   },
   "outputs": [],
   "source": [
    "# EM Try GMMs with K=4\n",
    "new_component=4\n",
    "cv_type='spherical'\n",
    "gmm = mixture.GaussianMixture(n_components=new_component,\n",
    "                                      covariance_type=cv_type)\n",
    "gmm.fit(data_PCA)\n",
    "datalist_pred = gmm.predict(data_PCA)\n",
    "\n",
    "EM_data['K4_PCA_label']=datalist_pred\n",
    "K4_PCA_label = datalist_pred\n",
    "EM_PCA4_prob = gmm.predict_proba(data_PCA)"
   ]
  },
  {
   "cell_type": "code",
   "execution_count": 135,
   "metadata": {},
   "outputs": [
    {
     "data": {
      "text/html": [
       "<div>\n",
       "<style>\n",
       "    .dataframe thead tr:only-child th {\n",
       "        text-align: right;\n",
       "    }\n",
       "\n",
       "    .dataframe thead th {\n",
       "        text-align: left;\n",
       "    }\n",
       "\n",
       "    .dataframe tbody tr th {\n",
       "        vertical-align: top;\n",
       "    }\n",
       "</style>\n",
       "<table border=\"1\" class=\"dataframe\">\n",
       "  <thead>\n",
       "    <tr style=\"text-align: right;\">\n",
       "      <th>col_0</th>\n",
       "      <th>0</th>\n",
       "      <th>1</th>\n",
       "      <th>2</th>\n",
       "      <th>3</th>\n",
       "    </tr>\n",
       "    <tr>\n",
       "      <th>acceptable_label</th>\n",
       "      <th></th>\n",
       "      <th></th>\n",
       "      <th></th>\n",
       "      <th></th>\n",
       "    </tr>\n",
       "  </thead>\n",
       "  <tbody>\n",
       "    <tr>\n",
       "      <th>acc</th>\n",
       "      <td>199</td>\n",
       "      <td>0</td>\n",
       "      <td>79</td>\n",
       "      <td>106</td>\n",
       "    </tr>\n",
       "    <tr>\n",
       "      <th>good</th>\n",
       "      <td>34</td>\n",
       "      <td>0</td>\n",
       "      <td>5</td>\n",
       "      <td>30</td>\n",
       "    </tr>\n",
       "    <tr>\n",
       "      <th>unacc</th>\n",
       "      <td>312</td>\n",
       "      <td>576</td>\n",
       "      <td>198</td>\n",
       "      <td>124</td>\n",
       "    </tr>\n",
       "    <tr>\n",
       "      <th>vgood</th>\n",
       "      <td>31</td>\n",
       "      <td>0</td>\n",
       "      <td>6</td>\n",
       "      <td>28</td>\n",
       "    </tr>\n",
       "  </tbody>\n",
       "</table>\n",
       "</div>"
      ],
      "text/plain": [
       "col_0               0    1    2    3\n",
       "acceptable_label                    \n",
       "acc               199    0   79  106\n",
       "good               34    0    5   30\n",
       "unacc             312  576  198  124\n",
       "vgood              31    0    6   28"
      ]
     },
     "execution_count": 135,
     "metadata": {},
     "output_type": "execute_result"
    }
   ],
   "source": [
    "tb1 = pd.crosstab(EM_data['acceptable_label'],datalist_pred)\n",
    "#data_label.head()\n",
    "tb1"
   ]
  },
  {
   "cell_type": "code",
   "execution_count": 136,
   "metadata": {},
   "outputs": [
    {
     "data": {
      "text/html": [
       "<div>\n",
       "<style>\n",
       "    .dataframe thead tr:only-child th {\n",
       "        text-align: right;\n",
       "    }\n",
       "\n",
       "    .dataframe thead th {\n",
       "        text-align: left;\n",
       "    }\n",
       "\n",
       "    .dataframe tbody tr th {\n",
       "        vertical-align: top;\n",
       "    }\n",
       "</style>\n",
       "<table border=\"1\" class=\"dataframe\">\n",
       "  <thead>\n",
       "    <tr style=\"text-align: right;\">\n",
       "      <th></th>\n",
       "      <th>acceptable</th>\n",
       "      <th>acceptable_label</th>\n",
       "      <th>K4_PCA_label</th>\n",
       "      <th>K4_PCA_label_name</th>\n",
       "    </tr>\n",
       "  </thead>\n",
       "  <tbody>\n",
       "    <tr>\n",
       "      <th>0</th>\n",
       "      <td>0</td>\n",
       "      <td>unacc</td>\n",
       "      <td>1</td>\n",
       "      <td>unacc</td>\n",
       "    </tr>\n",
       "    <tr>\n",
       "      <th>1</th>\n",
       "      <td>0</td>\n",
       "      <td>unacc</td>\n",
       "      <td>1</td>\n",
       "      <td>unacc</td>\n",
       "    </tr>\n",
       "    <tr>\n",
       "      <th>2</th>\n",
       "      <td>0</td>\n",
       "      <td>unacc</td>\n",
       "      <td>1</td>\n",
       "      <td>unacc</td>\n",
       "    </tr>\n",
       "    <tr>\n",
       "      <th>3</th>\n",
       "      <td>0</td>\n",
       "      <td>unacc</td>\n",
       "      <td>1</td>\n",
       "      <td>unacc</td>\n",
       "    </tr>\n",
       "    <tr>\n",
       "      <th>4</th>\n",
       "      <td>0</td>\n",
       "      <td>unacc</td>\n",
       "      <td>1</td>\n",
       "      <td>unacc</td>\n",
       "    </tr>\n",
       "  </tbody>\n",
       "</table>\n",
       "</div>"
      ],
      "text/plain": [
       "   acceptable acceptable_label  K4_PCA_label K4_PCA_label_name\n",
       "0           0            unacc             1             unacc\n",
       "1           0            unacc             1             unacc\n",
       "2           0            unacc             1             unacc\n",
       "3           0            unacc             1             unacc\n",
       "4           0            unacc             1             unacc"
      ]
     },
     "execution_count": 136,
     "metadata": {},
     "output_type": "execute_result"
    }
   ],
   "source": [
    "#EM assign test K=4 label\n",
    "def em_K1_label(alpha):\n",
    "    label_max = max(tb1.iloc[i,alpha] for i in range(4))\n",
    "    if tb1.iloc[0,alpha] == label_max:\n",
    "        return 'acc'\n",
    "    if tb1.iloc[1,alpha] == label_max:\n",
    "        return 'good'\n",
    "    if tb1.iloc[2,alpha] == label_max:\n",
    "        return 'unacc'\n",
    "    if tb1.iloc[3,alpha] == label_max:\n",
    "        return 'vgood'\n",
    "EM_data['K4_PCA_label_name']=EM_data['K4_PCA_label'].apply(em_K1_label)\n",
    "EM_data.head()"
   ]
  },
  {
   "cell_type": "code",
   "execution_count": 137,
   "metadata": {},
   "outputs": [
    {
     "name": "stdout",
     "output_type": "stream",
     "text": [
      "K=4 PCA EM -> 70.0231%\n"
     ]
    }
   ],
   "source": [
    "K4_PCA_accuracy = len(EM_data[EM_data['acceptable_label']==EM_data['K4_PCA_label_name']])/len(EM_data)\n",
    "print('K=4 PCA EM -> {0:.4f}%'.format(K4_PCA_accuracy*100))"
   ]
  },
  {
   "cell_type": "code",
   "execution_count": 138,
   "metadata": {},
   "outputs": [
    {
     "data": {
      "image/png": "[encoded data removed]",
      "text/plain": [
       "<matplotlib.figure.Figure at 0x17a0a5c0>"
      ]
     },
     "metadata": {},
     "output_type": "display_data"
    }
   ],
   "source": [
    "# Try GMMs using different types of covariances. K=4, iteration=200\n",
    "X_train = data_PCA[train_index]\n",
    "y_train = datalist_label[train_index]\n",
    "X_test  = data_PCA[test_index]\n",
    "y_test  = datalist_label[test_index]\n",
    "colors= ['red', 'green', 'blue', 'orange']\n",
    "estimators = dict((cov_type, GaussianMixture(n_components=n_classes,\n",
    "                   covariance_type=cov_type, max_iter=200, random_state=0))\n",
    "                  for cov_type in ['spherical', 'diag', 'tied', 'full'])\n",
    "\n",
    "n_estimators = len(estimators)\n",
    "\n",
    "plt.figure(figsize=(3 * n_estimators // 2, 6))\n",
    "plt.subplots_adjust(bottom=.01, top=0.95, hspace=.15, wspace=.05,\n",
    "                    left=.01, right=.99)\n",
    "for index, (name, estimator) in enumerate(estimators.items()):\n",
    "    # Since we have class labels for the training data, we can\n",
    "    # initialize the GMM parameters in a supervised manner.\n",
    "    estimator.means_init = np.array([X_train[y_train == i].mean(axis=0)\n",
    "                                    for i in range(n_classes)])\n",
    "\n",
    "    # Train the other parameters using the EM algorithm.\n",
    "    estimator.fit(X_train)\n",
    "\n",
    "    h = plt.subplot(2, n_estimators // 2, index + 1)\n",
    "    make_ellipses(estimator, h)\n",
    "\n",
    "    for n, color in enumerate(colors):\n",
    "        data = data_PCA[K4_PCA_label == n]\n",
    "        plt.scatter(data[:, 0], data[:, 1], s=0.8, color=color,\n",
    "                    label=datalist_label_names[n])\n",
    "    # Plot the test data with crosses\n",
    "    for n, color in enumerate(colors):\n",
    "        data = X_test[y_test == n]\n",
    "        plt.scatter(data[:, 0], data[:, 1], marker='x', color=color)\n",
    "\n",
    "    y_train_pred = estimator.predict(X_train)\n",
    "    train_accuracy = np.mean(y_train_pred.ravel() == y_train.ravel()) * 100\n",
    "    plt.text(0.05, 0.9, 'Train accuracy: %.1f' % train_accuracy,\n",
    "             transform=h.transAxes)\n",
    "\n",
    "    y_test_pred = estimator.predict(X_test)\n",
    "    test_accuracy = np.mean(y_test_pred.ravel() == y_test.ravel()) * 100\n",
    "    plt.text(0.05, 0.8, 'Test accuracy: %.1f' % test_accuracy,\n",
    "             transform=h.transAxes)\n",
    "\n",
    "    plt.xticks(())\n",
    "    plt.yticks(())\n",
    "    plt.title(name)\n",
    "\n",
    "plt.legend(scatterpoints=1, loc='lower right', prop=dict(size=12))\n",
    "\n",
    "\n",
    "plt.show()"
   ]
  },
  {
   "cell_type": "code",
   "execution_count": 139,
   "metadata": {
    "collapsed": true
   },
   "outputs": [],
   "source": [
    "# EM K=14, spherical\n",
    "new_component=14\n",
    "cv_type='spherical'\n",
    "gmm = mixture.GaussianMixture(n_components=new_component,\n",
    "                                      covariance_type=cv_type)\n",
    "gmm.fit(data_PCA)\n",
    "datalist_pred = gmm.predict(data_PCA)\n",
    "\n",
    "EM_data['K14_PCA_label']=datalist_pred\n",
    "K14_PCA_label = datalist_pred\n",
    "EM_PCA14_prob = gmm.predict_proba(data_PCA)"
   ]
  },
  {
   "cell_type": "code",
   "execution_count": 140,
   "metadata": {},
   "outputs": [
    {
     "data": {
      "text/html": [
       "<div>\n",
       "<style>\n",
       "    .dataframe thead tr:only-child th {\n",
       "        text-align: right;\n",
       "    }\n",
       "\n",
       "    .dataframe thead th {\n",
       "        text-align: left;\n",
       "    }\n",
       "\n",
       "    .dataframe tbody tr th {\n",
       "        vertical-align: top;\n",
       "    }\n",
       "</style>\n",
       "<table border=\"1\" class=\"dataframe\">\n",
       "  <thead>\n",
       "    <tr style=\"text-align: right;\">\n",
       "      <th>col_0</th>\n",
       "      <th>0</th>\n",
       "      <th>1</th>\n",
       "      <th>2</th>\n",
       "      <th>3</th>\n",
       "      <th>4</th>\n",
       "      <th>5</th>\n",
       "      <th>6</th>\n",
       "      <th>7</th>\n",
       "      <th>8</th>\n",
       "      <th>9</th>\n",
       "      <th>10</th>\n",
       "      <th>11</th>\n",
       "      <th>12</th>\n",
       "      <th>13</th>\n",
       "    </tr>\n",
       "    <tr>\n",
       "      <th>acceptable_label</th>\n",
       "      <th></th>\n",
       "      <th></th>\n",
       "      <th></th>\n",
       "      <th></th>\n",
       "      <th></th>\n",
       "      <th></th>\n",
       "      <th></th>\n",
       "      <th></th>\n",
       "      <th></th>\n",
       "      <th></th>\n",
       "      <th></th>\n",
       "      <th></th>\n",
       "      <th></th>\n",
       "      <th></th>\n",
       "    </tr>\n",
       "  </thead>\n",
       "  <tbody>\n",
       "    <tr>\n",
       "      <th>acc</th>\n",
       "      <td>53</td>\n",
       "      <td>59</td>\n",
       "      <td>0</td>\n",
       "      <td>51</td>\n",
       "      <td>0</td>\n",
       "      <td>0</td>\n",
       "      <td>34</td>\n",
       "      <td>78</td>\n",
       "      <td>39</td>\n",
       "      <td>0</td>\n",
       "      <td>25</td>\n",
       "      <td>0</td>\n",
       "      <td>37</td>\n",
       "      <td>8</td>\n",
       "    </tr>\n",
       "    <tr>\n",
       "      <th>good</th>\n",
       "      <td>15</td>\n",
       "      <td>3</td>\n",
       "      <td>0</td>\n",
       "      <td>9</td>\n",
       "      <td>0</td>\n",
       "      <td>0</td>\n",
       "      <td>2</td>\n",
       "      <td>18</td>\n",
       "      <td>15</td>\n",
       "      <td>0</td>\n",
       "      <td>0</td>\n",
       "      <td>0</td>\n",
       "      <td>7</td>\n",
       "      <td>0</td>\n",
       "    </tr>\n",
       "    <tr>\n",
       "      <th>unacc</th>\n",
       "      <td>62</td>\n",
       "      <td>114</td>\n",
       "      <td>144</td>\n",
       "      <td>74</td>\n",
       "      <td>108</td>\n",
       "      <td>108</td>\n",
       "      <td>68</td>\n",
       "      <td>108</td>\n",
       "      <td>42</td>\n",
       "      <td>108</td>\n",
       "      <td>82</td>\n",
       "      <td>108</td>\n",
       "      <td>56</td>\n",
       "      <td>28</td>\n",
       "    </tr>\n",
       "    <tr>\n",
       "      <th>vgood</th>\n",
       "      <td>14</td>\n",
       "      <td>4</td>\n",
       "      <td>0</td>\n",
       "      <td>10</td>\n",
       "      <td>0</td>\n",
       "      <td>0</td>\n",
       "      <td>4</td>\n",
       "      <td>12</td>\n",
       "      <td>12</td>\n",
       "      <td>0</td>\n",
       "      <td>1</td>\n",
       "      <td>0</td>\n",
       "      <td>8</td>\n",
       "      <td>0</td>\n",
       "    </tr>\n",
       "  </tbody>\n",
       "</table>\n",
       "</div>"
      ],
      "text/plain": [
       "col_0             0    1    2   3    4    5   6    7   8    9   10   11  12  \\\n",
       "acceptable_label                                                              \n",
       "acc               53   59    0  51    0    0  34   78  39    0  25    0  37   \n",
       "good              15    3    0   9    0    0   2   18  15    0   0    0   7   \n",
       "unacc             62  114  144  74  108  108  68  108  42  108  82  108  56   \n",
       "vgood             14    4    0  10    0    0   4   12  12    0   1    0   8   \n",
       "\n",
       "col_0             13  \n",
       "acceptable_label      \n",
       "acc                8  \n",
       "good               0  \n",
       "unacc             28  \n",
       "vgood              0  "
      ]
     },
     "execution_count": 140,
     "metadata": {},
     "output_type": "execute_result"
    }
   ],
   "source": [
    "tb1 = pd.crosstab(EM_data['acceptable_label'],datalist_pred)\n",
    "#data_label.head()\n",
    "tb1"
   ]
  },
  {
   "cell_type": "code",
   "execution_count": 141,
   "metadata": {
    "scrolled": true
   },
   "outputs": [
    {
     "data": {
      "text/html": [
       "<div>\n",
       "<style>\n",
       "    .dataframe thead tr:only-child th {\n",
       "        text-align: right;\n",
       "    }\n",
       "\n",
       "    .dataframe thead th {\n",
       "        text-align: left;\n",
       "    }\n",
       "\n",
       "    .dataframe tbody tr th {\n",
       "        vertical-align: top;\n",
       "    }\n",
       "</style>\n",
       "<table border=\"1\" class=\"dataframe\">\n",
       "  <thead>\n",
       "    <tr style=\"text-align: right;\">\n",
       "      <th></th>\n",
       "      <th>acceptable</th>\n",
       "      <th>acceptable_label</th>\n",
       "      <th>K4_PCA_label</th>\n",
       "      <th>K4_PCA_label_name</th>\n",
       "      <th>K14_PCA_label</th>\n",
       "      <th>K14_PCA_label_name</th>\n",
       "    </tr>\n",
       "  </thead>\n",
       "  <tbody>\n",
       "    <tr>\n",
       "      <th>0</th>\n",
       "      <td>0</td>\n",
       "      <td>unacc</td>\n",
       "      <td>1</td>\n",
       "      <td>unacc</td>\n",
       "      <td>11</td>\n",
       "      <td>unacc</td>\n",
       "    </tr>\n",
       "    <tr>\n",
       "      <th>1</th>\n",
       "      <td>0</td>\n",
       "      <td>unacc</td>\n",
       "      <td>1</td>\n",
       "      <td>unacc</td>\n",
       "      <td>11</td>\n",
       "      <td>unacc</td>\n",
       "    </tr>\n",
       "    <tr>\n",
       "      <th>2</th>\n",
       "      <td>0</td>\n",
       "      <td>unacc</td>\n",
       "      <td>1</td>\n",
       "      <td>unacc</td>\n",
       "      <td>11</td>\n",
       "      <td>unacc</td>\n",
       "    </tr>\n",
       "    <tr>\n",
       "      <th>3</th>\n",
       "      <td>0</td>\n",
       "      <td>unacc</td>\n",
       "      <td>1</td>\n",
       "      <td>unacc</td>\n",
       "      <td>11</td>\n",
       "      <td>unacc</td>\n",
       "    </tr>\n",
       "    <tr>\n",
       "      <th>4</th>\n",
       "      <td>0</td>\n",
       "      <td>unacc</td>\n",
       "      <td>1</td>\n",
       "      <td>unacc</td>\n",
       "      <td>11</td>\n",
       "      <td>unacc</td>\n",
       "    </tr>\n",
       "  </tbody>\n",
       "</table>\n",
       "</div>"
      ],
      "text/plain": [
       "   acceptable acceptable_label  K4_PCA_label K4_PCA_label_name  K14_PCA_label  \\\n",
       "0           0            unacc             1             unacc             11   \n",
       "1           0            unacc             1             unacc             11   \n",
       "2           0            unacc             1             unacc             11   \n",
       "3           0            unacc             1             unacc             11   \n",
       "4           0            unacc             1             unacc             11   \n",
       "\n",
       "  K14_PCA_label_name  \n",
       "0              unacc  \n",
       "1              unacc  \n",
       "2              unacc  \n",
       "3              unacc  \n",
       "4              unacc  "
      ]
     },
     "execution_count": 141,
     "metadata": {},
     "output_type": "execute_result"
    }
   ],
   "source": [
    "#EM: assign test K=14 label\n",
    "\n",
    "EM_data['K14_PCA_label_name']=EM_data['K14_PCA_label'].apply(em_K1_label)\n",
    "EM_data.head()"
   ]
  },
  {
   "cell_type": "code",
   "execution_count": 142,
   "metadata": {},
   "outputs": [
    {
     "name": "stdout",
     "output_type": "stream",
     "text": [
      "K=14 PCA EM -> 70.0231%\n"
     ]
    }
   ],
   "source": [
    "K14_PCA_accuracy = len(EM_data[EM_data['acceptable_label']==EM_data['K14_PCA_label_name']])/len(EM_data)\n",
    "print('K=14 PCA EM -> {0:.4f}%'.format(K14_PCA_accuracy*100))"
   ]
  },
  {
   "cell_type": "code",
   "execution_count": 143,
   "metadata": {},
   "outputs": [
    {
     "data": {
      "text/html": [
       "<div>\n",
       "<style>\n",
       "    .dataframe thead tr:only-child th {\n",
       "        text-align: right;\n",
       "    }\n",
       "\n",
       "    .dataframe thead th {\n",
       "        text-align: left;\n",
       "    }\n",
       "\n",
       "    .dataframe tbody tr th {\n",
       "        vertical-align: top;\n",
       "    }\n",
       "</style>\n",
       "<table border=\"1\" class=\"dataframe\">\n",
       "  <thead>\n",
       "    <tr style=\"text-align: right;\">\n",
       "      <th></th>\n",
       "      <th>PCA1</th>\n",
       "      <th>PCA2</th>\n",
       "      <th>acceptable</th>\n",
       "      <th>acceptable_label</th>\n",
       "    </tr>\n",
       "  </thead>\n",
       "  <tbody>\n",
       "    <tr>\n",
       "      <th>0</th>\n",
       "      <td>1.666667</td>\n",
       "      <td>-2.1</td>\n",
       "      <td>0</td>\n",
       "      <td>unacc</td>\n",
       "    </tr>\n",
       "    <tr>\n",
       "      <th>1</th>\n",
       "      <td>1.666667</td>\n",
       "      <td>-2.1</td>\n",
       "      <td>0</td>\n",
       "      <td>unacc</td>\n",
       "    </tr>\n",
       "    <tr>\n",
       "      <th>2</th>\n",
       "      <td>1.666667</td>\n",
       "      <td>-2.1</td>\n",
       "      <td>0</td>\n",
       "      <td>unacc</td>\n",
       "    </tr>\n",
       "    <tr>\n",
       "      <th>3</th>\n",
       "      <td>1.666667</td>\n",
       "      <td>-2.1</td>\n",
       "      <td>0</td>\n",
       "      <td>unacc</td>\n",
       "    </tr>\n",
       "    <tr>\n",
       "      <th>4</th>\n",
       "      <td>1.666667</td>\n",
       "      <td>-2.1</td>\n",
       "      <td>0</td>\n",
       "      <td>unacc</td>\n",
       "    </tr>\n",
       "  </tbody>\n",
       "</table>\n",
       "</div>"
      ],
      "text/plain": [
       "       PCA1  PCA2  acceptable acceptable_label\n",
       "0  1.666667  -2.1           0            unacc\n",
       "1  1.666667  -2.1           0            unacc\n",
       "2  1.666667  -2.1           0            unacc\n",
       "3  1.666667  -2.1           0            unacc\n",
       "4  1.666667  -2.1           0            unacc"
      ]
     },
     "execution_count": 143,
     "metadata": {},
     "output_type": "execute_result"
    }
   ],
   "source": [
    "#K-means\n",
    "data_PCA_df = pd.DataFrame(data=data_PCA[0:,0:],\n",
    "                   columns=['PCA1','PCA2'])\n",
    "data_PCA_df['acceptable'] = datalist_label\n",
    "data_PCA_df['acceptable_label'] = datalist_names\n",
    "data_PCA_df.head()"
   ]
  },
  {
   "cell_type": "code",
   "execution_count": 173,
   "metadata": {
    "collapsed": true
   },
   "outputs": [],
   "source": [
    "#EM treated for NN\n",
    "#choose EM_PCA4_prob and K14_PCA_label \n",
    "\n",
    "data_PCA_EM_NN_df = pd.DataFrame(data=data_PCA[0:,0:],\n",
    "                   columns=['PCA1','PCA2'])\n",
    "data_PCA_EM_NN_df['PCA14_label'] = EM_data['K14_PCA_label']\n",
    "data_PCA_EM_NN=data_PCA_EM_NN_df.values\n",
    "data_PCA_EM_NN_df.to_csv('data_PCA_EM.csv',  sep=',')\n"
   ]
  },
  {
   "cell_type": "code",
   "execution_count": 145,
   "metadata": {},
   "outputs": [
    {
     "name": "stdout",
     "output_type": "stream",
     "text": [
      "Iteration 1, loss = 1.35131539\n",
      "Iteration 2, loss = 0.85693930\n",
      "Iteration 3, loss = 0.82872789\n",
      "Iteration 4, loss = 0.74654278\n",
      "Iteration 5, loss = 0.70916783\n",
      "Iteration 6, loss = 0.69136157\n",
      "Iteration 7, loss = 0.67861400\n",
      "Iteration 8, loss = 0.67830889\n",
      "Iteration 9, loss = 0.66912407\n",
      "Iteration 10, loss = 0.66424873\n",
      "Iteration 11, loss = 0.66274613\n",
      "Iteration 12, loss = 0.65899079\n",
      "Iteration 13, loss = 0.65834701\n",
      "Iteration 14, loss = 0.65725729\n",
      "Iteration 15, loss = 0.65501191\n",
      "Iteration 16, loss = 0.65605075\n",
      "Iteration 17, loss = 0.65420840\n",
      "Iteration 18, loss = 0.65381341\n",
      "Iteration 19, loss = 0.65409511\n",
      "Iteration 20, loss = 0.65297429\n",
      "Iteration 21, loss = 0.65176008\n",
      "Iteration 22, loss = 0.65277827\n",
      "Iteration 23, loss = 0.65502769\n",
      "Iteration 24, loss = 0.65241260\n",
      "Training loss did not improve more than tol=0.000100 for two consecutive epochs. Stopping.\n",
      "Training set score: 0.700927\n",
      "Training variance:  0.0\n",
      "Test set score: 0.698157\n",
      "Testing variance:  0.0\n",
      "Running Time:  0.12100696563720703\n"
     ]
    }
   ],
   "source": [
    "#NN upon PCA EM K=14 dataset\n",
    "X_train = data_PCA_EM_NN[train_index]\n",
    "y_train = datalist_label[train_index]\n",
    "X_test  = data_PCA_EM_NN[test_index]\n",
    "y_test  = datalist_label[test_index]\n",
    "\n",
    "start_time = time.time()\n",
    "\n",
    "mlp = MLPClassifier(hidden_layer_sizes=(50,10), max_iter=1000, alpha=1e-4,\n",
    "                    solver='sgd', verbose=10, tol=1e-4, random_state=1,\n",
    "                    learning_rate_init=.03)\n",
    "\n",
    "mlp.fit(X_train, y_train)\n",
    "y_train_pred = mlp.predict(X_train)\n",
    "y_test_pred = mlp.predict(X_test)\n",
    "elapsed_time = time.time() - start_time\n",
    "\n",
    "print(\"Training set score: %f\" % mlp.score(X_train, y_train))\n",
    "print (\"Training variance: \", explained_variance_score(y_train, y_train_pred, multioutput='uniform_average'))\n",
    "print(\"Test set score: %f\" % mlp.score(X_test, y_test))\n",
    "print (\"Testing variance: \", explained_variance_score(y_test, y_test_pred, multioutput='uniform_average'))\n",
    "print (\"Running Time: \", elapsed_time)"
   ]
  },
  {
   "cell_type": "code",
   "execution_count": 146,
   "metadata": {},
   "outputs": [
    {
     "data": {
      "text/html": [
       "<div>\n",
       "<style>\n",
       "    .dataframe thead tr:only-child th {\n",
       "        text-align: right;\n",
       "    }\n",
       "\n",
       "    .dataframe thead th {\n",
       "        text-align: left;\n",
       "    }\n",
       "\n",
       "    .dataframe tbody tr th {\n",
       "        vertical-align: top;\n",
       "    }\n",
       "</style>\n",
       "<table border=\"1\" class=\"dataframe\">\n",
       "  <thead>\n",
       "    <tr style=\"text-align: right;\">\n",
       "      <th></th>\n",
       "      <th>PCA1</th>\n",
       "      <th>PCA2</th>\n",
       "      <th>acceptable</th>\n",
       "    </tr>\n",
       "  </thead>\n",
       "  <tbody>\n",
       "    <tr>\n",
       "      <th>count</th>\n",
       "      <td>1.728000e+03</td>\n",
       "      <td>1.728000e+03</td>\n",
       "      <td>1728.000000</td>\n",
       "    </tr>\n",
       "    <tr>\n",
       "      <th>mean</th>\n",
       "      <td>-1.579241e-16</td>\n",
       "      <td>2.544261e-16</td>\n",
       "      <td>0.414931</td>\n",
       "    </tr>\n",
       "    <tr>\n",
       "      <th>std</th>\n",
       "      <td>1.247580e+00</td>\n",
       "      <td>1.118358e+00</td>\n",
       "      <td>0.740700</td>\n",
       "    </tr>\n",
       "    <tr>\n",
       "      <th>min</th>\n",
       "      <td>-1.333333e+00</td>\n",
       "      <td>-2.100000e+00</td>\n",
       "      <td>0.000000</td>\n",
       "    </tr>\n",
       "    <tr>\n",
       "      <th>25%</th>\n",
       "      <td>-1.333333e+00</td>\n",
       "      <td>-7.500000e-01</td>\n",
       "      <td>0.000000</td>\n",
       "    </tr>\n",
       "    <tr>\n",
       "      <th>50%</th>\n",
       "      <td>-3.333333e-01</td>\n",
       "      <td>2.914335e-16</td>\n",
       "      <td>0.000000</td>\n",
       "    </tr>\n",
       "    <tr>\n",
       "      <th>75%</th>\n",
       "      <td>1.666667e+00</td>\n",
       "      <td>7.500000e-01</td>\n",
       "      <td>1.000000</td>\n",
       "    </tr>\n",
       "    <tr>\n",
       "      <th>max</th>\n",
       "      <td>1.666667e+00</td>\n",
       "      <td>2.100000e+00</td>\n",
       "      <td>3.000000</td>\n",
       "    </tr>\n",
       "  </tbody>\n",
       "</table>\n",
       "</div>"
      ],
      "text/plain": [
       "               PCA1          PCA2   acceptable\n",
       "count  1.728000e+03  1.728000e+03  1728.000000\n",
       "mean  -1.579241e-16  2.544261e-16     0.414931\n",
       "std    1.247580e+00  1.118358e+00     0.740700\n",
       "min   -1.333333e+00 -2.100000e+00     0.000000\n",
       "25%   -1.333333e+00 -7.500000e-01     0.000000\n",
       "50%   -3.333333e-01  2.914335e-16     0.000000\n",
       "75%    1.666667e+00  7.500000e-01     1.000000\n",
       "max    1.666667e+00  2.100000e+00     3.000000"
      ]
     },
     "execution_count": 146,
     "metadata": {},
     "output_type": "execute_result"
    }
   ],
   "source": [
    "data_PCA_df.describe()"
   ]
  },
  {
   "cell_type": "code",
   "execution_count": 147,
   "metadata": {},
   "outputs": [
    {
     "data": {
      "text/html": [
       "<div>\n",
       "<style>\n",
       "    .dataframe thead tr:only-child th {\n",
       "        text-align: right;\n",
       "    }\n",
       "\n",
       "    .dataframe thead th {\n",
       "        text-align: left;\n",
       "    }\n",
       "\n",
       "    .dataframe tbody tr th {\n",
       "        vertical-align: top;\n",
       "    }\n",
       "</style>\n",
       "<table border=\"1\" class=\"dataframe\">\n",
       "  <thead>\n",
       "    <tr style=\"text-align: right;\">\n",
       "      <th></th>\n",
       "      <th>PCA1</th>\n",
       "      <th>PCA2</th>\n",
       "    </tr>\n",
       "    <tr>\n",
       "      <th>acceptable_label</th>\n",
       "      <th></th>\n",
       "      <th></th>\n",
       "    </tr>\n",
       "  </thead>\n",
       "  <tbody>\n",
       "    <tr>\n",
       "      <th>acc</th>\n",
       "      <td>-0.817708</td>\n",
       "      <td>0.123437</td>\n",
       "    </tr>\n",
       "    <tr>\n",
       "      <th>good</th>\n",
       "      <td>-0.811594</td>\n",
       "      <td>0.752174</td>\n",
       "    </tr>\n",
       "    <tr>\n",
       "      <th>unacc</th>\n",
       "      <td>0.352617</td>\n",
       "      <td>-0.116198</td>\n",
       "    </tr>\n",
       "    <tr>\n",
       "      <th>vgood</th>\n",
       "      <td>-0.871795</td>\n",
       "      <td>0.635385</td>\n",
       "    </tr>\n",
       "  </tbody>\n",
       "</table>\n",
       "</div>"
      ],
      "text/plain": [
       "                      PCA1      PCA2\n",
       "acceptable_label                    \n",
       "acc              -0.817708  0.123437\n",
       "good             -0.811594  0.752174\n",
       "unacc             0.352617 -0.116198\n",
       "vgood            -0.871795  0.635385"
      ]
     },
     "execution_count": 147,
     "metadata": {},
     "output_type": "execute_result"
    }
   ],
   "source": [
    "data_PCA_df.pivot_table(index='acceptable_label', values=['PCA1','PCA2'],aggfunc=np.mean)"
   ]
  },
  {
   "cell_type": "code",
   "execution_count": 148,
   "metadata": {},
   "outputs": [
    {
     "data": {
      "text/html": [
       "<div>\n",
       "<style>\n",
       "    .dataframe thead tr:only-child th {\n",
       "        text-align: right;\n",
       "    }\n",
       "\n",
       "    .dataframe thead th {\n",
       "        text-align: left;\n",
       "    }\n",
       "\n",
       "    .dataframe tbody tr th {\n",
       "        vertical-align: top;\n",
       "    }\n",
       "</style>\n",
       "<table border=\"1\" class=\"dataframe\">\n",
       "  <thead>\n",
       "    <tr style=\"text-align: right;\">\n",
       "      <th></th>\n",
       "      <th>PCA1</th>\n",
       "      <th>PCA2</th>\n",
       "      <th>acceptable</th>\n",
       "    </tr>\n",
       "  </thead>\n",
       "  <tbody>\n",
       "    <tr>\n",
       "      <th>PCA1</th>\n",
       "      <td>1.000000e+00</td>\n",
       "      <td>4.605693e-16</td>\n",
       "      <td>-0.373459</td>\n",
       "    </tr>\n",
       "    <tr>\n",
       "      <th>PCA2</th>\n",
       "      <td>4.605693e-16</td>\n",
       "      <td>1.000000e+00</td>\n",
       "      <td>0.192298</td>\n",
       "    </tr>\n",
       "    <tr>\n",
       "      <th>acceptable</th>\n",
       "      <td>-3.734592e-01</td>\n",
       "      <td>1.922982e-01</td>\n",
       "      <td>1.000000</td>\n",
       "    </tr>\n",
       "  </tbody>\n",
       "</table>\n",
       "</div>"
      ],
      "text/plain": [
       "                    PCA1          PCA2  acceptable\n",
       "PCA1        1.000000e+00  4.605693e-16   -0.373459\n",
       "PCA2        4.605693e-16  1.000000e+00    0.192298\n",
       "acceptable -3.734592e-01  1.922982e-01    1.000000"
      ]
     },
     "execution_count": 148,
     "metadata": {},
     "output_type": "execute_result"
    }
   ],
   "source": [
    "d_corr_PCA1=data_PCA_df.iloc[:,[0,1,2]].corr()\n",
    "d_corr_PCA1\n",
    "#acceptable related to safety most, for features only lug_boot related to persons"
   ]
  },
  {
   "cell_type": "code",
   "execution_count": 149,
   "metadata": {},
   "outputs": [
    {
     "data": {
      "image/png": "[encoded data removed]",
      "text/plain": [
       "<matplotlib.figure.Figure at 0x15d66240>"
      ]
     },
     "metadata": {},
     "output_type": "display_data"
    }
   ],
   "source": [
    "sns.set_style('whitegrid')\n",
    "sns.pairplot(data_PCA_df.iloc[:,[0,1,2,3]], hue='acceptable_label')\n",
    "plt.show()"
   ]
  },
  {
   "cell_type": "code",
   "execution_count": 150,
   "metadata": {},
   "outputs": [
    {
     "data": {
      "image/png": "[encoded data removed]",
      "text/plain": [
       "<matplotlib.figure.Figure at 0x15d4ea20>"
      ]
     },
     "metadata": {},
     "output_type": "display_data"
    }
   ],
   "source": [
    "sns.set_style('whitegrid')\n",
    "plt.figure(figsize=(15,6))\n",
    "mask = np.zeros_like(d_corr_PCA1, dtype=np.bool)\n",
    "mask[np.triu_indices_from(mask)] = True\n",
    "cmap = sns.diverging_palette(220, 10, as_cmap=True)\n",
    "sns.heatmap(d_corr_PCA1,mask=mask, cmap=cmap, vmax=.3,\n",
    "            square=True,\n",
    "            linewidths=.5, cbar_kws={\"shrink\": .5})\n",
    "plt.show()"
   ]
  },
  {
   "cell_type": "code",
   "execution_count": 151,
   "metadata": {},
   "outputs": [
    {
     "data": {
      "image/png": "[encoded data removed]",
      "text/plain": [
       "<matplotlib.figure.Figure at 0x17cb15c0>"
      ]
     },
     "metadata": {},
     "output_type": "display_data"
    }
   ],
   "source": [
    "#K=4 K-means\n",
    "kmeans_model_1 = KMeans(n_clusters=4,random_state=123)\n",
    "distances_1 = kmeans_model_1.fit_transform(data_PCA_df.iloc[:,0:2])\n",
    "labels_1 = kmeans_model_1.labels_\n",
    "data_PCA_df['cluster_1']=labels_1\n",
    "with sns.color_palette(\"Set2\", 10):\n",
    "    sns.pairplot(data_PCA_df.iloc[:,[0,1,4]], hue='cluster_1')"
   ]
  },
  {
   "cell_type": "code",
   "execution_count": 152,
   "metadata": {},
   "outputs": [
    {
     "data": {
      "text/html": [
       "<div>\n",
       "<style>\n",
       "    .dataframe thead tr:only-child th {\n",
       "        text-align: right;\n",
       "    }\n",
       "\n",
       "    .dataframe thead th {\n",
       "        text-align: left;\n",
       "    }\n",
       "\n",
       "    .dataframe tbody tr th {\n",
       "        vertical-align: top;\n",
       "    }\n",
       "</style>\n",
       "<table border=\"1\" class=\"dataframe\">\n",
       "  <thead>\n",
       "    <tr style=\"text-align: right;\">\n",
       "      <th>col_0</th>\n",
       "      <th>0</th>\n",
       "      <th>1</th>\n",
       "      <th>2</th>\n",
       "      <th>3</th>\n",
       "    </tr>\n",
       "    <tr>\n",
       "      <th>acceptable_label</th>\n",
       "      <th></th>\n",
       "      <th></th>\n",
       "      <th></th>\n",
       "      <th></th>\n",
       "    </tr>\n",
       "  </thead>\n",
       "  <tbody>\n",
       "    <tr>\n",
       "      <th>acc</th>\n",
       "      <td>208</td>\n",
       "      <td>0</td>\n",
       "      <td>0</td>\n",
       "      <td>176</td>\n",
       "    </tr>\n",
       "    <tr>\n",
       "      <th>good</th>\n",
       "      <td>48</td>\n",
       "      <td>0</td>\n",
       "      <td>0</td>\n",
       "      <td>21</td>\n",
       "    </tr>\n",
       "    <tr>\n",
       "      <th>unacc</th>\n",
       "      <td>274</td>\n",
       "      <td>324</td>\n",
       "      <td>252</td>\n",
       "      <td>360</td>\n",
       "    </tr>\n",
       "    <tr>\n",
       "      <th>vgood</th>\n",
       "      <td>46</td>\n",
       "      <td>0</td>\n",
       "      <td>0</td>\n",
       "      <td>19</td>\n",
       "    </tr>\n",
       "  </tbody>\n",
       "</table>\n",
       "</div>"
      ],
      "text/plain": [
       "col_0               0    1    2    3\n",
       "acceptable_label                    \n",
       "acc               208    0    0  176\n",
       "good               48    0    0   21\n",
       "unacc             274  324  252  360\n",
       "vgood              46    0    0   19"
      ]
     },
     "execution_count": 152,
     "metadata": {},
     "output_type": "execute_result"
    }
   ],
   "source": [
    "#statistics of acceptable_label cluster_1 vs species\n",
    "tb1 = pd.crosstab(data_PCA_df['acceptable_label'],labels_1)\n",
    "tb1"
   ]
  },
  {
   "cell_type": "code",
   "execution_count": 153,
   "metadata": {},
   "outputs": [
    {
     "data": {
      "text/html": [
       "<div>\n",
       "<style>\n",
       "    .dataframe thead tr:only-child th {\n",
       "        text-align: right;\n",
       "    }\n",
       "\n",
       "    .dataframe thead th {\n",
       "        text-align: left;\n",
       "    }\n",
       "\n",
       "    .dataframe tbody tr th {\n",
       "        vertical-align: top;\n",
       "    }\n",
       "</style>\n",
       "<table border=\"1\" class=\"dataframe\">\n",
       "  <thead>\n",
       "    <tr style=\"text-align: right;\">\n",
       "      <th></th>\n",
       "      <th>PCA1</th>\n",
       "      <th>PCA2</th>\n",
       "      <th>acceptable</th>\n",
       "      <th>acceptable_label</th>\n",
       "      <th>cluster_1</th>\n",
       "      <th>cluster_1_label</th>\n",
       "    </tr>\n",
       "  </thead>\n",
       "  <tbody>\n",
       "    <tr>\n",
       "      <th>0</th>\n",
       "      <td>1.666667</td>\n",
       "      <td>-2.1</td>\n",
       "      <td>0</td>\n",
       "      <td>unacc</td>\n",
       "      <td>2</td>\n",
       "      <td>unacc</td>\n",
       "    </tr>\n",
       "    <tr>\n",
       "      <th>1</th>\n",
       "      <td>1.666667</td>\n",
       "      <td>-2.1</td>\n",
       "      <td>0</td>\n",
       "      <td>unacc</td>\n",
       "      <td>2</td>\n",
       "      <td>unacc</td>\n",
       "    </tr>\n",
       "    <tr>\n",
       "      <th>2</th>\n",
       "      <td>1.666667</td>\n",
       "      <td>-2.1</td>\n",
       "      <td>0</td>\n",
       "      <td>unacc</td>\n",
       "      <td>2</td>\n",
       "      <td>unacc</td>\n",
       "    </tr>\n",
       "    <tr>\n",
       "      <th>3</th>\n",
       "      <td>1.666667</td>\n",
       "      <td>-2.1</td>\n",
       "      <td>0</td>\n",
       "      <td>unacc</td>\n",
       "      <td>2</td>\n",
       "      <td>unacc</td>\n",
       "    </tr>\n",
       "    <tr>\n",
       "      <th>4</th>\n",
       "      <td>1.666667</td>\n",
       "      <td>-2.1</td>\n",
       "      <td>0</td>\n",
       "      <td>unacc</td>\n",
       "      <td>2</td>\n",
       "      <td>unacc</td>\n",
       "    </tr>\n",
       "  </tbody>\n",
       "</table>\n",
       "</div>"
      ],
      "text/plain": [
       "       PCA1  PCA2  acceptable acceptable_label  cluster_1 cluster_1_label\n",
       "0  1.666667  -2.1           0            unacc          2           unacc\n",
       "1  1.666667  -2.1           0            unacc          2           unacc\n",
       "2  1.666667  -2.1           0            unacc          2           unacc\n",
       "3  1.666667  -2.1           0            unacc          2           unacc\n",
       "4  1.666667  -2.1           0            unacc          2           unacc"
      ]
     },
     "execution_count": 153,
     "metadata": {},
     "output_type": "execute_result"
    }
   ],
   "source": [
    "#PCA cluster_1_label\n",
    "def cluster_1_label(alpha):\n",
    "    label_max = max(tb1.iloc[i,alpha] for i in range(4))\n",
    "    if tb1.iloc[0,alpha] == label_max:\n",
    "        return 'acc'\n",
    "    if tb1.iloc[1,alpha] == label_max:\n",
    "        return 'good'\n",
    "    if tb1.iloc[2,alpha] == label_max:\n",
    "        return 'unacc'\n",
    "    if tb1.iloc[3,alpha] == label_max:\n",
    "        return 'vgood'\n",
    "data_PCA_df['cluster_1_label']=data_PCA_df['cluster_1'].apply(cluster_1_label)\n",
    "data_PCA_df.head()"
   ]
  },
  {
   "cell_type": "code",
   "execution_count": 154,
   "metadata": {
    "scrolled": true
   },
   "outputs": [
    {
     "data": {
      "image/png": "[encoded data removed]",
      "text/plain": [
       "<matplotlib.figure.Figure at 0x15dce898>"
      ]
     },
     "metadata": {},
     "output_type": "display_data"
    }
   ],
   "source": [
    "#K=40\n",
    "kmeans_model_4 = KMeans(n_clusters=40,random_state=123)\n",
    "distances_4 = kmeans_model_4.fit_transform(data_PCA_df.iloc[:,0:2])\n",
    "labels_4 = kmeans_model_4.labels_\n",
    "data_PCA_df['cluster_4']=labels_4\n",
    "with sns.color_palette(\"Set2\", 10):\n",
    "    sns.pairplot(data_PCA_df.iloc[:,[0,1,6]], hue='cluster_4')"
   ]
  },
  {
   "cell_type": "code",
   "execution_count": 155,
   "metadata": {},
   "outputs": [
    {
     "data": {
      "text/html": [
       "<div>\n",
       "<style>\n",
       "    .dataframe thead tr:only-child th {\n",
       "        text-align: right;\n",
       "    }\n",
       "\n",
       "    .dataframe thead th {\n",
       "        text-align: left;\n",
       "    }\n",
       "\n",
       "    .dataframe tbody tr th {\n",
       "        vertical-align: top;\n",
       "    }\n",
       "</style>\n",
       "<table border=\"1\" class=\"dataframe\">\n",
       "  <thead>\n",
       "    <tr style=\"text-align: right;\">\n",
       "      <th></th>\n",
       "      <th>PCA1</th>\n",
       "      <th>PCA2</th>\n",
       "      <th>acceptable</th>\n",
       "      <th>acceptable_label</th>\n",
       "      <th>cluster_1</th>\n",
       "      <th>cluster_1_label</th>\n",
       "      <th>cluster_4</th>\n",
       "    </tr>\n",
       "  </thead>\n",
       "  <tbody>\n",
       "    <tr>\n",
       "      <th>0</th>\n",
       "      <td>1.666667</td>\n",
       "      <td>-2.1</td>\n",
       "      <td>0</td>\n",
       "      <td>unacc</td>\n",
       "      <td>2</td>\n",
       "      <td>unacc</td>\n",
       "      <td>11</td>\n",
       "    </tr>\n",
       "    <tr>\n",
       "      <th>1</th>\n",
       "      <td>1.666667</td>\n",
       "      <td>-2.1</td>\n",
       "      <td>0</td>\n",
       "      <td>unacc</td>\n",
       "      <td>2</td>\n",
       "      <td>unacc</td>\n",
       "      <td>11</td>\n",
       "    </tr>\n",
       "    <tr>\n",
       "      <th>2</th>\n",
       "      <td>1.666667</td>\n",
       "      <td>-2.1</td>\n",
       "      <td>0</td>\n",
       "      <td>unacc</td>\n",
       "      <td>2</td>\n",
       "      <td>unacc</td>\n",
       "      <td>11</td>\n",
       "    </tr>\n",
       "    <tr>\n",
       "      <th>3</th>\n",
       "      <td>1.666667</td>\n",
       "      <td>-2.1</td>\n",
       "      <td>0</td>\n",
       "      <td>unacc</td>\n",
       "      <td>2</td>\n",
       "      <td>unacc</td>\n",
       "      <td>11</td>\n",
       "    </tr>\n",
       "    <tr>\n",
       "      <th>4</th>\n",
       "      <td>1.666667</td>\n",
       "      <td>-2.1</td>\n",
       "      <td>0</td>\n",
       "      <td>unacc</td>\n",
       "      <td>2</td>\n",
       "      <td>unacc</td>\n",
       "      <td>11</td>\n",
       "    </tr>\n",
       "  </tbody>\n",
       "</table>\n",
       "</div>"
      ],
      "text/plain": [
       "       PCA1  PCA2  acceptable acceptable_label  cluster_1 cluster_1_label  \\\n",
       "0  1.666667  -2.1           0            unacc          2           unacc   \n",
       "1  1.666667  -2.1           0            unacc          2           unacc   \n",
       "2  1.666667  -2.1           0            unacc          2           unacc   \n",
       "3  1.666667  -2.1           0            unacc          2           unacc   \n",
       "4  1.666667  -2.1           0            unacc          2           unacc   \n",
       "\n",
       "   cluster_4  \n",
       "0         11  \n",
       "1         11  \n",
       "2         11  \n",
       "3         11  \n",
       "4         11  "
      ]
     },
     "execution_count": 155,
     "metadata": {},
     "output_type": "execute_result"
    }
   ],
   "source": [
    "data_PCA_df.head()"
   ]
  },
  {
   "cell_type": "code",
   "execution_count": 156,
   "metadata": {
    "scrolled": true
   },
   "outputs": [
    {
     "data": {
      "text/html": [
       "<div>\n",
       "<style>\n",
       "    .dataframe thead tr:only-child th {\n",
       "        text-align: right;\n",
       "    }\n",
       "\n",
       "    .dataframe thead th {\n",
       "        text-align: left;\n",
       "    }\n",
       "\n",
       "    .dataframe tbody tr th {\n",
       "        vertical-align: top;\n",
       "    }\n",
       "</style>\n",
       "<table border=\"1\" class=\"dataframe\">\n",
       "  <thead>\n",
       "    <tr style=\"text-align: right;\">\n",
       "      <th>col_0</th>\n",
       "      <th>0</th>\n",
       "      <th>1</th>\n",
       "      <th>2</th>\n",
       "      <th>3</th>\n",
       "      <th>4</th>\n",
       "      <th>5</th>\n",
       "      <th>6</th>\n",
       "      <th>7</th>\n",
       "      <th>8</th>\n",
       "      <th>9</th>\n",
       "      <th>...</th>\n",
       "      <th>30</th>\n",
       "      <th>31</th>\n",
       "      <th>32</th>\n",
       "      <th>33</th>\n",
       "      <th>34</th>\n",
       "      <th>35</th>\n",
       "      <th>36</th>\n",
       "      <th>37</th>\n",
       "      <th>38</th>\n",
       "      <th>39</th>\n",
       "    </tr>\n",
       "    <tr>\n",
       "      <th>acceptable_label</th>\n",
       "      <th></th>\n",
       "      <th></th>\n",
       "      <th></th>\n",
       "      <th></th>\n",
       "      <th></th>\n",
       "      <th></th>\n",
       "      <th></th>\n",
       "      <th></th>\n",
       "      <th></th>\n",
       "      <th></th>\n",
       "      <th></th>\n",
       "      <th></th>\n",
       "      <th></th>\n",
       "      <th></th>\n",
       "      <th></th>\n",
       "      <th></th>\n",
       "      <th></th>\n",
       "      <th></th>\n",
       "      <th></th>\n",
       "      <th></th>\n",
       "      <th></th>\n",
       "    </tr>\n",
       "  </thead>\n",
       "  <tbody>\n",
       "    <tr>\n",
       "      <th>acc</th>\n",
       "      <td>27</td>\n",
       "      <td>21</td>\n",
       "      <td>0</td>\n",
       "      <td>0</td>\n",
       "      <td>14</td>\n",
       "      <td>24</td>\n",
       "      <td>6</td>\n",
       "      <td>0</td>\n",
       "      <td>15</td>\n",
       "      <td>12</td>\n",
       "      <td>...</td>\n",
       "      <td>10</td>\n",
       "      <td>0</td>\n",
       "      <td>12</td>\n",
       "      <td>0</td>\n",
       "      <td>14</td>\n",
       "      <td>10</td>\n",
       "      <td>0</td>\n",
       "      <td>0</td>\n",
       "      <td>12</td>\n",
       "      <td>0</td>\n",
       "    </tr>\n",
       "    <tr>\n",
       "      <th>good</th>\n",
       "      <td>9</td>\n",
       "      <td>0</td>\n",
       "      <td>0</td>\n",
       "      <td>0</td>\n",
       "      <td>0</td>\n",
       "      <td>0</td>\n",
       "      <td>0</td>\n",
       "      <td>0</td>\n",
       "      <td>3</td>\n",
       "      <td>6</td>\n",
       "      <td>...</td>\n",
       "      <td>0</td>\n",
       "      <td>0</td>\n",
       "      <td>6</td>\n",
       "      <td>0</td>\n",
       "      <td>0</td>\n",
       "      <td>2</td>\n",
       "      <td>0</td>\n",
       "      <td>0</td>\n",
       "      <td>6</td>\n",
       "      <td>0</td>\n",
       "    </tr>\n",
       "    <tr>\n",
       "      <th>unacc</th>\n",
       "      <td>30</td>\n",
       "      <td>50</td>\n",
       "      <td>36</td>\n",
       "      <td>72</td>\n",
       "      <td>20</td>\n",
       "      <td>46</td>\n",
       "      <td>30</td>\n",
       "      <td>36</td>\n",
       "      <td>14</td>\n",
       "      <td>14</td>\n",
       "      <td>...</td>\n",
       "      <td>26</td>\n",
       "      <td>36</td>\n",
       "      <td>14</td>\n",
       "      <td>36</td>\n",
       "      <td>20</td>\n",
       "      <td>22</td>\n",
       "      <td>36</td>\n",
       "      <td>36</td>\n",
       "      <td>16</td>\n",
       "      <td>36</td>\n",
       "    </tr>\n",
       "    <tr>\n",
       "      <th>vgood</th>\n",
       "      <td>6</td>\n",
       "      <td>1</td>\n",
       "      <td>0</td>\n",
       "      <td>0</td>\n",
       "      <td>2</td>\n",
       "      <td>2</td>\n",
       "      <td>0</td>\n",
       "      <td>0</td>\n",
       "      <td>4</td>\n",
       "      <td>4</td>\n",
       "      <td>...</td>\n",
       "      <td>0</td>\n",
       "      <td>0</td>\n",
       "      <td>4</td>\n",
       "      <td>0</td>\n",
       "      <td>2</td>\n",
       "      <td>2</td>\n",
       "      <td>0</td>\n",
       "      <td>0</td>\n",
       "      <td>2</td>\n",
       "      <td>0</td>\n",
       "    </tr>\n",
       "  </tbody>\n",
       "</table>\n",
       "<p>4 rows × 40 columns</p>\n",
       "</div>"
      ],
      "text/plain": [
       "col_0             0   1   2   3   4   5   6   7   8   9  ...  30  31  32  33  \\\n",
       "acceptable_label                                         ...                   \n",
       "acc               27  21   0   0  14  24   6   0  15  12 ...  10   0  12   0   \n",
       "good               9   0   0   0   0   0   0   0   3   6 ...   0   0   6   0   \n",
       "unacc             30  50  36  72  20  46  30  36  14  14 ...  26  36  14  36   \n",
       "vgood              6   1   0   0   2   2   0   0   4   4 ...   0   0   4   0   \n",
       "\n",
       "col_0             34  35  36  37  38  39  \n",
       "acceptable_label                          \n",
       "acc               14  10   0   0  12   0  \n",
       "good               0   2   0   0   6   0  \n",
       "unacc             20  22  36  36  16  36  \n",
       "vgood              2   2   0   0   2   0  \n",
       "\n",
       "[4 rows x 40 columns]"
      ]
     },
     "execution_count": 156,
     "metadata": {},
     "output_type": "execute_result"
    }
   ],
   "source": [
    "#compare labels K=40\n",
    "tb1 = pd.crosstab(data_PCA_df['acceptable_label'],labels_4)\n",
    "tb1"
   ]
  },
  {
   "cell_type": "code",
   "execution_count": 157,
   "metadata": {
    "collapsed": true
   },
   "outputs": [],
   "source": [
    "data_PCA_df['cluster_4_label']=data_PCA_df['cluster_4'].apply(cluster_1_label)\n"
   ]
  },
  {
   "cell_type": "code",
   "execution_count": 158,
   "metadata": {
    "scrolled": true
   },
   "outputs": [
    {
     "name": "stdout",
     "output_type": "stream",
     "text": [
      "[[-0.83333333  0.925     ]\n",
      " [ 1.66666667  0.81111111]\n",
      " [ 1.66666667 -1.04285714]\n",
      " [-0.83333333 -0.925     ]]\n"
     ]
    }
   ],
   "source": [
    "#find center of K-means=4\n",
    "centroids_PCA1 = kmeans_model_1.cluster_centers_\n",
    "print (centroids_PCA1)"
   ]
  },
  {
   "cell_type": "code",
   "execution_count": 159,
   "metadata": {
    "collapsed": true
   },
   "outputs": [],
   "source": [
    "#find center of K-means=40\n",
    "centroids_PCA4 = kmeans_model_4.cluster_centers_"
   ]
  },
  {
   "cell_type": "code",
   "execution_count": 160,
   "metadata": {
    "scrolled": true
   },
   "outputs": [
    {
     "data": {
      "text/html": [
       "<div>\n",
       "<style>\n",
       "    .dataframe thead tr:only-child th {\n",
       "        text-align: right;\n",
       "    }\n",
       "\n",
       "    .dataframe thead th {\n",
       "        text-align: left;\n",
       "    }\n",
       "\n",
       "    .dataframe tbody tr th {\n",
       "        vertical-align: top;\n",
       "    }\n",
       "</style>\n",
       "<table border=\"1\" class=\"dataframe\">\n",
       "  <thead>\n",
       "    <tr style=\"text-align: right;\">\n",
       "      <th></th>\n",
       "      <th>PCA1</th>\n",
       "      <th>PCA2</th>\n",
       "      <th>acceptable</th>\n",
       "      <th>acceptable_label</th>\n",
       "      <th>cluster_1</th>\n",
       "      <th>cluster_1_label</th>\n",
       "      <th>cluster_4</th>\n",
       "      <th>cluster_4_label</th>\n",
       "    </tr>\n",
       "  </thead>\n",
       "  <tbody>\n",
       "    <tr>\n",
       "      <th>0</th>\n",
       "      <td>1.666667</td>\n",
       "      <td>-2.1</td>\n",
       "      <td>0</td>\n",
       "      <td>unacc</td>\n",
       "      <td>2</td>\n",
       "      <td>unacc</td>\n",
       "      <td>11</td>\n",
       "      <td>unacc</td>\n",
       "    </tr>\n",
       "    <tr>\n",
       "      <th>1</th>\n",
       "      <td>1.666667</td>\n",
       "      <td>-2.1</td>\n",
       "      <td>0</td>\n",
       "      <td>unacc</td>\n",
       "      <td>2</td>\n",
       "      <td>unacc</td>\n",
       "      <td>11</td>\n",
       "      <td>unacc</td>\n",
       "    </tr>\n",
       "    <tr>\n",
       "      <th>2</th>\n",
       "      <td>1.666667</td>\n",
       "      <td>-2.1</td>\n",
       "      <td>0</td>\n",
       "      <td>unacc</td>\n",
       "      <td>2</td>\n",
       "      <td>unacc</td>\n",
       "      <td>11</td>\n",
       "      <td>unacc</td>\n",
       "    </tr>\n",
       "    <tr>\n",
       "      <th>3</th>\n",
       "      <td>1.666667</td>\n",
       "      <td>-2.1</td>\n",
       "      <td>0</td>\n",
       "      <td>unacc</td>\n",
       "      <td>2</td>\n",
       "      <td>unacc</td>\n",
       "      <td>11</td>\n",
       "      <td>unacc</td>\n",
       "    </tr>\n",
       "    <tr>\n",
       "      <th>4</th>\n",
       "      <td>1.666667</td>\n",
       "      <td>-2.1</td>\n",
       "      <td>0</td>\n",
       "      <td>unacc</td>\n",
       "      <td>2</td>\n",
       "      <td>unacc</td>\n",
       "      <td>11</td>\n",
       "      <td>unacc</td>\n",
       "    </tr>\n",
       "  </tbody>\n",
       "</table>\n",
       "</div>"
      ],
      "text/plain": [
       "       PCA1  PCA2  acceptable acceptable_label  cluster_1 cluster_1_label  \\\n",
       "0  1.666667  -2.1           0            unacc          2           unacc   \n",
       "1  1.666667  -2.1           0            unacc          2           unacc   \n",
       "2  1.666667  -2.1           0            unacc          2           unacc   \n",
       "3  1.666667  -2.1           0            unacc          2           unacc   \n",
       "4  1.666667  -2.1           0            unacc          2           unacc   \n",
       "\n",
       "   cluster_4 cluster_4_label  \n",
       "0         11           unacc  \n",
       "1         11           unacc  \n",
       "2         11           unacc  \n",
       "3         11           unacc  \n",
       "4         11           unacc  "
      ]
     },
     "execution_count": 160,
     "metadata": {},
     "output_type": "execute_result"
    }
   ],
   "source": [
    "data_PCA_df.head()"
   ]
  },
  {
   "cell_type": "code",
   "execution_count": 51,
   "metadata": {
    "scrolled": true
   },
   "outputs": [
    {
     "data": {
      "image/png": "[encoded data removed]",
      "text/plain": [
       "<matplotlib.figure.Figure at 0x180cf668>"
      ]
     },
     "metadata": {},
     "output_type": "display_data"
    }
   ],
   "source": [
    "import matplotlib.pyplot as plt\n",
    "from matplotlib import style\n",
    "style.use(\"ggplot\")\n",
    "colors = [\"g.\", \"r.\", \"b.\", \"y\"]\n",
    "for i in range(len(data_PCA_df)):\n",
    "    plt.plot(data_PCA_df.iloc[i,0],data_PCA_df.iloc[i,1], colors[data_PCA_df.iloc[i,2]], markersize = 10)    \n",
    "plt.scatter(centroids_PCA1[:,0], centroids_PCA1[:,1],marker=\"x\", s=150, linewidths =5, zorder=10)\n",
    "plt.xlabel('PCA1')\n",
    "plt.ylabel('PCA2')\n",
    "plt.show()\n"
   ]
  },
  {
   "cell_type": "code",
   "execution_count": 52,
   "metadata": {},
   "outputs": [
    {
     "data": {
      "image/png": "[encoded data removed]",
      "text/plain": [
       "<matplotlib.figure.Figure at 0x6ef6198>"
      ]
     },
     "metadata": {},
     "output_type": "display_data"
    }
   ],
   "source": [
    "style.use(\"ggplot\")\n",
    "colors = [\"g.\", \"r.\", \"b.\", \"y.\", \"c.\", \"m.\", \"k.\", \"w.\",\n",
    "          \"g.\", \"r.\", \"b.\", \"y.\", \"c.\", \"m.\", \"k.\", \"w.\",\n",
    "          \"g.\", \"r.\", \"b.\", \"y.\", \"c.\", \"m.\", \"k.\", \"w.\",\n",
    "          \"g.\", \"r.\", \"b.\", \"y.\", \"c.\", \"m.\", \"k.\", \"w.\",\n",
    "          \"g.\", \"r.\", \"b.\", \"y.\", \"c.\", \"m.\", \"k.\", \"w.\"]\n",
    "for i in range(len(data_PCA_df)):\n",
    "    plt.plot(data_PCA_df.iloc[i,0],data_PCA_df.iloc[i,1], colors[data_PCA_df.iloc[i,2]], markersize = 10)    \n",
    "plt.scatter(centroids_PCA4[:,0], centroids_PCA4[:,1],marker=\"x\", s=150, linewidths =5, zorder=10)\n",
    "plt.xlabel('PCA1')\n",
    "plt.ylabel('PCA2')\n",
    "plt.show()\n"
   ]
  },
  {
   "cell_type": "code",
   "execution_count": 161,
   "metadata": {},
   "outputs": [
    {
     "data": {
      "text/html": [
       "<div>\n",
       "<style>\n",
       "    .dataframe thead tr:only-child th {\n",
       "        text-align: right;\n",
       "    }\n",
       "\n",
       "    .dataframe thead th {\n",
       "        text-align: left;\n",
       "    }\n",
       "\n",
       "    .dataframe tbody tr th {\n",
       "        vertical-align: top;\n",
       "    }\n",
       "</style>\n",
       "<table border=\"1\" class=\"dataframe\">\n",
       "  <thead>\n",
       "    <tr style=\"text-align: right;\">\n",
       "      <th></th>\n",
       "      <th>PCA1</th>\n",
       "      <th>PCA2</th>\n",
       "      <th>cluster_1</th>\n",
       "    </tr>\n",
       "  </thead>\n",
       "  <tbody>\n",
       "    <tr>\n",
       "      <th>PCA1</th>\n",
       "      <td>1.000000e+00</td>\n",
       "      <td>4.605693e-16</td>\n",
       "      <td>-0.022128</td>\n",
       "    </tr>\n",
       "    <tr>\n",
       "      <th>PCA2</th>\n",
       "      <td>4.605693e-16</td>\n",
       "      <td>1.000000e+00</td>\n",
       "      <td>-0.765716</td>\n",
       "    </tr>\n",
       "    <tr>\n",
       "      <th>cluster_1</th>\n",
       "      <td>-2.212779e-02</td>\n",
       "      <td>-7.657159e-01</td>\n",
       "      <td>1.000000</td>\n",
       "    </tr>\n",
       "  </tbody>\n",
       "</table>\n",
       "</div>"
      ],
      "text/plain": [
       "                   PCA1          PCA2  cluster_1\n",
       "PCA1       1.000000e+00  4.605693e-16  -0.022128\n",
       "PCA2       4.605693e-16  1.000000e+00  -0.765716\n",
       "cluster_1 -2.212779e-02 -7.657159e-01   1.000000"
      ]
     },
     "execution_count": 161,
     "metadata": {},
     "output_type": "execute_result"
    }
   ],
   "source": [
    "d_corr_PCA2=data_PCA_df.iloc[:,[0,1,4]].corr()\n",
    "d_corr_PCA2\n",
    "#lug_boot and persons"
   ]
  },
  {
   "cell_type": "code",
   "execution_count": 162,
   "metadata": {},
   "outputs": [
    {
     "name": "stdout",
     "output_type": "stream",
     "text": [
      "K=4 KMeans -> 70.0231%\n",
      "K=40 KMeans -> 70.1389%\n"
     ]
    }
   ],
   "source": [
    "cluster_1_accuracy = len(data_PCA_df[data_PCA_df['acceptable_label']==data_PCA_df['cluster_1_label']])/len(data_PCA_df)\n",
    "cluster_4_accuracy = len(data_PCA_df[data_PCA_df['acceptable_label']==data_PCA_df['cluster_4_label']])/len(data_PCA_df)\n",
    "print('K=4 KMeans -> {0:.4f}%'.format(cluster_1_accuracy*100))\n",
    "print('K=40 KMeans -> {0:.4f}%'.format(cluster_4_accuracy*100))"
   ]
  },
  {
   "cell_type": "code",
   "execution_count": 172,
   "metadata": {
    "collapsed": true
   },
   "outputs": [],
   "source": [
    "#K-Means treated for NN\n",
    "#choose PCA and K40_PCA_label \n",
    "\n",
    "data_PCA_KM_NN_df = pd.DataFrame(data=data_PCA[0:,0:],\n",
    "                   columns=['PCA1','PCA2'])\n",
    "data_PCA_KM_NN_df['PCA_40_label'] = data_PCA_df['cluster_4']\n",
    "data_PCA_KM_NN=data_PCA_KM_NN_df.values\n",
    "data_PCA_KM_NN_df.to_csv('data_PCA_KM.csv' , sep=',')\n",
    "data_PCA_NN_df=pd.DataFrame(data=data_PCA[0:,0:],\n",
    "                   columns=['PCA1','PCA2'])\n",
    "data_PCA_NN_df['acceptable'] = data_PCA_df['acceptable']\n",
    "data_PCA_NN_df.to_csv('data_PCA_NN.csv' , sep=',')\n",
    "\n"
   ]
  },
  {
   "cell_type": "code",
   "execution_count": 164,
   "metadata": {},
   "outputs": [
    {
     "name": "stdout",
     "output_type": "stream",
     "text": [
      "Iteration 1, loss = 2.78362959\n",
      "Iteration 2, loss = 0.96467223\n",
      "Iteration 3, loss = 0.92538647\n",
      "Iteration 4, loss = 1.08636468\n",
      "Iteration 5, loss = 0.96324502\n",
      "Iteration 6, loss = 0.89163631\n",
      "Iteration 7, loss = 0.86519549\n",
      "Iteration 8, loss = 0.85220705\n",
      "Iteration 9, loss = 0.84456753\n",
      "Iteration 10, loss = 0.83907983\n",
      "Iteration 11, loss = 0.83691715\n",
      "Iteration 12, loss = 0.83548898\n",
      "Iteration 13, loss = 0.83469628\n",
      "Iteration 14, loss = 0.83412265\n",
      "Iteration 15, loss = 0.83379561\n",
      "Iteration 16, loss = 0.83358050\n",
      "Iteration 17, loss = 0.83348693\n",
      "Iteration 18, loss = 0.83335247\n",
      "Iteration 19, loss = 0.83346265\n",
      "Iteration 20, loss = 0.83330561\n",
      "Iteration 21, loss = 0.83325685\n",
      "Training loss did not improve more than tol=0.000100 for two consecutive epochs. Stopping.\n",
      "Training set score: 0.700927\n",
      "Training variance:  0.0\n",
      "Test set score: 0.698157\n",
      "Testing variance:  0.0\n",
      "Running Time:  0.10500597953796387\n"
     ]
    }
   ],
   "source": [
    "#NN upon PCA K-means K=14 dataset\n",
    "X_train = data_PCA_KM_NN[train_index]\n",
    "y_train = datalist_label[train_index]\n",
    "X_test  = data_PCA_KM_NN[test_index]\n",
    "y_test  = datalist_label[test_index]\n",
    "\n",
    "start_time = time.time()\n",
    "\n",
    "mlp = MLPClassifier(hidden_layer_sizes=(50,10), max_iter=1000, alpha=1e-4,\n",
    "                    solver='sgd', verbose=10, tol=1e-4, random_state=1,\n",
    "                    learning_rate_init=.03)\n",
    "\n",
    "mlp.fit(X_train, y_train)\n",
    "y_train_pred = mlp.predict(X_train)\n",
    "y_test_pred = mlp.predict(X_test)\n",
    "elapsed_time = time.time() - start_time\n",
    "\n",
    "print(\"Training set score: %f\" % mlp.score(X_train, y_train))\n",
    "print (\"Training variance: \", explained_variance_score(y_train, y_train_pred, multioutput='uniform_average'))\n",
    "print(\"Test set score: %f\" % mlp.score(X_test, y_test))\n",
    "print (\"Testing variance: \", explained_variance_score(y_test, y_test_pred, multioutput='uniform_average'))\n",
    "print (\"Running Time: \", elapsed_time)"
   ]
  },
  {
   "cell_type": "code",
   "execution_count": null,
   "metadata": {
    "collapsed": true
   },
   "outputs": [],
   "source": []
  },
  {
   "cell_type": "code",
   "execution_count": null,
   "metadata": {
    "collapsed": true
   },
   "outputs": [],
   "source": []
  }
 ],
 "metadata": {
  "kernelspec": {
   "display_name": "Python 3",
   "language": "python",
   "name": "python3"
  },
  "language_info": {
   "codemirror_mode": {
    "name": "ipython",
    "version": 3
   },
   "file_extension": ".py",
   "mimetype": "text/x-python",
   "name": "python",
   "nbconvert_exporter": "python",
   "pygments_lexer": "ipython3",
   "version": "3.6.2"
  }
 },
 "nbformat": 4,
 "nbformat_minor": 2
}
