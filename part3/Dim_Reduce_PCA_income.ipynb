{
 "cells": [
  {
   "cell_type": "code",
   "execution_count": 2,
   "metadata": {},
   "outputs": [
    {
     "name": "stdout",
     "output_type": "stream",
     "text": [
      "Automatically created module for IPython interactive environment\n"
     ]
    }
   ],
   "source": [
    "print(__doc__)\n",
    "\n",
    "import matplotlib as mpl\n",
    "import matplotlib.pyplot as plt\n",
    "import numpy as np\n",
    "import pandas as pd\n",
    "import seaborn as sns\n",
    "import scipy  \n",
    "from scipy import linalg\n",
    "\n",
    "from sklearn.cluster import KMeans\n",
    "from sklearn import datasets\n",
    "from sklearn.mixture import GaussianMixture\n",
    "from sklearn.decomposition import PCA\n",
    "from sklearn.preprocessing import scale  \n",
    "from sklearn import decomposition\n",
    "from mpl_toolkits.mplot3d import Axes3D\n",
    "from matplotlib import style\n",
    "from sklearn.model_selection import StratifiedKFold\n",
    "from sklearn.linear_model import LogisticRegression\n",
    "import itertools\n",
    "\n",
    "from sklearn import mixture\n",
    "\n",
    "\n",
    "style.use(\"ggplot\")\n",
    "%matplotlib inline\n",
    "\n"
   ]
  },
  {
   "cell_type": "code",
   "execution_count": 3,
   "metadata": {
    "scrolled": true
   },
   "outputs": [
    {
     "data": {
      "text/plain": [
       "array([[   39,     7,    13, ...,  2174,     0,    40],\n",
       "       [   50,     3,    13, ...,     0,     0,    13],\n",
       "       [   38,     2,     9, ...,     0,     0,    40],\n",
       "       ..., \n",
       "       [   58,     2,     9, ...,     0,     0,    40],\n",
       "       [   22,     2,     9, ...,     0,     0,    20],\n",
       "       [   52,     4,     9, ..., 15024,     0,    40]])"
      ]
     },
     "execution_count": 3,
     "metadata": {},
     "output_type": "execute_result"
    }
   ],
   "source": [
    "#dataset2\n",
    "raw_data = pd.read_csv('C:/Users/Chenming/Desktop/assignment3/Data3_income census/adult.csv')\n",
    "#age: numeric\n",
    "#fnlwgt: numeric\n",
    "#delete education because education number is repeating to this feature\n",
    "#education_num: numeric\n",
    "#capital_gain:numeric\n",
    "#capital_loss:numeric\n",
    "#hours_per_week:numeric\n",
    "#native_country: has too many non-numeric values, delete\n",
    "data=raw_data\n",
    "data.drop\n",
    "data['age']=raw_data.age\n",
    "data['age']=data.age.astype(int)\n",
    "data['fnlwgt']=raw_data.fnlwgt\n",
    "data['fnlwgt']=data.fnlwgt.astype(int)\n",
    "data['education_num']=raw_data.education_num\n",
    "data['education_num']=data.education_num.astype(int)\n",
    "data['capital_gain']=raw_data.capital_gain\n",
    "data['capital_gain']=data.capital_gain.astype(int)\n",
    "data['capital_loss']=raw_data.capital_loss\n",
    "data['capital_loss']=data.capital_loss.astype(int)\n",
    "data['hours_per_week']=raw_data.hours_per_week\n",
    "data['hours_per_week']=data.hours_per_week.astype(int)\n",
    "\n",
    "#convert workclass: Private, Self-emp-not-inc, Self-emp-inc, Federal-gov, Local-gov, State-gov, Without-pay, Never-worked\n",
    "raw_data['workclass'] = raw_data.workclass.str.replace('Without-pay','0')\n",
    "raw_data['workclass'] = raw_data.workclass.str.replace('Never-worked','1')\n",
    "raw_data['workclass'] = raw_data.workclass.str.replace('Private','2')\n",
    "raw_data['workclass'] = raw_data.workclass.str.replace('Self-emp-not-inc','3')\n",
    "raw_data['workclass'] = raw_data.workclass.str.replace('Self-emp-inc','4')\n",
    "raw_data['workclass'] = raw_data.workclass.str.replace('Federal-gov','5')\n",
    "raw_data['workclass'] = raw_data.workclass.str.replace('Local-gov','6')\n",
    "raw_data['workclass'] = raw_data.workclass.str.replace('State-gov','7')\n",
    "raw_data['workclass'] = raw_data.workclass.str.replace('?','8')\n",
    "\n",
    "data['workclass']=raw_data.workclass\n",
    "data['workclass']=data.workclass.astype(int)\n",
    "\n",
    "#convert marital_status: Married-civ-spouse, Divorced, Never-married, Separated, Widowed, Married-spouse-absent, Married-AF-spouse \n",
    "raw_data['marital_status'] = raw_data.marital_status.str.replace('Married-civ-spouse','0')\n",
    "raw_data['marital_status'] = raw_data.marital_status.str.replace('Divorced','1')\n",
    "raw_data['marital_status'] = raw_data.marital_status.str.replace('Never-married','2')\n",
    "raw_data['marital_status'] = raw_data.marital_status.str.replace('Separated','3')\n",
    "raw_data['marital_status'] = raw_data.marital_status.str.replace('Widowed','4')\n",
    "raw_data['marital_status'] = raw_data.marital_status.str.replace('Married-spouse-absent','5')\n",
    "raw_data['marital_status'] = raw_data.marital_status.str.replace('Married-AF-spouse','6')\n",
    "data['marital_status']=raw_data.marital_status\n",
    "data['marital_status']=data.marital_status.astype(int)\n",
    "\n",
    "#convert occupation:Tech-support, Craft-repair, Other-service, Sales, Exec-managerial, \n",
    "#Prof-specialty, Handlers-cleaners, Machine-op-inspct, Adm-clerical, \n",
    "#Farming-fishing, Transport-moving, Priv-house-serv, Protective-serv, \n",
    "#Armed-Forces\n",
    "raw_data['occupation'] = raw_data.occupation.str.replace('Tech-support','0')\n",
    "raw_data['occupation'] = raw_data.occupation.str.replace('Craft-repair','1')\n",
    "raw_data['occupation'] = raw_data.occupation.str.replace('Other-service','2')\n",
    "raw_data['occupation'] = raw_data.occupation.str.replace('Sales','3')\n",
    "raw_data['occupation'] = raw_data.occupation.str.replace('Exec-managerial','4')\n",
    "raw_data['occupation'] = raw_data.occupation.str.replace('Prof-specialty','5')\n",
    "raw_data['occupation'] = raw_data.occupation.str.replace('Handlers-cleaners','6')\n",
    "raw_data['occupation'] = raw_data.occupation.str.replace('Machine-op-inspct','7')\n",
    "raw_data['occupation'] = raw_data.occupation.str.replace('Adm-clerical','8')\n",
    "raw_data['occupation'] = raw_data.occupation.str.replace('Farming-fishing','9')\n",
    "raw_data['occupation'] = raw_data.occupation.str.replace('Transport-moving','10')\n",
    "raw_data['occupation'] = raw_data.occupation.str.replace('Priv-house-serv','11')\n",
    "raw_data['occupation'] = raw_data.occupation.str.replace('Protective-serv','12')\n",
    "raw_data['occupation'] = raw_data.occupation.str.replace('Armed-Forces','13')\n",
    "raw_data['occupation'] = raw_data.occupation.str.replace('?','14')\n",
    "\n",
    "data['occupation']=raw_data.occupation\n",
    "data['occupation']=data.occupation.astype(int)\n",
    "\n",
    "#relationship:Wife, Own-child, Husband, Not-in-family, Other-relative, Unmarried\n",
    "raw_data['relationship'] = raw_data.relationship.str.replace('Wife','0')\n",
    "raw_data['relationship'] = raw_data.relationship.str.replace('Own-child','1')\n",
    "raw_data['relationship'] = raw_data.relationship.str.replace('Husband','2')\n",
    "raw_data['relationship'] = raw_data.relationship.str.replace('Not-in-family','3')\n",
    "raw_data['relationship'] = raw_data.relationship.str.replace('Other-relative','4')\n",
    "raw_data['relationship'] = raw_data.relationship.str.replace('Unmarried','5')\n",
    "data['relationship']=raw_data.relationship\n",
    "data['relationship']=data.relationship.astype(int)\n",
    "\n",
    "#race: White, Asian-Pac-Islander, Amer-Indian-Eskimo, Other, Black\n",
    "raw_data['race'] = raw_data.race.str.replace('White','0')\n",
    "raw_data['race'] = raw_data.race.str.replace('Asian-Pac-Islander','1')\n",
    "raw_data['race'] = raw_data.race.str.replace('Amer-Indian-Eskimo','2')\n",
    "raw_data['race'] = raw_data.race.str.replace('Other','3')\n",
    "raw_data['race'] = raw_data.race.str.replace('Black','4')\n",
    "data['race']=raw_data.race\n",
    "data['race']=data.race.astype(int)\n",
    "\n",
    "#sex: Female, Male\n",
    "raw_data['sex'] = raw_data.sex.str.replace('Female','0')\n",
    "raw_data['sex'] = raw_data.sex.str.replace('Male','1')\n",
    "data['sex']=raw_data.sex\n",
    "data['sex']=data.sex.astype(int)\n",
    "\n",
    "#set label_name column\n",
    "data['income_name'] = raw_data.income\n",
    "\n",
    "#income: >50K, <=50K\n",
    "raw_data['income'] = raw_data.income.str.replace('>50K','1')\n",
    "raw_data['income'] = raw_data.income.str.replace('<=50K','0')\n",
    "raw_data['income'] = raw_data.income\n",
    "raw_data['income'] = raw_data.income.astype(int)\n",
    "\n",
    "datalist_label = data.income\n",
    "datalist_names = data.income_name\n",
    "datalist_label_names = np.array(['>50K','<=50K'])\n",
    "datalist = data.drop(['fnlwgt','education','native_country','income','income_name'], axis=1)\n",
    "datalist_array = datalist.values\n",
    "datalist_array"
   ]
  },
  {
   "cell_type": "code",
   "execution_count": 4,
   "metadata": {},
   "outputs": [
    {
     "data": {
      "text/html": [
       "<div>\n",
       "<style>\n",
       "    .dataframe thead tr:only-child th {\n",
       "        text-align: right;\n",
       "    }\n",
       "\n",
       "    .dataframe thead th {\n",
       "        text-align: left;\n",
       "    }\n",
       "\n",
       "    .dataframe tbody tr th {\n",
       "        vertical-align: top;\n",
       "    }\n",
       "</style>\n",
       "<table border=\"1\" class=\"dataframe\">\n",
       "  <thead>\n",
       "    <tr style=\"text-align: right;\">\n",
       "      <th></th>\n",
       "      <th>age</th>\n",
       "      <th>workclass</th>\n",
       "      <th>fnlwgt</th>\n",
       "      <th>education</th>\n",
       "      <th>education_num</th>\n",
       "      <th>marital_status</th>\n",
       "      <th>occupation</th>\n",
       "      <th>relationship</th>\n",
       "      <th>race</th>\n",
       "      <th>sex</th>\n",
       "      <th>capital_gain</th>\n",
       "      <th>capital_loss</th>\n",
       "      <th>hours_per_week</th>\n",
       "      <th>native_country</th>\n",
       "      <th>income</th>\n",
       "      <th>income_name</th>\n",
       "    </tr>\n",
       "  </thead>\n",
       "  <tbody>\n",
       "    <tr>\n",
       "      <th>0</th>\n",
       "      <td>39</td>\n",
       "      <td>7</td>\n",
       "      <td>77516</td>\n",
       "      <td>Bachelors</td>\n",
       "      <td>13</td>\n",
       "      <td>2</td>\n",
       "      <td>8</td>\n",
       "      <td>3</td>\n",
       "      <td>0</td>\n",
       "      <td>1</td>\n",
       "      <td>2174</td>\n",
       "      <td>0</td>\n",
       "      <td>40</td>\n",
       "      <td>United-States</td>\n",
       "      <td>0</td>\n",
       "      <td>&lt;=50K</td>\n",
       "    </tr>\n",
       "    <tr>\n",
       "      <th>1</th>\n",
       "      <td>50</td>\n",
       "      <td>3</td>\n",
       "      <td>83311</td>\n",
       "      <td>Bachelors</td>\n",
       "      <td>13</td>\n",
       "      <td>0</td>\n",
       "      <td>4</td>\n",
       "      <td>2</td>\n",
       "      <td>0</td>\n",
       "      <td>1</td>\n",
       "      <td>0</td>\n",
       "      <td>0</td>\n",
       "      <td>13</td>\n",
       "      <td>United-States</td>\n",
       "      <td>0</td>\n",
       "      <td>&lt;=50K</td>\n",
       "    </tr>\n",
       "    <tr>\n",
       "      <th>2</th>\n",
       "      <td>38</td>\n",
       "      <td>2</td>\n",
       "      <td>215646</td>\n",
       "      <td>HS-grad</td>\n",
       "      <td>9</td>\n",
       "      <td>1</td>\n",
       "      <td>6</td>\n",
       "      <td>3</td>\n",
       "      <td>0</td>\n",
       "      <td>1</td>\n",
       "      <td>0</td>\n",
       "      <td>0</td>\n",
       "      <td>40</td>\n",
       "      <td>United-States</td>\n",
       "      <td>0</td>\n",
       "      <td>&lt;=50K</td>\n",
       "    </tr>\n",
       "    <tr>\n",
       "      <th>3</th>\n",
       "      <td>53</td>\n",
       "      <td>2</td>\n",
       "      <td>234721</td>\n",
       "      <td>11th</td>\n",
       "      <td>7</td>\n",
       "      <td>0</td>\n",
       "      <td>6</td>\n",
       "      <td>2</td>\n",
       "      <td>4</td>\n",
       "      <td>1</td>\n",
       "      <td>0</td>\n",
       "      <td>0</td>\n",
       "      <td>40</td>\n",
       "      <td>United-States</td>\n",
       "      <td>0</td>\n",
       "      <td>&lt;=50K</td>\n",
       "    </tr>\n",
       "    <tr>\n",
       "      <th>4</th>\n",
       "      <td>28</td>\n",
       "      <td>2</td>\n",
       "      <td>338409</td>\n",
       "      <td>Bachelors</td>\n",
       "      <td>13</td>\n",
       "      <td>0</td>\n",
       "      <td>5</td>\n",
       "      <td>0</td>\n",
       "      <td>4</td>\n",
       "      <td>0</td>\n",
       "      <td>0</td>\n",
       "      <td>0</td>\n",
       "      <td>40</td>\n",
       "      <td>Cuba</td>\n",
       "      <td>0</td>\n",
       "      <td>&lt;=50K</td>\n",
       "    </tr>\n",
       "  </tbody>\n",
       "</table>\n",
       "</div>"
      ],
      "text/plain": [
       "   age  workclass  fnlwgt  education  education_num  marital_status  \\\n",
       "0   39          7   77516  Bachelors             13               2   \n",
       "1   50          3   83311  Bachelors             13               0   \n",
       "2   38          2  215646    HS-grad              9               1   \n",
       "3   53          2  234721       11th              7               0   \n",
       "4   28          2  338409  Bachelors             13               0   \n",
       "\n",
       "   occupation  relationship  race  sex  capital_gain  capital_loss  \\\n",
       "0           8             3     0    1          2174             0   \n",
       "1           4             2     0    1             0             0   \n",
       "2           6             3     0    1             0             0   \n",
       "3           6             2     4    1             0             0   \n",
       "4           5             0     4    0             0             0   \n",
       "\n",
       "   hours_per_week native_country  income income_name  \n",
       "0              40  United-States       0       <=50K  \n",
       "1              13  United-States       0       <=50K  \n",
       "2              40  United-States       0       <=50K  \n",
       "3              40  United-States       0       <=50K  \n",
       "4              40           Cuba       0       <=50K  "
      ]
     },
     "execution_count": 4,
     "metadata": {},
     "output_type": "execute_result"
    }
   ],
   "source": [
    "data.head()"
   ]
  },
  {
   "cell_type": "code",
   "execution_count": 5,
   "metadata": {},
   "outputs": [
    {
     "data": {
      "text/html": [
       "<div>\n",
       "<style>\n",
       "    .dataframe thead tr:only-child th {\n",
       "        text-align: right;\n",
       "    }\n",
       "\n",
       "    .dataframe thead th {\n",
       "        text-align: left;\n",
       "    }\n",
       "\n",
       "    .dataframe tbody tr th {\n",
       "        vertical-align: top;\n",
       "    }\n",
       "</style>\n",
       "<table border=\"1\" class=\"dataframe\">\n",
       "  <thead>\n",
       "    <tr style=\"text-align: right;\">\n",
       "      <th></th>\n",
       "      <th>income</th>\n",
       "      <th>income_name</th>\n",
       "    </tr>\n",
       "  </thead>\n",
       "  <tbody>\n",
       "    <tr>\n",
       "      <th>0</th>\n",
       "      <td>0</td>\n",
       "      <td>&lt;=50K</td>\n",
       "    </tr>\n",
       "    <tr>\n",
       "      <th>1</th>\n",
       "      <td>0</td>\n",
       "      <td>&lt;=50K</td>\n",
       "    </tr>\n",
       "    <tr>\n",
       "      <th>2</th>\n",
       "      <td>0</td>\n",
       "      <td>&lt;=50K</td>\n",
       "    </tr>\n",
       "    <tr>\n",
       "      <th>3</th>\n",
       "      <td>0</td>\n",
       "      <td>&lt;=50K</td>\n",
       "    </tr>\n",
       "    <tr>\n",
       "      <th>4</th>\n",
       "      <td>0</td>\n",
       "      <td>&lt;=50K</td>\n",
       "    </tr>\n",
       "  </tbody>\n",
       "</table>\n",
       "</div>"
      ],
      "text/plain": [
       "   income income_name\n",
       "0       0       <=50K\n",
       "1       0       <=50K\n",
       "2       0       <=50K\n",
       "3       0       <=50K\n",
       "4       0       <=50K"
      ]
     },
     "execution_count": 5,
     "metadata": {},
     "output_type": "execute_result"
    }
   ],
   "source": [
    "EM_data = data.drop(['age','workclass','fnlwgt','education','education_num','marital_status','occupation','relationship','race','sex','capital_gain','capital_loss','hours_per_week','native_country'], axis=1)\n",
    "EM_data.head()"
   ]
  },
  {
   "cell_type": "code",
   "execution_count": 6,
   "metadata": {},
   "outputs": [
    {
     "name": "stderr",
     "output_type": "stream",
     "text": [
      "C:\\Users\\Chenming\\AppData\\Roaming\\Python\\Python36\\site-packages\\sklearn\\cross_validation.py:41: DeprecationWarning: This module was deprecated in version 0.18 in favor of the model_selection module into which all the refactored classes and functions are moved. Also note that the interface of the new CV iterators are different from that of this module. This module will be removed in 0.20.\n",
      "  \"This module will be removed in 0.20.\", DeprecationWarning)\n"
     ]
    }
   ],
   "source": [
    "#NN  on X = datalist_array, y = datalist_label\n",
    "from sklearn.cross_validation import KFold, cross_val_score\n",
    "from sklearn.cross_validation import StratifiedKFold\n",
    "import time\n",
    "from sklearn.neural_network import MLPClassifier\n",
    "\n",
    "skf = StratifiedKFold(datalist_label, n_folds=4)\n",
    "# Only take the first fold.\n",
    "train_index, test_index = next(iter(skf))\n",
    "\n",
    "\n",
    "X_train = datalist_array[train_index]\n",
    "y_train = datalist_label[train_index].values\n",
    "X_test  = datalist_array[test_index]\n",
    "y_test  = datalist_label[test_index].values"
   ]
  },
  {
   "cell_type": "code",
   "execution_count": 7,
   "metadata": {},
   "outputs": [
    {
     "name": "stdout",
     "output_type": "stream",
     "text": [
      "Iteration 1, loss = 2.56473638\n",
      "Iteration 2, loss = 2.46891892\n",
      "Iteration 3, loss = 2.46835193\n",
      "Iteration 4, loss = 2.46870911\n",
      "Iteration 5, loss = 2.46815765\n",
      "Iteration 6, loss = 2.46877567\n",
      "Iteration 7, loss = 2.46817718\n",
      "Iteration 8, loss = 2.46885787\n",
      "Training loss did not improve more than tol=0.000100 for two consecutive epochs. Stopping.\n",
      "Training set score: 0.789926\n",
      "Training variance:  -0.0028194600386\n",
      "Test set score: 0.790935\n",
      "Testing variance:  -0.0025881716118\n",
      "Running Time:  0.5680325031280518\n"
     ]
    }
   ],
   "source": [
    "#NN of original data\n",
    "from sklearn.metrics import explained_variance_score\n",
    "\n",
    "start_time = time.time()\n",
    "\n",
    "mlp = MLPClassifier(hidden_layer_sizes=(50,10), max_iter=1000, alpha=1e-4,\n",
    "                    solver='sgd', verbose=10, tol=1e-4, random_state=1,\n",
    "                    learning_rate_init=.03)\n",
    "\n",
    "mlp.fit(X_train, y_train)\n",
    "y_train_pred = mlp.predict(X_train)\n",
    "y_test_pred = mlp.predict(X_test)\n",
    "elapsed_time = time.time() - start_time\n",
    "\n",
    "print(\"Training set score: %f\" % mlp.score(X_train, y_train))\n",
    "print (\"Training variance: \", explained_variance_score(y_train, y_train_pred, multioutput='uniform_average'))\n",
    "print(\"Test set score: %f\" % mlp.score(X_test, y_test))\n",
    "print (\"Testing variance: \", explained_variance_score(y_test, y_test_pred, multioutput='uniform_average'))\n",
    "print (\"Running Time: \", elapsed_time)"
   ]
  },
  {
   "cell_type": "code",
   "execution_count": 8,
   "metadata": {
    "collapsed": true
   },
   "outputs": [],
   "source": [
    "from sklearn.decomposition import PCA\n",
    "def pca_code(data):\n",
    "    pca = PCA()\n",
    "    X_transformed = pca.fit_transform(data)\n",
    "    # We center the data and compute the sample covariance matrix.\n",
    "    X_centered = data - np.mean(data, axis=0)\n",
    "    cov_matrix = np.dot(X_centered.T, X_centered) / len(data)\n",
    "    eigenvalues = pca.explained_variance_\n",
    "    e_v=[]\n",
    "    for eigenvalue, eigenvector in zip(eigenvalues, pca.components_):    \n",
    "        e_v.append(eigenvalue)\n",
    "    return e_v"
   ]
  },
  {
   "cell_type": "code",
   "execution_count": 9,
   "metadata": {},
   "outputs": [
    {
     "data": {
      "text/plain": [
       "[54542704.134087689,\n",
       " 162215.3871397707,\n",
       " 187.21854487720387,\n",
       " 148.56024315377371,\n",
       " 13.73658140377858,\n",
       " 6.4271314811525562,\n",
       " 2.4238906492911871,\n",
       " 2.0827227059629392,\n",
       " 1.3550232157773709,\n",
       " 0.7902204752017965,\n",
       " 0.1783168574248592]"
      ]
     },
     "execution_count": 9,
     "metadata": {},
     "output_type": "execute_result"
    }
   ],
   "source": [
    "eig_val = pca_code(datalist_array)\n",
    "eig_val"
   ]
  },
  {
   "cell_type": "code",
   "execution_count": 10,
   "metadata": {
    "scrolled": true
   },
   "outputs": [
    {
     "data": {
      "text/plain": [
       "<matplotlib.collections.PathCollection at 0x1307e860>"
      ]
     },
     "execution_count": 10,
     "metadata": {},
     "output_type": "execute_result"
    },
    {
     "data": {
      "image/png": "[encoded data removed]",
      "text/plain": [
       "<matplotlib.figure.Figure at 0x12ec1128>"
      ]
     },
     "metadata": {},
     "output_type": "display_data"
    }
   ],
   "source": [
    "x_axis=[1,2,3,4,5,6,7,8,9,10,11]\n",
    "plt.scatter(x_axis, eig_val)"
   ]
  },
  {
   "cell_type": "code",
   "execution_count": 11,
   "metadata": {},
   "outputs": [
    {
     "data": {
      "text/plain": [
       "array([[  1.09650063e+03,  -8.54060881e+01,   3.98741437e-01],\n",
       "       [ -1.07749797e+03,  -8.91895976e+01,   4.09537061e+00],\n",
       "       [ -1.07749636e+03,  -8.91699519e+01,  -2.79138164e-01],\n",
       "       ..., \n",
       "       [ -1.07749355e+03,  -8.91303371e+01,   1.89489684e+01],\n",
       "       [ -1.07750129e+03,  -8.92378982e+01,  -2.10753904e+01],\n",
       "       [  1.39464829e+04,  -6.31551869e+01,   1.05178766e+01]])"
      ]
     },
     "execution_count": 11,
     "metadata": {},
     "output_type": "execute_result"
    }
   ],
   "source": [
    "#comment the below change to plot the original X################\n",
    "pca = decomposition.PCA(n_components=3)\n",
    "pca.fit(datalist_array)\n",
    "data_PCA = pca.transform(datalist_array)\n",
    "data_PCA\n",
    "#Here new X is the new arrays of datalist after PCA treatment, \n",
    "#can be used to evaluate with K-means and EM algorithms, not necessary to plot\n",
    "##################################\n",
    "#Original data\n",
    "#X = datalist_array\n",
    "#X"
   ]
  },
  {
   "cell_type": "code",
   "execution_count": 12,
   "metadata": {},
   "outputs": [
    {
     "data": {
      "text/plain": [
       "array([[  1096.50063315,    -85.40608807],\n",
       "       [ -1077.49796659,    -89.18959761],\n",
       "       [ -1077.49635505,    -89.16995189],\n",
       "       ..., \n",
       "       [ -1077.49355247,    -89.13033712],\n",
       "       [ -1077.5012936 ,    -89.23789817],\n",
       "       [ 13946.48290914,    -63.15518694]])"
      ]
     },
     "execution_count": 12,
     "metadata": {},
     "output_type": "execute_result"
    }
   ],
   "source": [
    "pca = decomposition.PCA(n_components=2)\n",
    "pca.fit(datalist_array)\n",
    "data_PCA = pca.transform(datalist_array)\n",
    "data_PCA"
   ]
  },
  {
   "cell_type": "code",
   "execution_count": 13,
   "metadata": {},
   "outputs": [
    {
     "name": "stdout",
     "output_type": "stream",
     "text": [
      "Iteration 1, loss = 27321843.50316176\n",
      "Iteration 2, loss = 31536105.00380607\n",
      "Iteration 3, loss = 31534870.64441373\n",
      "Iteration 4, loss = 31533621.88661651\n",
      "Training loss did not improve more than tol=0.000100 for two consecutive epochs. Stopping.\n",
      "Training set score: 0.759214\n",
      "Training variance:  0.0\n",
      "Test set score: 0.759121\n",
      "Testing variance:  0.0\n",
      "Running Time:  0.2820160388946533\n"
     ]
    }
   ],
   "source": [
    "#NN upon PCA dataset\n",
    "X_train = data_PCA[train_index]\n",
    "y_train = datalist_label[train_index]\n",
    "X_test  = data_PCA[test_index]\n",
    "y_test  = datalist_label[test_index]\n",
    "\n",
    "start_time = time.time()\n",
    "\n",
    "mlp = MLPClassifier(hidden_layer_sizes=(50,10), max_iter=1000, alpha=1e-4,\n",
    "                    solver='sgd', verbose=10, tol=1e-4, random_state=1,\n",
    "                    learning_rate_init=.03)\n",
    "\n",
    "mlp.fit(X_train, y_train)\n",
    "y_train_pred = mlp.predict(X_train)\n",
    "y_test_pred = mlp.predict(X_test)\n",
    "elapsed_time = time.time() - start_time\n",
    "\n",
    "print(\"Training set score: %f\" % mlp.score(X_train, y_train))\n",
    "print (\"Training variance: \", explained_variance_score(y_train, y_train_pred, multioutput='uniform_average'))\n",
    "print(\"Test set score: %f\" % mlp.score(X_test, y_test))\n",
    "print (\"Testing variance: \", explained_variance_score(y_test, y_test_pred, multioutput='uniform_average'))\n",
    "print (\"Running Time: \", elapsed_time)"
   ]
  },
  {
   "cell_type": "code",
   "execution_count": 14,
   "metadata": {},
   "outputs": [
    {
     "data": {
      "text/plain": [
       "24420"
      ]
     },
     "execution_count": 14,
     "metadata": {},
     "output_type": "execute_result"
    }
   ],
   "source": [
    "n_classes=2\n",
    "len(train_index)"
   ]
  },
  {
   "cell_type": "code",
   "execution_count": 15,
   "metadata": {
    "collapsed": true
   },
   "outputs": [],
   "source": [
    "# EM Try GMMs with K=2\n",
    "new_component=2\n",
    "cv_type='spherical'\n",
    "gmm = mixture.GaussianMixture(n_components=new_component,\n",
    "                                      covariance_type=cv_type)\n",
    "gmm.fit(data_PCA)\n",
    "datalist_pred = gmm.predict(data_PCA)\n",
    "\n",
    "EM_data['K2_PCA_label']=datalist_pred\n",
    "K2_PCA_label = datalist_pred\n",
    "EM_PCA2_prob = gmm.predict_proba(data_PCA)"
   ]
  },
  {
   "cell_type": "code",
   "execution_count": 16,
   "metadata": {},
   "outputs": [
    {
     "data": {
      "text/html": [
       "<div>\n",
       "<style>\n",
       "    .dataframe thead tr:only-child th {\n",
       "        text-align: right;\n",
       "    }\n",
       "\n",
       "    .dataframe thead th {\n",
       "        text-align: left;\n",
       "    }\n",
       "\n",
       "    .dataframe tbody tr th {\n",
       "        vertical-align: top;\n",
       "    }\n",
       "</style>\n",
       "<table border=\"1\" class=\"dataframe\">\n",
       "  <thead>\n",
       "    <tr style=\"text-align: right;\">\n",
       "      <th>col_0</th>\n",
       "      <th>0</th>\n",
       "      <th>1</th>\n",
       "    </tr>\n",
       "    <tr>\n",
       "      <th>income_name</th>\n",
       "      <th></th>\n",
       "      <th></th>\n",
       "    </tr>\n",
       "  </thead>\n",
       "  <tbody>\n",
       "    <tr>\n",
       "      <th>&lt;=50K</th>\n",
       "      <td>0</td>\n",
       "      <td>24720</td>\n",
       "    </tr>\n",
       "    <tr>\n",
       "      <th>&gt;50K</th>\n",
       "      <td>159</td>\n",
       "      <td>7682</td>\n",
       "    </tr>\n",
       "  </tbody>\n",
       "</table>\n",
       "</div>"
      ],
      "text/plain": [
       "col_0          0      1\n",
       "income_name            \n",
       "<=50K          0  24720\n",
       ">50K         159   7682"
      ]
     },
     "execution_count": 16,
     "metadata": {},
     "output_type": "execute_result"
    }
   ],
   "source": [
    "tb1 = pd.crosstab(EM_data['income_name'],datalist_pred)\n",
    "#data_label.head()\n",
    "tb1"
   ]
  },
  {
   "cell_type": "code",
   "execution_count": 17,
   "metadata": {},
   "outputs": [
    {
     "data": {
      "text/html": [
       "<div>\n",
       "<style>\n",
       "    .dataframe thead tr:only-child th {\n",
       "        text-align: right;\n",
       "    }\n",
       "\n",
       "    .dataframe thead th {\n",
       "        text-align: left;\n",
       "    }\n",
       "\n",
       "    .dataframe tbody tr th {\n",
       "        vertical-align: top;\n",
       "    }\n",
       "</style>\n",
       "<table border=\"1\" class=\"dataframe\">\n",
       "  <thead>\n",
       "    <tr style=\"text-align: right;\">\n",
       "      <th></th>\n",
       "      <th>income</th>\n",
       "      <th>income_name</th>\n",
       "      <th>K2_PCA_label</th>\n",
       "      <th>K2_PCA_label_name</th>\n",
       "    </tr>\n",
       "  </thead>\n",
       "  <tbody>\n",
       "    <tr>\n",
       "      <th>0</th>\n",
       "      <td>0</td>\n",
       "      <td>&lt;=50K</td>\n",
       "      <td>1</td>\n",
       "      <td>&lt;=50K</td>\n",
       "    </tr>\n",
       "    <tr>\n",
       "      <th>1</th>\n",
       "      <td>0</td>\n",
       "      <td>&lt;=50K</td>\n",
       "      <td>1</td>\n",
       "      <td>&lt;=50K</td>\n",
       "    </tr>\n",
       "    <tr>\n",
       "      <th>2</th>\n",
       "      <td>0</td>\n",
       "      <td>&lt;=50K</td>\n",
       "      <td>1</td>\n",
       "      <td>&lt;=50K</td>\n",
       "    </tr>\n",
       "    <tr>\n",
       "      <th>3</th>\n",
       "      <td>0</td>\n",
       "      <td>&lt;=50K</td>\n",
       "      <td>1</td>\n",
       "      <td>&lt;=50K</td>\n",
       "    </tr>\n",
       "    <tr>\n",
       "      <th>4</th>\n",
       "      <td>0</td>\n",
       "      <td>&lt;=50K</td>\n",
       "      <td>1</td>\n",
       "      <td>&lt;=50K</td>\n",
       "    </tr>\n",
       "  </tbody>\n",
       "</table>\n",
       "</div>"
      ],
      "text/plain": [
       "   income income_name  K2_PCA_label K2_PCA_label_name\n",
       "0       0       <=50K             1             <=50K\n",
       "1       0       <=50K             1             <=50K\n",
       "2       0       <=50K             1             <=50K\n",
       "3       0       <=50K             1             <=50K\n",
       "4       0       <=50K             1             <=50K"
      ]
     },
     "execution_count": 17,
     "metadata": {},
     "output_type": "execute_result"
    }
   ],
   "source": [
    "#EM assign test K=2 label\n",
    "def em_K1_label(alpha):\n",
    "    label_max = max(tb1.iloc[i,alpha] for i in range(2))\n",
    "    if tb1.iloc[0,alpha] == label_max:\n",
    "        return '<=50K'\n",
    "    if tb1.iloc[1,alpha] == label_max:\n",
    "        return '>50K'\n",
    "EM_data['K2_PCA_label_name']=EM_data['K2_PCA_label'].apply(em_K1_label)\n",
    "EM_data.head()"
   ]
  },
  {
   "cell_type": "code",
   "execution_count": 18,
   "metadata": {},
   "outputs": [
    {
     "name": "stdout",
     "output_type": "stream",
     "text": [
      "K=2 PCA EM -> 76.4074%\n"
     ]
    }
   ],
   "source": [
    "K2_PCA_accuracy = len(EM_data[EM_data['income_name']==EM_data['K2_PCA_label_name']])/len(EM_data)\n",
    "print('K=2 PCA EM -> {0:.4f}%'.format(K2_PCA_accuracy*100))"
   ]
  },
  {
   "cell_type": "code",
   "execution_count": 19,
   "metadata": {
    "collapsed": true
   },
   "outputs": [],
   "source": [
    "# EM K=17, full\n",
    "new_component=17\n",
    "cv_type='full'\n",
    "gmm = mixture.GaussianMixture(n_components=new_component,\n",
    "                                      covariance_type=cv_type)\n",
    "gmm.fit(data_PCA)\n",
    "datalist_pred = gmm.predict(data_PCA)\n",
    "\n",
    "EM_data['K17_PCA_label']=datalist_pred\n",
    "K17_PCA_label = datalist_pred\n",
    "EM_PCA17_prob = gmm.predict_proba(data_PCA)"
   ]
  },
  {
   "cell_type": "code",
   "execution_count": 20,
   "metadata": {},
   "outputs": [
    {
     "data": {
      "text/html": [
       "<div>\n",
       "<style>\n",
       "    .dataframe thead tr:only-child th {\n",
       "        text-align: right;\n",
       "    }\n",
       "\n",
       "    .dataframe thead th {\n",
       "        text-align: left;\n",
       "    }\n",
       "\n",
       "    .dataframe tbody tr th {\n",
       "        vertical-align: top;\n",
       "    }\n",
       "</style>\n",
       "<table border=\"1\" class=\"dataframe\">\n",
       "  <thead>\n",
       "    <tr style=\"text-align: right;\">\n",
       "      <th>col_0</th>\n",
       "      <th>0</th>\n",
       "      <th>1</th>\n",
       "      <th>2</th>\n",
       "      <th>3</th>\n",
       "      <th>4</th>\n",
       "      <th>5</th>\n",
       "      <th>6</th>\n",
       "      <th>7</th>\n",
       "      <th>8</th>\n",
       "      <th>9</th>\n",
       "      <th>10</th>\n",
       "      <th>11</th>\n",
       "      <th>12</th>\n",
       "      <th>13</th>\n",
       "      <th>14</th>\n",
       "      <th>15</th>\n",
       "      <th>16</th>\n",
       "    </tr>\n",
       "    <tr>\n",
       "      <th>income_name</th>\n",
       "      <th></th>\n",
       "      <th></th>\n",
       "      <th></th>\n",
       "      <th></th>\n",
       "      <th></th>\n",
       "      <th></th>\n",
       "      <th></th>\n",
       "      <th></th>\n",
       "      <th></th>\n",
       "      <th></th>\n",
       "      <th></th>\n",
       "      <th></th>\n",
       "      <th></th>\n",
       "      <th></th>\n",
       "      <th></th>\n",
       "      <th></th>\n",
       "      <th></th>\n",
       "    </tr>\n",
       "  </thead>\n",
       "  <tbody>\n",
       "    <tr>\n",
       "      <th>&lt;=50K</th>\n",
       "      <td>22939</td>\n",
       "      <td>0</td>\n",
       "      <td>0</td>\n",
       "      <td>178</td>\n",
       "      <td>5</td>\n",
       "      <td>746</td>\n",
       "      <td>0</td>\n",
       "      <td>345</td>\n",
       "      <td>1</td>\n",
       "      <td>6</td>\n",
       "      <td>2</td>\n",
       "      <td>444</td>\n",
       "      <td>0</td>\n",
       "      <td>0</td>\n",
       "      <td>0</td>\n",
       "      <td>0</td>\n",
       "      <td>54</td>\n",
       "    </tr>\n",
       "    <tr>\n",
       "      <th>&gt;50K</th>\n",
       "      <td>5391</td>\n",
       "      <td>159</td>\n",
       "      <td>347</td>\n",
       "      <td>193</td>\n",
       "      <td>36</td>\n",
       "      <td>773</td>\n",
       "      <td>284</td>\n",
       "      <td>3</td>\n",
       "      <td>0</td>\n",
       "      <td>57</td>\n",
       "      <td>0</td>\n",
       "      <td>89</td>\n",
       "      <td>81</td>\n",
       "      <td>105</td>\n",
       "      <td>15</td>\n",
       "      <td>37</td>\n",
       "      <td>271</td>\n",
       "    </tr>\n",
       "  </tbody>\n",
       "</table>\n",
       "</div>"
      ],
      "text/plain": [
       "col_0           0    1    2    3   4    5    6    7   8   9   10   11  12  \\\n",
       "income_name                                                                 \n",
       "<=50K        22939    0    0  178   5  746    0  345   1   6   2  444   0   \n",
       ">50K          5391  159  347  193  36  773  284    3   0  57   0   89  81   \n",
       "\n",
       "col_0         13  14  15   16  \n",
       "income_name                    \n",
       "<=50K          0   0   0   54  \n",
       ">50K         105  15  37  271  "
      ]
     },
     "execution_count": 20,
     "metadata": {},
     "output_type": "execute_result"
    }
   ],
   "source": [
    "tb1 = pd.crosstab(EM_data['income_name'],datalist_pred)\n",
    "#data_label.head()\n",
    "tb1"
   ]
  },
  {
   "cell_type": "code",
   "execution_count": 21,
   "metadata": {
    "scrolled": true
   },
   "outputs": [
    {
     "data": {
      "text/html": [
       "<div>\n",
       "<style>\n",
       "    .dataframe thead tr:only-child th {\n",
       "        text-align: right;\n",
       "    }\n",
       "\n",
       "    .dataframe thead th {\n",
       "        text-align: left;\n",
       "    }\n",
       "\n",
       "    .dataframe tbody tr th {\n",
       "        vertical-align: top;\n",
       "    }\n",
       "</style>\n",
       "<table border=\"1\" class=\"dataframe\">\n",
       "  <thead>\n",
       "    <tr style=\"text-align: right;\">\n",
       "      <th></th>\n",
       "      <th>income</th>\n",
       "      <th>income_name</th>\n",
       "      <th>K2_PCA_label</th>\n",
       "      <th>K2_PCA_label_name</th>\n",
       "      <th>K17_PCA_label</th>\n",
       "      <th>K17_PCA_label_name</th>\n",
       "    </tr>\n",
       "  </thead>\n",
       "  <tbody>\n",
       "    <tr>\n",
       "      <th>0</th>\n",
       "      <td>0</td>\n",
       "      <td>&lt;=50K</td>\n",
       "      <td>1</td>\n",
       "      <td>&lt;=50K</td>\n",
       "      <td>7</td>\n",
       "      <td>&lt;=50K</td>\n",
       "    </tr>\n",
       "    <tr>\n",
       "      <th>1</th>\n",
       "      <td>0</td>\n",
       "      <td>&lt;=50K</td>\n",
       "      <td>1</td>\n",
       "      <td>&lt;=50K</td>\n",
       "      <td>0</td>\n",
       "      <td>&lt;=50K</td>\n",
       "    </tr>\n",
       "    <tr>\n",
       "      <th>2</th>\n",
       "      <td>0</td>\n",
       "      <td>&lt;=50K</td>\n",
       "      <td>1</td>\n",
       "      <td>&lt;=50K</td>\n",
       "      <td>0</td>\n",
       "      <td>&lt;=50K</td>\n",
       "    </tr>\n",
       "    <tr>\n",
       "      <th>3</th>\n",
       "      <td>0</td>\n",
       "      <td>&lt;=50K</td>\n",
       "      <td>1</td>\n",
       "      <td>&lt;=50K</td>\n",
       "      <td>0</td>\n",
       "      <td>&lt;=50K</td>\n",
       "    </tr>\n",
       "    <tr>\n",
       "      <th>4</th>\n",
       "      <td>0</td>\n",
       "      <td>&lt;=50K</td>\n",
       "      <td>1</td>\n",
       "      <td>&lt;=50K</td>\n",
       "      <td>0</td>\n",
       "      <td>&lt;=50K</td>\n",
       "    </tr>\n",
       "  </tbody>\n",
       "</table>\n",
       "</div>"
      ],
      "text/plain": [
       "   income income_name  K2_PCA_label K2_PCA_label_name  K17_PCA_label  \\\n",
       "0       0       <=50K             1             <=50K              7   \n",
       "1       0       <=50K             1             <=50K              0   \n",
       "2       0       <=50K             1             <=50K              0   \n",
       "3       0       <=50K             1             <=50K              0   \n",
       "4       0       <=50K             1             <=50K              0   \n",
       "\n",
       "  K17_PCA_label_name  \n",
       "0              <=50K  \n",
       "1              <=50K  \n",
       "2              <=50K  \n",
       "3              <=50K  \n",
       "4              <=50K  "
      ]
     },
     "execution_count": 21,
     "metadata": {},
     "output_type": "execute_result"
    }
   ],
   "source": [
    "#EM: assign test K=17 label\n",
    "\n",
    "EM_data['K17_PCA_label_name']=EM_data['K17_PCA_label'].apply(em_K1_label)\n",
    "EM_data.head()"
   ]
  },
  {
   "cell_type": "code",
   "execution_count": 22,
   "metadata": {},
   "outputs": [
    {
     "name": "stdout",
     "output_type": "stream",
     "text": [
      "K=17 PCA EM -> 80.1235%\n"
     ]
    }
   ],
   "source": [
    "K17_PCA_accuracy = len(EM_data[EM_data['income_name']==EM_data['K17_PCA_label_name']])/len(EM_data)\n",
    "print('K=17 PCA EM -> {0:.4f}%'.format(K17_PCA_accuracy*100))"
   ]
  },
  {
   "cell_type": "code",
   "execution_count": 23,
   "metadata": {},
   "outputs": [
    {
     "data": {
      "text/html": [
       "<div>\n",
       "<style>\n",
       "    .dataframe thead tr:only-child th {\n",
       "        text-align: right;\n",
       "    }\n",
       "\n",
       "    .dataframe thead th {\n",
       "        text-align: left;\n",
       "    }\n",
       "\n",
       "    .dataframe tbody tr th {\n",
       "        vertical-align: top;\n",
       "    }\n",
       "</style>\n",
       "<table border=\"1\" class=\"dataframe\">\n",
       "  <thead>\n",
       "    <tr style=\"text-align: right;\">\n",
       "      <th></th>\n",
       "      <th>PCA1</th>\n",
       "      <th>PCA2</th>\n",
       "      <th>income</th>\n",
       "      <th>income_name</th>\n",
       "    </tr>\n",
       "  </thead>\n",
       "  <tbody>\n",
       "    <tr>\n",
       "      <th>0</th>\n",
       "      <td>1096.500633</td>\n",
       "      <td>-85.406088</td>\n",
       "      <td>0</td>\n",
       "      <td>&lt;=50K</td>\n",
       "    </tr>\n",
       "    <tr>\n",
       "      <th>1</th>\n",
       "      <td>-1077.497967</td>\n",
       "      <td>-89.189598</td>\n",
       "      <td>0</td>\n",
       "      <td>&lt;=50K</td>\n",
       "    </tr>\n",
       "    <tr>\n",
       "      <th>2</th>\n",
       "      <td>-1077.496355</td>\n",
       "      <td>-89.169952</td>\n",
       "      <td>0</td>\n",
       "      <td>&lt;=50K</td>\n",
       "    </tr>\n",
       "    <tr>\n",
       "      <th>3</th>\n",
       "      <td>-1077.494285</td>\n",
       "      <td>-89.140365</td>\n",
       "      <td>0</td>\n",
       "      <td>&lt;=50K</td>\n",
       "    </tr>\n",
       "    <tr>\n",
       "      <th>4</th>\n",
       "      <td>-1077.497600</td>\n",
       "      <td>-89.187903</td>\n",
       "      <td>0</td>\n",
       "      <td>&lt;=50K</td>\n",
       "    </tr>\n",
       "  </tbody>\n",
       "</table>\n",
       "</div>"
      ],
      "text/plain": [
       "          PCA1       PCA2  income income_name\n",
       "0  1096.500633 -85.406088       0       <=50K\n",
       "1 -1077.497967 -89.189598       0       <=50K\n",
       "2 -1077.496355 -89.169952       0       <=50K\n",
       "3 -1077.494285 -89.140365       0       <=50K\n",
       "4 -1077.497600 -89.187903       0       <=50K"
      ]
     },
     "execution_count": 23,
     "metadata": {},
     "output_type": "execute_result"
    }
   ],
   "source": [
    "#K-means\n",
    "data_PCA_df = pd.DataFrame(data=data_PCA[0:,0:],\n",
    "                   columns=['PCA1','PCA2'])\n",
    "data_PCA_df['income'] = datalist_label\n",
    "data_PCA_df['income_name'] = datalist_names\n",
    "data_PCA_df.head()"
   ]
  },
  {
   "cell_type": "code",
   "execution_count": 24,
   "metadata": {
    "collapsed": true
   },
   "outputs": [],
   "source": [
    "#EM treated for NN\n",
    "#choose EM_PCA2_prob and K17_PCA_label \n",
    "\n",
    "data_PCA_EM_NN_df = pd.DataFrame(data=data_PCA[0:,0:],\n",
    "                   columns=['PCA1','PCA2'])\n",
    "data_PCA_EM_NN_df['PCA2_label'] = EM_data['K2_PCA_label']\n",
    "#data_PCA_EM_NN_df['PCA17_label'] = EM_data['K17_PCA_label']\n",
    "data_PCA_EM_NN=data_PCA_EM_NN_df.values"
   ]
  },
  {
   "cell_type": "code",
   "execution_count": 25,
   "metadata": {},
   "outputs": [
    {
     "name": "stdout",
     "output_type": "stream",
     "text": [
      "Iteration 1, loss = 3851.09224409\n",
      "Iteration 2, loss = 4394.21278981\n",
      "Iteration 3, loss = 4394.04055970\n",
      "Iteration 4, loss = 4393.86658003\n",
      "Training loss did not improve more than tol=0.000100 for two consecutive epochs. Stopping.\n",
      "Training set score: 0.759214\n",
      "Training variance:  0.0\n",
      "Test set score: 0.759121\n",
      "Testing variance:  0.0\n",
      "Running Time:  0.29201674461364746\n"
     ]
    }
   ],
   "source": [
    "#NN upon PCA EM K=2 or 17 dataset\n",
    "X_train = data_PCA_EM_NN[train_index]\n",
    "y_train = datalist_label[train_index]\n",
    "X_test  = data_PCA_EM_NN[test_index]\n",
    "y_test  = datalist_label[test_index]\n",
    "\n",
    "start_time = time.time()\n",
    "\n",
    "mlp = MLPClassifier(hidden_layer_sizes=(50,10), max_iter=1000, alpha=1e-4,\n",
    "                    solver='sgd', verbose=10, tol=1e-4, random_state=1,\n",
    "                    learning_rate_init=.03)\n",
    "\n",
    "mlp.fit(X_train, y_train)\n",
    "y_train_pred = mlp.predict(X_train)\n",
    "y_test_pred = mlp.predict(X_test)\n",
    "elapsed_time = time.time() - start_time\n",
    "\n",
    "print(\"Training set score: %f\" % mlp.score(X_train, y_train))\n",
    "print (\"Training variance: \", explained_variance_score(y_train, y_train_pred, multioutput='uniform_average'))\n",
    "print(\"Test set score: %f\" % mlp.score(X_test, y_test))\n",
    "print (\"Testing variance: \", explained_variance_score(y_test, y_test_pred, multioutput='uniform_average'))\n",
    "print (\"Running Time: \", elapsed_time)"
   ]
  },
  {
   "cell_type": "code",
   "execution_count": 26,
   "metadata": {},
   "outputs": [
    {
     "data": {
      "text/html": [
       "<div>\n",
       "<style>\n",
       "    .dataframe thead tr:only-child th {\n",
       "        text-align: right;\n",
       "    }\n",
       "\n",
       "    .dataframe thead th {\n",
       "        text-align: left;\n",
       "    }\n",
       "\n",
       "    .dataframe tbody tr th {\n",
       "        vertical-align: top;\n",
       "    }\n",
       "</style>\n",
       "<table border=\"1\" class=\"dataframe\">\n",
       "  <thead>\n",
       "    <tr style=\"text-align: right;\">\n",
       "      <th></th>\n",
       "      <th>PCA1</th>\n",
       "      <th>PCA2</th>\n",
       "      <th>income</th>\n",
       "    </tr>\n",
       "  </thead>\n",
       "  <tbody>\n",
       "    <tr>\n",
       "      <th>count</th>\n",
       "      <td>3.256100e+04</td>\n",
       "      <td>3.256100e+04</td>\n",
       "      <td>32561.000000</td>\n",
       "    </tr>\n",
       "    <tr>\n",
       "      <th>mean</th>\n",
       "      <td>1.477046e-13</td>\n",
       "      <td>9.444516e-16</td>\n",
       "      <td>0.240810</td>\n",
       "    </tr>\n",
       "    <tr>\n",
       "      <th>std</th>\n",
       "      <td>7.385303e+03</td>\n",
       "      <td>4.027597e+02</td>\n",
       "      <td>0.427581</td>\n",
       "    </tr>\n",
       "    <tr>\n",
       "      <th>min</th>\n",
       "      <td>-1.085029e+03</td>\n",
       "      <td>-8.927864e+01</td>\n",
       "      <td>0.000000</td>\n",
       "    </tr>\n",
       "    <tr>\n",
       "      <th>25%</th>\n",
       "      <td>-1.077498e+03</td>\n",
       "      <td>-8.918906e+01</td>\n",
       "      <td>0.000000</td>\n",
       "    </tr>\n",
       "    <tr>\n",
       "      <th>50%</th>\n",
       "      <td>-1.077496e+03</td>\n",
       "      <td>-8.916197e+01</td>\n",
       "      <td>0.000000</td>\n",
       "    </tr>\n",
       "    <tr>\n",
       "      <th>75%</th>\n",
       "      <td>-1.077494e+03</td>\n",
       "      <td>-8.913080e+01</td>\n",
       "      <td>0.000000</td>\n",
       "    </tr>\n",
       "    <tr>\n",
       "      <th>max</th>\n",
       "      <td>9.892136e+04</td>\n",
       "      <td>4.266911e+03</td>\n",
       "      <td>1.000000</td>\n",
       "    </tr>\n",
       "  </tbody>\n",
       "</table>\n",
       "</div>"
      ],
      "text/plain": [
       "               PCA1          PCA2        income\n",
       "count  3.256100e+04  3.256100e+04  32561.000000\n",
       "mean   1.477046e-13  9.444516e-16      0.240810\n",
       "std    7.385303e+03  4.027597e+02      0.427581\n",
       "min   -1.085029e+03 -8.927864e+01      0.000000\n",
       "25%   -1.077498e+03 -8.918906e+01      0.000000\n",
       "50%   -1.077496e+03 -8.916197e+01      0.000000\n",
       "75%   -1.077494e+03 -8.913080e+01      0.000000\n",
       "max    9.892136e+04  4.266911e+03      1.000000"
      ]
     },
     "execution_count": 26,
     "metadata": {},
     "output_type": "execute_result"
    }
   ],
   "source": [
    "data_PCA_df.describe()"
   ]
  },
  {
   "cell_type": "code",
   "execution_count": 27,
   "metadata": {},
   "outputs": [
    {
     "data": {
      "text/html": [
       "<div>\n",
       "<style>\n",
       "    .dataframe thead tr:only-child th {\n",
       "        text-align: right;\n",
       "    }\n",
       "\n",
       "    .dataframe thead th {\n",
       "        text-align: left;\n",
       "    }\n",
       "\n",
       "    .dataframe tbody tr th {\n",
       "        vertical-align: top;\n",
       "    }\n",
       "</style>\n",
       "<table border=\"1\" class=\"dataframe\">\n",
       "  <thead>\n",
       "    <tr style=\"text-align: right;\">\n",
       "      <th></th>\n",
       "      <th>PCA1</th>\n",
       "      <th>PCA2</th>\n",
       "    </tr>\n",
       "    <tr>\n",
       "      <th>income_name</th>\n",
       "      <th></th>\n",
       "      <th></th>\n",
       "    </tr>\n",
       "  </thead>\n",
       "  <tbody>\n",
       "    <tr>\n",
       "      <th>&lt;=50K</th>\n",
       "      <td>-928.836358</td>\n",
       "      <td>-35.774153</td>\n",
       "    </tr>\n",
       "    <tr>\n",
       "      <th>&gt;50K</th>\n",
       "      <td>2928.304395</td>\n",
       "      <td>112.783710</td>\n",
       "    </tr>\n",
       "  </tbody>\n",
       "</table>\n",
       "</div>"
      ],
      "text/plain": [
       "                    PCA1        PCA2\n",
       "income_name                         \n",
       "<=50K        -928.836358  -35.774153\n",
       ">50K         2928.304395  112.783710"
      ]
     },
     "execution_count": 27,
     "metadata": {},
     "output_type": "execute_result"
    }
   ],
   "source": [
    "data_PCA_df.pivot_table(index='income_name', values=['PCA1','PCA2'],aggfunc=np.mean)"
   ]
  },
  {
   "cell_type": "code",
   "execution_count": 28,
   "metadata": {},
   "outputs": [
    {
     "data": {
      "text/html": [
       "<div>\n",
       "<style>\n",
       "    .dataframe thead tr:only-child th {\n",
       "        text-align: right;\n",
       "    }\n",
       "\n",
       "    .dataframe thead th {\n",
       "        text-align: left;\n",
       "    }\n",
       "\n",
       "    .dataframe tbody tr th {\n",
       "        vertical-align: top;\n",
       "    }\n",
       "</style>\n",
       "<table border=\"1\" class=\"dataframe\">\n",
       "  <thead>\n",
       "    <tr style=\"text-align: right;\">\n",
       "      <th></th>\n",
       "      <th>PCA1</th>\n",
       "      <th>PCA2</th>\n",
       "      <th>income</th>\n",
       "    </tr>\n",
       "  </thead>\n",
       "  <tbody>\n",
       "    <tr>\n",
       "      <th>PCA1</th>\n",
       "      <td>1.000000e+00</td>\n",
       "      <td>-1.806608e-13</td>\n",
       "      <td>0.223314</td>\n",
       "    </tr>\n",
       "    <tr>\n",
       "      <th>PCA2</th>\n",
       "      <td>-1.806608e-13</td>\n",
       "      <td>1.000000e+00</td>\n",
       "      <td>0.157713</td>\n",
       "    </tr>\n",
       "    <tr>\n",
       "      <th>income</th>\n",
       "      <td>2.233141e-01</td>\n",
       "      <td>1.577134e-01</td>\n",
       "      <td>1.000000</td>\n",
       "    </tr>\n",
       "  </tbody>\n",
       "</table>\n",
       "</div>"
      ],
      "text/plain": [
       "                PCA1          PCA2    income\n",
       "PCA1    1.000000e+00 -1.806608e-13  0.223314\n",
       "PCA2   -1.806608e-13  1.000000e+00  0.157713\n",
       "income  2.233141e-01  1.577134e-01  1.000000"
      ]
     },
     "execution_count": 28,
     "metadata": {},
     "output_type": "execute_result"
    }
   ],
   "source": [
    "d_corr_PCA1=data_PCA_df.iloc[:,[0,1,2]].corr()\n",
    "d_corr_PCA1\n",
    "#acceptable related to safety most, for features only lug_boot related to persons"
   ]
  },
  {
   "cell_type": "code",
   "execution_count": 29,
   "metadata": {},
   "outputs": [
    {
     "data": {
      "image/png": "[encoded data removed]",
      "text/plain": [
       "<matplotlib.figure.Figure at 0x1524a780>"
      ]
     },
     "metadata": {},
     "output_type": "display_data"
    }
   ],
   "source": [
    "sns.set_style('whitegrid')\n",
    "sns.pairplot(data_PCA_df.iloc[:,[0,1,2,3]], hue='income_name')\n",
    "plt.show()"
   ]
  },
  {
   "cell_type": "code",
   "execution_count": 30,
   "metadata": {},
   "outputs": [
    {
     "data": {
      "image/png": "[encoded data removed]",
      "text/plain": [
       "<matplotlib.figure.Figure at 0x17a11be0>"
      ]
     },
     "metadata": {},
     "output_type": "display_data"
    }
   ],
   "source": [
    "sns.set_style('whitegrid')\n",
    "plt.figure(figsize=(15,6))\n",
    "mask = np.zeros_like(d_corr_PCA1, dtype=np.bool)\n",
    "mask[np.triu_indices_from(mask)] = True\n",
    "cmap = sns.diverging_palette(220, 10, as_cmap=True)\n",
    "sns.heatmap(d_corr_PCA1,mask=mask, cmap=cmap, vmax=.3,\n",
    "            square=True,\n",
    "            linewidths=.5, cbar_kws={\"shrink\": .5})\n",
    "plt.show()"
   ]
  },
  {
   "cell_type": "code",
   "execution_count": 31,
   "metadata": {},
   "outputs": [
    {
     "data": {
      "image/png": "[encoded data removed]",
      "text/plain": [
       "<matplotlib.figure.Figure at 0x17bc7080>"
      ]
     },
     "metadata": {},
     "output_type": "display_data"
    }
   ],
   "source": [
    "#K=2 K-means\n",
    "kmeans_model_1 = KMeans(n_clusters=2,random_state=123)\n",
    "distances_1 = kmeans_model_1.fit_transform(data_PCA_df.iloc[:,0:2])\n",
    "labels_1 = kmeans_model_1.labels_\n",
    "data_PCA_df['cluster_1']=labels_1\n",
    "with sns.color_palette(\"Set2\", 10):\n",
    "    sns.pairplot(data_PCA_df.iloc[:,[0,1,4]], hue='cluster_1')"
   ]
  },
  {
   "cell_type": "code",
   "execution_count": 32,
   "metadata": {},
   "outputs": [
    {
     "data": {
      "text/html": [
       "<div>\n",
       "<style>\n",
       "    .dataframe thead tr:only-child th {\n",
       "        text-align: right;\n",
       "    }\n",
       "\n",
       "    .dataframe thead th {\n",
       "        text-align: left;\n",
       "    }\n",
       "\n",
       "    .dataframe tbody tr th {\n",
       "        vertical-align: top;\n",
       "    }\n",
       "</style>\n",
       "<table border=\"1\" class=\"dataframe\">\n",
       "  <thead>\n",
       "    <tr style=\"text-align: right;\">\n",
       "      <th>col_0</th>\n",
       "      <th>0</th>\n",
       "      <th>1</th>\n",
       "    </tr>\n",
       "    <tr>\n",
       "      <th>income_name</th>\n",
       "      <th></th>\n",
       "      <th></th>\n",
       "    </tr>\n",
       "  </thead>\n",
       "  <tbody>\n",
       "    <tr>\n",
       "      <th>&lt;=50K</th>\n",
       "      <td>24720</td>\n",
       "      <td>0</td>\n",
       "    </tr>\n",
       "    <tr>\n",
       "      <th>&gt;50K</th>\n",
       "      <td>7682</td>\n",
       "      <td>159</td>\n",
       "    </tr>\n",
       "  </tbody>\n",
       "</table>\n",
       "</div>"
      ],
      "text/plain": [
       "col_0            0    1\n",
       "income_name            \n",
       "<=50K        24720    0\n",
       ">50K          7682  159"
      ]
     },
     "execution_count": 32,
     "metadata": {},
     "output_type": "execute_result"
    }
   ],
   "source": [
    "#statistics of acceptable_label cluster_1 vs species\n",
    "tb1 = pd.crosstab(data_PCA_df['income_name'],labels_1)\n",
    "tb1"
   ]
  },
  {
   "cell_type": "code",
   "execution_count": 33,
   "metadata": {},
   "outputs": [
    {
     "data": {
      "text/html": [
       "<div>\n",
       "<style>\n",
       "    .dataframe thead tr:only-child th {\n",
       "        text-align: right;\n",
       "    }\n",
       "\n",
       "    .dataframe thead th {\n",
       "        text-align: left;\n",
       "    }\n",
       "\n",
       "    .dataframe tbody tr th {\n",
       "        vertical-align: top;\n",
       "    }\n",
       "</style>\n",
       "<table border=\"1\" class=\"dataframe\">\n",
       "  <thead>\n",
       "    <tr style=\"text-align: right;\">\n",
       "      <th></th>\n",
       "      <th>PCA1</th>\n",
       "      <th>PCA2</th>\n",
       "      <th>income</th>\n",
       "      <th>income_name</th>\n",
       "      <th>cluster_1</th>\n",
       "      <th>cluster_1_label</th>\n",
       "    </tr>\n",
       "  </thead>\n",
       "  <tbody>\n",
       "    <tr>\n",
       "      <th>0</th>\n",
       "      <td>1096.500633</td>\n",
       "      <td>-85.406088</td>\n",
       "      <td>0</td>\n",
       "      <td>&lt;=50K</td>\n",
       "      <td>0</td>\n",
       "      <td>&lt;=50K</td>\n",
       "    </tr>\n",
       "    <tr>\n",
       "      <th>1</th>\n",
       "      <td>-1077.497967</td>\n",
       "      <td>-89.189598</td>\n",
       "      <td>0</td>\n",
       "      <td>&lt;=50K</td>\n",
       "      <td>0</td>\n",
       "      <td>&lt;=50K</td>\n",
       "    </tr>\n",
       "    <tr>\n",
       "      <th>2</th>\n",
       "      <td>-1077.496355</td>\n",
       "      <td>-89.169952</td>\n",
       "      <td>0</td>\n",
       "      <td>&lt;=50K</td>\n",
       "      <td>0</td>\n",
       "      <td>&lt;=50K</td>\n",
       "    </tr>\n",
       "    <tr>\n",
       "      <th>3</th>\n",
       "      <td>-1077.494285</td>\n",
       "      <td>-89.140365</td>\n",
       "      <td>0</td>\n",
       "      <td>&lt;=50K</td>\n",
       "      <td>0</td>\n",
       "      <td>&lt;=50K</td>\n",
       "    </tr>\n",
       "    <tr>\n",
       "      <th>4</th>\n",
       "      <td>-1077.497600</td>\n",
       "      <td>-89.187903</td>\n",
       "      <td>0</td>\n",
       "      <td>&lt;=50K</td>\n",
       "      <td>0</td>\n",
       "      <td>&lt;=50K</td>\n",
       "    </tr>\n",
       "  </tbody>\n",
       "</table>\n",
       "</div>"
      ],
      "text/plain": [
       "          PCA1       PCA2  income income_name  cluster_1 cluster_1_label\n",
       "0  1096.500633 -85.406088       0       <=50K          0           <=50K\n",
       "1 -1077.497967 -89.189598       0       <=50K          0           <=50K\n",
       "2 -1077.496355 -89.169952       0       <=50K          0           <=50K\n",
       "3 -1077.494285 -89.140365       0       <=50K          0           <=50K\n",
       "4 -1077.497600 -89.187903       0       <=50K          0           <=50K"
      ]
     },
     "execution_count": 33,
     "metadata": {},
     "output_type": "execute_result"
    }
   ],
   "source": [
    "#PCA cluster_1_label\n",
    "def cluster_1_label(alpha):\n",
    "    label_max = max(tb1.iloc[i,alpha] for i in range(2))\n",
    "    if tb1.iloc[0,alpha] == label_max:\n",
    "        return '<=50K'\n",
    "    if tb1.iloc[1,alpha] == label_max:\n",
    "        return '>50K'\n",
    "data_PCA_df['cluster_1_label']=data_PCA_df['cluster_1'].apply(cluster_1_label)\n",
    "data_PCA_df.head()"
   ]
  },
  {
   "cell_type": "code",
   "execution_count": 34,
   "metadata": {
    "scrolled": true
   },
   "outputs": [
    {
     "data": {
      "image/png": "[encoded data removed]",
      "text/plain": [
       "<matplotlib.figure.Figure at 0x192bc7f0>"
      ]
     },
     "metadata": {},
     "output_type": "display_data"
    }
   ],
   "source": [
    "#K=4\n",
    "kmeans_model_4 = KMeans(n_clusters=4,random_state=123)\n",
    "distances_4 = kmeans_model_4.fit_transform(data_PCA_df.iloc[:,0:2])\n",
    "labels_4 = kmeans_model_4.labels_\n",
    "data_PCA_df['cluster_4']=labels_4\n",
    "with sns.color_palette(\"Set2\", 10):\n",
    "    sns.pairplot(data_PCA_df.iloc[:,[0,1,6]], hue='cluster_4')"
   ]
  },
  {
   "cell_type": "code",
   "execution_count": 35,
   "metadata": {
    "scrolled": true
   },
   "outputs": [
    {
     "data": {
      "text/html": [
       "<div>\n",
       "<style>\n",
       "    .dataframe thead tr:only-child th {\n",
       "        text-align: right;\n",
       "    }\n",
       "\n",
       "    .dataframe thead th {\n",
       "        text-align: left;\n",
       "    }\n",
       "\n",
       "    .dataframe tbody tr th {\n",
       "        vertical-align: top;\n",
       "    }\n",
       "</style>\n",
       "<table border=\"1\" class=\"dataframe\">\n",
       "  <thead>\n",
       "    <tr style=\"text-align: right;\">\n",
       "      <th>col_0</th>\n",
       "      <th>0</th>\n",
       "      <th>1</th>\n",
       "      <th>2</th>\n",
       "      <th>3</th>\n",
       "    </tr>\n",
       "    <tr>\n",
       "      <th>income_name</th>\n",
       "      <th></th>\n",
       "      <th></th>\n",
       "      <th></th>\n",
       "      <th></th>\n",
       "    </tr>\n",
       "  </thead>\n",
       "  <tbody>\n",
       "    <tr>\n",
       "      <th>&lt;=50K</th>\n",
       "      <td>24147</td>\n",
       "      <td>0</td>\n",
       "      <td>8</td>\n",
       "      <td>565</td>\n",
       "    </tr>\n",
       "    <tr>\n",
       "      <th>&gt;50K</th>\n",
       "      <td>6164</td>\n",
       "      <td>159</td>\n",
       "      <td>542</td>\n",
       "      <td>976</td>\n",
       "    </tr>\n",
       "  </tbody>\n",
       "</table>\n",
       "</div>"
      ],
      "text/plain": [
       "col_0            0    1    2    3\n",
       "income_name                      \n",
       "<=50K        24147    0    8  565\n",
       ">50K          6164  159  542  976"
      ]
     },
     "execution_count": 35,
     "metadata": {},
     "output_type": "execute_result"
    }
   ],
   "source": [
    "#compare labels K=4\n",
    "tb1 = pd.crosstab(data_PCA_df['income_name'],labels_4)\n",
    "tb1"
   ]
  },
  {
   "cell_type": "code",
   "execution_count": 36,
   "metadata": {},
   "outputs": [
    {
     "data": {
      "text/html": [
       "<div>\n",
       "<style>\n",
       "    .dataframe thead tr:only-child th {\n",
       "        text-align: right;\n",
       "    }\n",
       "\n",
       "    .dataframe thead th {\n",
       "        text-align: left;\n",
       "    }\n",
       "\n",
       "    .dataframe tbody tr th {\n",
       "        vertical-align: top;\n",
       "    }\n",
       "</style>\n",
       "<table border=\"1\" class=\"dataframe\">\n",
       "  <thead>\n",
       "    <tr style=\"text-align: right;\">\n",
       "      <th></th>\n",
       "      <th>PCA1</th>\n",
       "      <th>PCA2</th>\n",
       "      <th>income</th>\n",
       "      <th>income_name</th>\n",
       "      <th>cluster_1</th>\n",
       "      <th>cluster_1_label</th>\n",
       "      <th>cluster_4</th>\n",
       "      <th>cluster_4_label</th>\n",
       "    </tr>\n",
       "  </thead>\n",
       "  <tbody>\n",
       "    <tr>\n",
       "      <th>0</th>\n",
       "      <td>1096.500633</td>\n",
       "      <td>-85.406088</td>\n",
       "      <td>0</td>\n",
       "      <td>&lt;=50K</td>\n",
       "      <td>0</td>\n",
       "      <td>&lt;=50K</td>\n",
       "      <td>0</td>\n",
       "      <td>&lt;=50K</td>\n",
       "    </tr>\n",
       "    <tr>\n",
       "      <th>1</th>\n",
       "      <td>-1077.497967</td>\n",
       "      <td>-89.189598</td>\n",
       "      <td>0</td>\n",
       "      <td>&lt;=50K</td>\n",
       "      <td>0</td>\n",
       "      <td>&lt;=50K</td>\n",
       "      <td>0</td>\n",
       "      <td>&lt;=50K</td>\n",
       "    </tr>\n",
       "    <tr>\n",
       "      <th>2</th>\n",
       "      <td>-1077.496355</td>\n",
       "      <td>-89.169952</td>\n",
       "      <td>0</td>\n",
       "      <td>&lt;=50K</td>\n",
       "      <td>0</td>\n",
       "      <td>&lt;=50K</td>\n",
       "      <td>0</td>\n",
       "      <td>&lt;=50K</td>\n",
       "    </tr>\n",
       "    <tr>\n",
       "      <th>3</th>\n",
       "      <td>-1077.494285</td>\n",
       "      <td>-89.140365</td>\n",
       "      <td>0</td>\n",
       "      <td>&lt;=50K</td>\n",
       "      <td>0</td>\n",
       "      <td>&lt;=50K</td>\n",
       "      <td>0</td>\n",
       "      <td>&lt;=50K</td>\n",
       "    </tr>\n",
       "    <tr>\n",
       "      <th>4</th>\n",
       "      <td>-1077.497600</td>\n",
       "      <td>-89.187903</td>\n",
       "      <td>0</td>\n",
       "      <td>&lt;=50K</td>\n",
       "      <td>0</td>\n",
       "      <td>&lt;=50K</td>\n",
       "      <td>0</td>\n",
       "      <td>&lt;=50K</td>\n",
       "    </tr>\n",
       "  </tbody>\n",
       "</table>\n",
       "</div>"
      ],
      "text/plain": [
       "          PCA1       PCA2  income income_name  cluster_1 cluster_1_label  \\\n",
       "0  1096.500633 -85.406088       0       <=50K          0           <=50K   \n",
       "1 -1077.497967 -89.189598       0       <=50K          0           <=50K   \n",
       "2 -1077.496355 -89.169952       0       <=50K          0           <=50K   \n",
       "3 -1077.494285 -89.140365       0       <=50K          0           <=50K   \n",
       "4 -1077.497600 -89.187903       0       <=50K          0           <=50K   \n",
       "\n",
       "   cluster_4 cluster_4_label  \n",
       "0          0           <=50K  \n",
       "1          0           <=50K  \n",
       "2          0           <=50K  \n",
       "3          0           <=50K  \n",
       "4          0           <=50K  "
      ]
     },
     "execution_count": 36,
     "metadata": {},
     "output_type": "execute_result"
    }
   ],
   "source": [
    "data_PCA_df['cluster_4_label']=data_PCA_df['cluster_4'].apply(cluster_1_label)\n",
    "data_PCA_df.head()"
   ]
  },
  {
   "cell_type": "code",
   "execution_count": 37,
   "metadata": {},
   "outputs": [
    {
     "data": {
      "text/html": [
       "<div>\n",
       "<style>\n",
       "    .dataframe thead tr:only-child th {\n",
       "        text-align: right;\n",
       "    }\n",
       "\n",
       "    .dataframe thead th {\n",
       "        text-align: left;\n",
       "    }\n",
       "\n",
       "    .dataframe tbody tr th {\n",
       "        vertical-align: top;\n",
       "    }\n",
       "</style>\n",
       "<table border=\"1\" class=\"dataframe\">\n",
       "  <thead>\n",
       "    <tr style=\"text-align: right;\">\n",
       "      <th></th>\n",
       "      <th>PCA1</th>\n",
       "      <th>PCA2</th>\n",
       "      <th>income</th>\n",
       "      <th>income_name</th>\n",
       "      <th>cluster_1</th>\n",
       "      <th>cluster_1_label</th>\n",
       "      <th>cluster_4</th>\n",
       "      <th>cluster_4_label</th>\n",
       "    </tr>\n",
       "  </thead>\n",
       "  <tbody>\n",
       "    <tr>\n",
       "      <th>0</th>\n",
       "      <td>1096.500633</td>\n",
       "      <td>-85.406088</td>\n",
       "      <td>0</td>\n",
       "      <td>&lt;=50K</td>\n",
       "      <td>0</td>\n",
       "      <td>&lt;=50K</td>\n",
       "      <td>0</td>\n",
       "      <td>&lt;=50K</td>\n",
       "    </tr>\n",
       "    <tr>\n",
       "      <th>1</th>\n",
       "      <td>-1077.497967</td>\n",
       "      <td>-89.189598</td>\n",
       "      <td>0</td>\n",
       "      <td>&lt;=50K</td>\n",
       "      <td>0</td>\n",
       "      <td>&lt;=50K</td>\n",
       "      <td>0</td>\n",
       "      <td>&lt;=50K</td>\n",
       "    </tr>\n",
       "    <tr>\n",
       "      <th>2</th>\n",
       "      <td>-1077.496355</td>\n",
       "      <td>-89.169952</td>\n",
       "      <td>0</td>\n",
       "      <td>&lt;=50K</td>\n",
       "      <td>0</td>\n",
       "      <td>&lt;=50K</td>\n",
       "      <td>0</td>\n",
       "      <td>&lt;=50K</td>\n",
       "    </tr>\n",
       "    <tr>\n",
       "      <th>3</th>\n",
       "      <td>-1077.494285</td>\n",
       "      <td>-89.140365</td>\n",
       "      <td>0</td>\n",
       "      <td>&lt;=50K</td>\n",
       "      <td>0</td>\n",
       "      <td>&lt;=50K</td>\n",
       "      <td>0</td>\n",
       "      <td>&lt;=50K</td>\n",
       "    </tr>\n",
       "    <tr>\n",
       "      <th>4</th>\n",
       "      <td>-1077.497600</td>\n",
       "      <td>-89.187903</td>\n",
       "      <td>0</td>\n",
       "      <td>&lt;=50K</td>\n",
       "      <td>0</td>\n",
       "      <td>&lt;=50K</td>\n",
       "      <td>0</td>\n",
       "      <td>&lt;=50K</td>\n",
       "    </tr>\n",
       "  </tbody>\n",
       "</table>\n",
       "</div>"
      ],
      "text/plain": [
       "          PCA1       PCA2  income income_name  cluster_1 cluster_1_label  \\\n",
       "0  1096.500633 -85.406088       0       <=50K          0           <=50K   \n",
       "1 -1077.497967 -89.189598       0       <=50K          0           <=50K   \n",
       "2 -1077.496355 -89.169952       0       <=50K          0           <=50K   \n",
       "3 -1077.494285 -89.140365       0       <=50K          0           <=50K   \n",
       "4 -1077.497600 -89.187903       0       <=50K          0           <=50K   \n",
       "\n",
       "   cluster_4 cluster_4_label  \n",
       "0          0           <=50K  \n",
       "1          0           <=50K  \n",
       "2          0           <=50K  \n",
       "3          0           <=50K  \n",
       "4          0           <=50K  "
      ]
     },
     "execution_count": 37,
     "metadata": {},
     "output_type": "execute_result"
    }
   ],
   "source": [
    "#cluster_4_label\n",
    "data_PCA_df['cluster_4_label']=data_PCA_df['cluster_4'].apply(cluster_1_label)\n",
    "data_PCA_df.head()"
   ]
  },
  {
   "cell_type": "code",
   "execution_count": 38,
   "metadata": {
    "scrolled": true
   },
   "outputs": [
    {
     "name": "stdout",
     "output_type": "stream",
     "text": [
      "[[ -4.85417425e+02  -4.11330140e-01]\n",
      " [  9.89213547e+04   8.38233911e+01]]\n"
     ]
    }
   ],
   "source": [
    "#find center of K-means=4\n",
    "centroids_PCA1 = kmeans_model_1.cluster_centers_\n",
    "print (centroids_PCA1)"
   ]
  },
  {
   "cell_type": "code",
   "execution_count": 39,
   "metadata": {
    "collapsed": true
   },
   "outputs": [],
   "source": [
    "#find center of K-means=40\n",
    "centroids_PCA4 = kmeans_model_4.cluster_centers_"
   ]
  },
  {
   "cell_type": "code",
   "execution_count": 40,
   "metadata": {
    "scrolled": true
   },
   "outputs": [
    {
     "data": {
      "text/html": [
       "<div>\n",
       "<style>\n",
       "    .dataframe thead tr:only-child th {\n",
       "        text-align: right;\n",
       "    }\n",
       "\n",
       "    .dataframe thead th {\n",
       "        text-align: left;\n",
       "    }\n",
       "\n",
       "    .dataframe tbody tr th {\n",
       "        vertical-align: top;\n",
       "    }\n",
       "</style>\n",
       "<table border=\"1\" class=\"dataframe\">\n",
       "  <thead>\n",
       "    <tr style=\"text-align: right;\">\n",
       "      <th></th>\n",
       "      <th>PCA1</th>\n",
       "      <th>PCA2</th>\n",
       "      <th>income</th>\n",
       "      <th>income_name</th>\n",
       "      <th>cluster_1</th>\n",
       "      <th>cluster_1_label</th>\n",
       "      <th>cluster_4</th>\n",
       "      <th>cluster_4_label</th>\n",
       "    </tr>\n",
       "  </thead>\n",
       "  <tbody>\n",
       "    <tr>\n",
       "      <th>0</th>\n",
       "      <td>1096.500633</td>\n",
       "      <td>-85.406088</td>\n",
       "      <td>0</td>\n",
       "      <td>&lt;=50K</td>\n",
       "      <td>0</td>\n",
       "      <td>&lt;=50K</td>\n",
       "      <td>0</td>\n",
       "      <td>&lt;=50K</td>\n",
       "    </tr>\n",
       "    <tr>\n",
       "      <th>1</th>\n",
       "      <td>-1077.497967</td>\n",
       "      <td>-89.189598</td>\n",
       "      <td>0</td>\n",
       "      <td>&lt;=50K</td>\n",
       "      <td>0</td>\n",
       "      <td>&lt;=50K</td>\n",
       "      <td>0</td>\n",
       "      <td>&lt;=50K</td>\n",
       "    </tr>\n",
       "    <tr>\n",
       "      <th>2</th>\n",
       "      <td>-1077.496355</td>\n",
       "      <td>-89.169952</td>\n",
       "      <td>0</td>\n",
       "      <td>&lt;=50K</td>\n",
       "      <td>0</td>\n",
       "      <td>&lt;=50K</td>\n",
       "      <td>0</td>\n",
       "      <td>&lt;=50K</td>\n",
       "    </tr>\n",
       "    <tr>\n",
       "      <th>3</th>\n",
       "      <td>-1077.494285</td>\n",
       "      <td>-89.140365</td>\n",
       "      <td>0</td>\n",
       "      <td>&lt;=50K</td>\n",
       "      <td>0</td>\n",
       "      <td>&lt;=50K</td>\n",
       "      <td>0</td>\n",
       "      <td>&lt;=50K</td>\n",
       "    </tr>\n",
       "    <tr>\n",
       "      <th>4</th>\n",
       "      <td>-1077.497600</td>\n",
       "      <td>-89.187903</td>\n",
       "      <td>0</td>\n",
       "      <td>&lt;=50K</td>\n",
       "      <td>0</td>\n",
       "      <td>&lt;=50K</td>\n",
       "      <td>0</td>\n",
       "      <td>&lt;=50K</td>\n",
       "    </tr>\n",
       "  </tbody>\n",
       "</table>\n",
       "</div>"
      ],
      "text/plain": [
       "          PCA1       PCA2  income income_name  cluster_1 cluster_1_label  \\\n",
       "0  1096.500633 -85.406088       0       <=50K          0           <=50K   \n",
       "1 -1077.497967 -89.189598       0       <=50K          0           <=50K   \n",
       "2 -1077.496355 -89.169952       0       <=50K          0           <=50K   \n",
       "3 -1077.494285 -89.140365       0       <=50K          0           <=50K   \n",
       "4 -1077.497600 -89.187903       0       <=50K          0           <=50K   \n",
       "\n",
       "   cluster_4 cluster_4_label  \n",
       "0          0           <=50K  \n",
       "1          0           <=50K  \n",
       "2          0           <=50K  \n",
       "3          0           <=50K  \n",
       "4          0           <=50K  "
      ]
     },
     "execution_count": 40,
     "metadata": {},
     "output_type": "execute_result"
    }
   ],
   "source": [
    "data_PCA_df.head()"
   ]
  },
  {
   "cell_type": "code",
   "execution_count": 41,
   "metadata": {
    "scrolled": true
   },
   "outputs": [
    {
     "data": {
      "image/png": "[encoded data removed]",
      "text/plain": [
       "<matplotlib.figure.Figure at 0x1908f860>"
      ]
     },
     "metadata": {},
     "output_type": "display_data"
    }
   ],
   "source": [
    "import matplotlib.pyplot as plt\n",
    "from matplotlib import style\n",
    "style.use(\"ggplot\")\n",
    "colors = [\"g.\", \"r.\", \"b.\", \"y\"]\n",
    "for i in range(len(data_PCA_df)):\n",
    "    plt.plot(data_PCA_df.iloc[i,0],data_PCA_df.iloc[i,1], colors[data_PCA_df.iloc[i,2]], markersize = 10)    \n",
    "plt.scatter(centroids_PCA1[:,0], centroids_PCA1[:,1],marker=\"x\", s=150, linewidths =5, zorder=10)\n",
    "plt.xlabel('PCA1')\n",
    "plt.ylabel('PCA2')\n",
    "plt.show()\n"
   ]
  },
  {
   "cell_type": "code",
   "execution_count": 42,
   "metadata": {},
   "outputs": [
    {
     "data": {
      "image/png": "[encoded data removed]",
      "text/plain": [
       "<matplotlib.figure.Figure at 0x190fda20>"
      ]
     },
     "metadata": {},
     "output_type": "display_data"
    }
   ],
   "source": [
    "style.use(\"ggplot\")\n",
    "colors = [\"g.\", \"r.\", \"b.\", \"y.\", \"c.\", \"m.\", \"k.\", \"w.\",\n",
    "          \"g.\", \"r.\", \"b.\", \"y.\", \"c.\", \"m.\", \"k.\", \"w.\",\n",
    "          \"g.\", \"r.\", \"b.\", \"y.\", \"c.\", \"m.\", \"k.\", \"w.\",\n",
    "          \"g.\", \"r.\", \"b.\", \"y.\", \"c.\", \"m.\", \"k.\", \"w.\",\n",
    "          \"g.\", \"r.\", \"b.\", \"y.\", \"c.\", \"m.\", \"k.\", \"w.\"]\n",
    "for i in range(len(data_PCA_df)):\n",
    "    plt.plot(data_PCA_df.iloc[i,0],data_PCA_df.iloc[i,1], colors[data_PCA_df.iloc[i,4]], markersize = 10)    \n",
    "plt.scatter(centroids_PCA1[:,0], centroids_PCA1[:,1],marker=\"x\", s=150, linewidths =5, zorder=10)\n",
    "plt.xlabel('PCA1')\n",
    "plt.ylabel('PCA2')\n",
    "plt.show()\n"
   ]
  },
  {
   "cell_type": "code",
   "execution_count": 43,
   "metadata": {},
   "outputs": [
    {
     "data": {
      "text/html": [
       "<div>\n",
       "<style>\n",
       "    .dataframe thead tr:only-child th {\n",
       "        text-align: right;\n",
       "    }\n",
       "\n",
       "    .dataframe thead th {\n",
       "        text-align: left;\n",
       "    }\n",
       "\n",
       "    .dataframe tbody tr th {\n",
       "        vertical-align: top;\n",
       "    }\n",
       "</style>\n",
       "<table border=\"1\" class=\"dataframe\">\n",
       "  <thead>\n",
       "    <tr style=\"text-align: right;\">\n",
       "      <th></th>\n",
       "      <th>PCA1</th>\n",
       "      <th>PCA2</th>\n",
       "      <th>cluster_1</th>\n",
       "    </tr>\n",
       "  </thead>\n",
       "  <tbody>\n",
       "    <tr>\n",
       "      <th>PCA1</th>\n",
       "      <td>1.000000e+00</td>\n",
       "      <td>-1.806608e-13</td>\n",
       "      <td>0.938299</td>\n",
       "    </tr>\n",
       "    <tr>\n",
       "      <th>PCA2</th>\n",
       "      <td>-1.806608e-13</td>\n",
       "      <td>1.000000e+00</td>\n",
       "      <td>0.014579</td>\n",
       "    </tr>\n",
       "    <tr>\n",
       "      <th>cluster_1</th>\n",
       "      <td>9.382985e-01</td>\n",
       "      <td>1.457936e-02</td>\n",
       "      <td>1.000000</td>\n",
       "    </tr>\n",
       "  </tbody>\n",
       "</table>\n",
       "</div>"
      ],
      "text/plain": [
       "                   PCA1          PCA2  cluster_1\n",
       "PCA1       1.000000e+00 -1.806608e-13   0.938299\n",
       "PCA2      -1.806608e-13  1.000000e+00   0.014579\n",
       "cluster_1  9.382985e-01  1.457936e-02   1.000000"
      ]
     },
     "execution_count": 43,
     "metadata": {},
     "output_type": "execute_result"
    }
   ],
   "source": [
    "d_corr_PCA2=data_PCA_df.iloc[:,[0,1,4]].corr()\n",
    "d_corr_PCA2\n",
    "#lug_boot and persons"
   ]
  },
  {
   "cell_type": "code",
   "execution_count": 44,
   "metadata": {},
   "outputs": [
    {
     "name": "stdout",
     "output_type": "stream",
     "text": [
      "K=2 KMeans -> 76.4074%\n",
      "K=4 KMeans -> 79.3096%\n"
     ]
    }
   ],
   "source": [
    "cluster_1_accuracy = len(data_PCA_df[data_PCA_df['income_name']==data_PCA_df['cluster_1_label']])/len(data_PCA_df)\n",
    "cluster_4_accuracy = len(data_PCA_df[data_PCA_df['income_name']==data_PCA_df['cluster_4_label']])/len(data_PCA_df)\n",
    "print('K=2 KMeans -> {0:.4f}%'.format(cluster_1_accuracy*100))\n",
    "print('K=4 KMeans -> {0:.4f}%'.format(cluster_4_accuracy*100))"
   ]
  },
  {
   "cell_type": "code",
   "execution_count": 45,
   "metadata": {},
   "outputs": [
    {
     "data": {
      "image/png": "[encoded data removed]",
      "text/plain": [
       "<matplotlib.figure.Figure at 0x19608400>"
      ]
     },
     "metadata": {},
     "output_type": "display_data"
    }
   ],
   "source": [
    "style.use(\"ggplot\")\n",
    "colors = [\"g.\", \"r.\", \"b.\", \"y.\", \"c.\", \"m.\", \"k.\", \"w.\",\n",
    "          \"g.\", \"r.\", \"b.\", \"y.\", \"c.\", \"m.\", \"k.\", \"w.\",\n",
    "          \"g.\", \"r.\", \"b.\", \"y.\", \"c.\", \"m.\", \"k.\", \"w.\",\n",
    "          \"g.\", \"r.\", \"b.\", \"y.\", \"c.\", \"m.\", \"k.\", \"w.\",\n",
    "          \"g.\", \"r.\", \"b.\", \"y.\", \"c.\", \"m.\", \"k.\", \"w.\"]\n",
    "for i in range(len(data_PCA_df)):\n",
    "    plt.plot(data_PCA_df.iloc[i,0],data_PCA_df.iloc[i,1], colors[data_PCA_df.iloc[i,6]], markersize = 10)    \n",
    "plt.scatter(centroids_PCA4[:,0], centroids_PCA4[:,1],marker=\"x\", s=150, linewidths =5, zorder=10)\n",
    "plt.xlabel('PCA1')\n",
    "plt.ylabel('PCA2')\n",
    "plt.show()\n"
   ]
  },
  {
   "cell_type": "code",
   "execution_count": null,
   "metadata": {
    "collapsed": true
   },
   "outputs": [],
   "source": []
  }
 ],
 "metadata": {
  "kernelspec": {
   "display_name": "Python 3",
   "language": "python",
   "name": "python3"
  },
  "language_info": {
   "codemirror_mode": {
    "name": "ipython",
    "version": 3
   },
   "file_extension": ".py",
   "mimetype": "text/x-python",
   "name": "python",
   "nbconvert_exporter": "python",
   "pygments_lexer": "ipython3",
   "version": "3.6.2"
  }
 },
 "nbformat": 4,
 "nbformat_minor": 2
}
