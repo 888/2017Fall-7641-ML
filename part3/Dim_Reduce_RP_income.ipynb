{
 "cells": [
  {
   "cell_type": "code",
   "execution_count": 80,
   "metadata": {},
   "outputs": [
    {
     "name": "stdout",
     "output_type": "stream",
     "text": [
      "Automatically created module for IPython interactive environment\n"
     ]
    }
   ],
   "source": [
    "print(__doc__)\n",
    "\n",
    "import matplotlib as mpl\n",
    "import matplotlib.pyplot as plt\n",
    "import numpy as np\n",
    "import pandas as pd\n",
    "import seaborn as sns\n",
    "import scipy  \n",
    "from scipy import linalg\n",
    "\n",
    "from sklearn.cluster import KMeans\n",
    "from sklearn import datasets\n",
    "from sklearn.mixture import GaussianMixture\n",
    "from sklearn.decomposition import PCA\n",
    "from sklearn.preprocessing import scale  \n",
    "from sklearn import decomposition\n",
    "from mpl_toolkits.mplot3d import Axes3D\n",
    "from matplotlib import style\n",
    "from sklearn.model_selection import StratifiedKFold\n",
    "from sklearn.linear_model import LogisticRegression\n",
    "import itertools\n",
    "\n",
    "from sklearn import mixture\n",
    "\n",
    "\n",
    "style.use(\"ggplot\")\n",
    "%matplotlib inline\n",
    "\n"
   ]
  },
  {
   "cell_type": "code",
   "execution_count": 81,
   "metadata": {
    "scrolled": true
   },
   "outputs": [
    {
     "data": {
      "text/plain": [
       "array([[   39,     7,    13, ...,  2174,     0,    40],\n",
       "       [   50,     3,    13, ...,     0,     0,    13],\n",
       "       [   38,     2,     9, ...,     0,     0,    40],\n",
       "       ..., \n",
       "       [   58,     2,     9, ...,     0,     0,    40],\n",
       "       [   22,     2,     9, ...,     0,     0,    20],\n",
       "       [   52,     4,     9, ..., 15024,     0,    40]])"
      ]
     },
     "execution_count": 81,
     "metadata": {},
     "output_type": "execute_result"
    }
   ],
   "source": [
    "#dataset2\n",
    "raw_data = pd.read_csv('C:/Users/Chenming/Desktop/assignment3/Data3_income census/adult.csv')\n",
    "#age: numeric\n",
    "#fnlwgt: numeric\n",
    "#delete education because education number is repeating to this feature\n",
    "#education_num: numeric\n",
    "#capital_gain:numeric\n",
    "#capital_loss:numeric\n",
    "#hours_per_week:numeric\n",
    "#native_country: has too many non-numeric values, delete\n",
    "data=raw_data\n",
    "data.drop\n",
    "data['age']=raw_data.age\n",
    "data['age']=data.age.astype(int)\n",
    "data['fnlwgt']=raw_data.fnlwgt\n",
    "data['fnlwgt']=data.fnlwgt.astype(int)\n",
    "data['education_num']=raw_data.education_num\n",
    "data['education_num']=data.education_num.astype(int)\n",
    "data['capital_gain']=raw_data.capital_gain\n",
    "data['capital_gain']=data.capital_gain.astype(int)\n",
    "data['capital_loss']=raw_data.capital_loss\n",
    "data['capital_loss']=data.capital_loss.astype(int)\n",
    "data['hours_per_week']=raw_data.hours_per_week\n",
    "data['hours_per_week']=data.hours_per_week.astype(int)\n",
    "\n",
    "#convert workclass: Private, Self-emp-not-inc, Self-emp-inc, Federal-gov, Local-gov, State-gov, Without-pay, Never-worked\n",
    "raw_data['workclass'] = raw_data.workclass.str.replace('Without-pay','0')\n",
    "raw_data['workclass'] = raw_data.workclass.str.replace('Never-worked','1')\n",
    "raw_data['workclass'] = raw_data.workclass.str.replace('Private','2')\n",
    "raw_data['workclass'] = raw_data.workclass.str.replace('Self-emp-not-inc','3')\n",
    "raw_data['workclass'] = raw_data.workclass.str.replace('Self-emp-inc','4')\n",
    "raw_data['workclass'] = raw_data.workclass.str.replace('Federal-gov','5')\n",
    "raw_data['workclass'] = raw_data.workclass.str.replace('Local-gov','6')\n",
    "raw_data['workclass'] = raw_data.workclass.str.replace('State-gov','7')\n",
    "raw_data['workclass'] = raw_data.workclass.str.replace('?','8')\n",
    "\n",
    "data['workclass']=raw_data.workclass\n",
    "data['workclass']=data.workclass.astype(int)\n",
    "\n",
    "#convert marital_status: Married-civ-spouse, Divorced, Never-married, Separated, Widowed, Married-spouse-absent, Married-AF-spouse \n",
    "raw_data['marital_status'] = raw_data.marital_status.str.replace('Married-civ-spouse','0')\n",
    "raw_data['marital_status'] = raw_data.marital_status.str.replace('Divorced','1')\n",
    "raw_data['marital_status'] = raw_data.marital_status.str.replace('Never-married','2')\n",
    "raw_data['marital_status'] = raw_data.marital_status.str.replace('Separated','3')\n",
    "raw_data['marital_status'] = raw_data.marital_status.str.replace('Widowed','4')\n",
    "raw_data['marital_status'] = raw_data.marital_status.str.replace('Married-spouse-absent','5')\n",
    "raw_data['marital_status'] = raw_data.marital_status.str.replace('Married-AF-spouse','6')\n",
    "data['marital_status']=raw_data.marital_status\n",
    "data['marital_status']=data.marital_status.astype(int)\n",
    "\n",
    "#convert occupation:Tech-support, Craft-repair, Other-service, Sales, Exec-managerial, \n",
    "#Prof-specialty, Handlers-cleaners, Machine-op-inspct, Adm-clerical, \n",
    "#Farming-fishing, Transport-moving, Priv-house-serv, Protective-serv, \n",
    "#Armed-Forces\n",
    "raw_data['occupation'] = raw_data.occupation.str.replace('Tech-support','0')\n",
    "raw_data['occupation'] = raw_data.occupation.str.replace('Craft-repair','1')\n",
    "raw_data['occupation'] = raw_data.occupation.str.replace('Other-service','2')\n",
    "raw_data['occupation'] = raw_data.occupation.str.replace('Sales','3')\n",
    "raw_data['occupation'] = raw_data.occupation.str.replace('Exec-managerial','4')\n",
    "raw_data['occupation'] = raw_data.occupation.str.replace('Prof-specialty','5')\n",
    "raw_data['occupation'] = raw_data.occupation.str.replace('Handlers-cleaners','6')\n",
    "raw_data['occupation'] = raw_data.occupation.str.replace('Machine-op-inspct','7')\n",
    "raw_data['occupation'] = raw_data.occupation.str.replace('Adm-clerical','8')\n",
    "raw_data['occupation'] = raw_data.occupation.str.replace('Farming-fishing','9')\n",
    "raw_data['occupation'] = raw_data.occupation.str.replace('Transport-moving','10')\n",
    "raw_data['occupation'] = raw_data.occupation.str.replace('Priv-house-serv','11')\n",
    "raw_data['occupation'] = raw_data.occupation.str.replace('Protective-serv','12')\n",
    "raw_data['occupation'] = raw_data.occupation.str.replace('Armed-Forces','13')\n",
    "raw_data['occupation'] = raw_data.occupation.str.replace('?','14')\n",
    "\n",
    "data['occupation']=raw_data.occupation\n",
    "data['occupation']=data.occupation.astype(int)\n",
    "\n",
    "#relationship:Wife, Own-child, Husband, Not-in-family, Other-relative, Unmarried\n",
    "raw_data['relationship'] = raw_data.relationship.str.replace('Wife','0')\n",
    "raw_data['relationship'] = raw_data.relationship.str.replace('Own-child','1')\n",
    "raw_data['relationship'] = raw_data.relationship.str.replace('Husband','2')\n",
    "raw_data['relationship'] = raw_data.relationship.str.replace('Not-in-family','3')\n",
    "raw_data['relationship'] = raw_data.relationship.str.replace('Other-relative','4')\n",
    "raw_data['relationship'] = raw_data.relationship.str.replace('Unmarried','5')\n",
    "data['relationship']=raw_data.relationship\n",
    "data['relationship']=data.relationship.astype(int)\n",
    "\n",
    "#race: White, Asian-Pac-Islander, Amer-Indian-Eskimo, Other, Black\n",
    "raw_data['race'] = raw_data.race.str.replace('White','0')\n",
    "raw_data['race'] = raw_data.race.str.replace('Asian-Pac-Islander','1')\n",
    "raw_data['race'] = raw_data.race.str.replace('Amer-Indian-Eskimo','2')\n",
    "raw_data['race'] = raw_data.race.str.replace('Other','3')\n",
    "raw_data['race'] = raw_data.race.str.replace('Black','4')\n",
    "data['race']=raw_data.race\n",
    "data['race']=data.race.astype(int)\n",
    "\n",
    "#sex: Female, Male\n",
    "raw_data['sex'] = raw_data.sex.str.replace('Female','0')\n",
    "raw_data['sex'] = raw_data.sex.str.replace('Male','1')\n",
    "data['sex']=raw_data.sex\n",
    "data['sex']=data.sex.astype(int)\n",
    "\n",
    "#set label_name column\n",
    "data['income_name'] = raw_data.income\n",
    "\n",
    "#income: >50K, <=50K\n",
    "raw_data['income'] = raw_data.income.str.replace('>50K','1')\n",
    "raw_data['income'] = raw_data.income.str.replace('<=50K','0')\n",
    "raw_data['income'] = raw_data.income\n",
    "raw_data['income'] = raw_data.income.astype(int)\n",
    "\n",
    "datalist_label = data.income\n",
    "datalist_names = data.income_name\n",
    "datalist_label_names = np.array(['>50K','<=50K'])\n",
    "datalist = data.drop(['fnlwgt','education','native_country','income','income_name'], axis=1)\n",
    "datalist_array = datalist.values\n",
    "datalist_array"
   ]
  },
  {
   "cell_type": "code",
   "execution_count": 82,
   "metadata": {},
   "outputs": [
    {
     "data": {
      "text/html": [
       "<div>\n",
       "<style>\n",
       "    .dataframe thead tr:only-child th {\n",
       "        text-align: right;\n",
       "    }\n",
       "\n",
       "    .dataframe thead th {\n",
       "        text-align: left;\n",
       "    }\n",
       "\n",
       "    .dataframe tbody tr th {\n",
       "        vertical-align: top;\n",
       "    }\n",
       "</style>\n",
       "<table border=\"1\" class=\"dataframe\">\n",
       "  <thead>\n",
       "    <tr style=\"text-align: right;\">\n",
       "      <th></th>\n",
       "      <th>income</th>\n",
       "      <th>income_name</th>\n",
       "    </tr>\n",
       "  </thead>\n",
       "  <tbody>\n",
       "    <tr>\n",
       "      <th>0</th>\n",
       "      <td>0</td>\n",
       "      <td>&lt;=50K</td>\n",
       "    </tr>\n",
       "    <tr>\n",
       "      <th>1</th>\n",
       "      <td>0</td>\n",
       "      <td>&lt;=50K</td>\n",
       "    </tr>\n",
       "    <tr>\n",
       "      <th>2</th>\n",
       "      <td>0</td>\n",
       "      <td>&lt;=50K</td>\n",
       "    </tr>\n",
       "    <tr>\n",
       "      <th>3</th>\n",
       "      <td>0</td>\n",
       "      <td>&lt;=50K</td>\n",
       "    </tr>\n",
       "    <tr>\n",
       "      <th>4</th>\n",
       "      <td>0</td>\n",
       "      <td>&lt;=50K</td>\n",
       "    </tr>\n",
       "  </tbody>\n",
       "</table>\n",
       "</div>"
      ],
      "text/plain": [
       "   income income_name\n",
       "0       0       <=50K\n",
       "1       0       <=50K\n",
       "2       0       <=50K\n",
       "3       0       <=50K\n",
       "4       0       <=50K"
      ]
     },
     "execution_count": 82,
     "metadata": {},
     "output_type": "execute_result"
    }
   ],
   "source": [
    "EM_data = data.drop(['age','workclass','fnlwgt','education','education_num','marital_status','occupation','relationship','race','sex','capital_gain','capital_loss','hours_per_week','native_country'], axis=1)\n",
    "EM_data.head()"
   ]
  },
  {
   "cell_type": "code",
   "execution_count": 83,
   "metadata": {
    "collapsed": true
   },
   "outputs": [],
   "source": [
    "#NN  on X = datalist_array, y = datalist_label\n",
    "from sklearn.cross_validation import KFold, cross_val_score\n",
    "from sklearn.cross_validation import StratifiedKFold\n",
    "import time\n",
    "from sklearn.neural_network import MLPClassifier\n",
    "\n",
    "skf = StratifiedKFold(datalist_label, n_folds=4)\n",
    "# Only take the first fold.\n",
    "train_index, test_index = next(iter(skf))\n",
    "\n",
    "\n",
    "X_train = datalist_array[train_index]\n",
    "y_train = datalist_label[train_index].values\n",
    "X_test  = datalist_array[test_index]\n",
    "y_test  = datalist_label[test_index].values"
   ]
  },
  {
   "cell_type": "code",
   "execution_count": 84,
   "metadata": {
    "collapsed": true
   },
   "outputs": [],
   "source": [
    "#implement rp on datalist\n",
    "from sklearn import random_projection"
   ]
  },
  {
   "cell_type": "code",
   "execution_count": 85,
   "metadata": {},
   "outputs": [
    {
     "name": "stdout",
     "output_type": "stream",
     "text": [
      "component:  1 , Kurtosis:  [ 157.67271668]\n",
      "component:  2 , Kurtosis:  [  21.82930814  149.89511181]\n",
      "component:  3 , Kurtosis:  [ 141.17687469  157.73868852   99.25449403]\n",
      "component:  4 , Kurtosis:  [ 157.70080571  148.63161319  134.65259608  157.58590576]\n",
      "component:  5 , Kurtosis:  [ 157.44529139  157.46080479  151.75332419  157.35986757  157.68682627]\n"
     ]
    }
   ],
   "source": [
    "# Compute RP\n",
    "#  Higher values indicate a higher, sharper peak; lower values indicate a lower, less distinct peak\n",
    "#if non-Fisher Kurtosis, nomral distribution is 3.  Closer to normal distribution is better for ML.\n",
    "for i in range(1,6):\n",
    "    rp = random_projection.GaussianRandomProjection(n_components = i)\n",
    "    RP_ = rp.fit_transform(datalist)  # Reconstruct signals\n",
    "    print ('component: ', i, ', Kurtosis: ', scipy.stats.kurtosis(RP_, fisher=False))"
   ]
  },
  {
   "cell_type": "code",
   "execution_count": 86,
   "metadata": {
    "collapsed": true
   },
   "outputs": [],
   "source": [
    "rp_gaussian = random_projection.GaussianRandomProjection(n_components = 2)\n",
    "data_RP = rp_gaussian.fit_transform(datalist)"
   ]
  },
  {
   "cell_type": "code",
   "execution_count": 87,
   "metadata": {},
   "outputs": [
    {
     "data": {
      "text/plain": [
       "array([[-1196.22903266,  1118.22395125],\n",
       "       [  -23.670244  ,   -24.67475137],\n",
       "       [  -68.12353798,   -14.36161632],\n",
       "       ..., \n",
       "       [  -72.66802189,   -20.19887669],\n",
       "       [  -31.82303449,   -16.18284191],\n",
       "       [-7868.30422482,  7798.44715138]])"
      ]
     },
     "execution_count": 87,
     "metadata": {},
     "output_type": "execute_result"
    }
   ],
   "source": [
    "data_RP"
   ]
  },
  {
   "cell_type": "code",
   "execution_count": 88,
   "metadata": {},
   "outputs": [
    {
     "name": "stdout",
     "output_type": "stream",
     "text": [
      "Iteration 1, loss = 2.77784733\n",
      "Iteration 2, loss = 1.23050396\n",
      "Iteration 3, loss = 0.70117954\n",
      "Iteration 4, loss = 0.45125010\n",
      "Iteration 5, loss = 0.45141427\n",
      "Iteration 6, loss = 0.43865450\n",
      "Iteration 7, loss = 0.44242457\n",
      "Iteration 8, loss = 0.44131266\n",
      "Iteration 9, loss = 0.44093602\n",
      "Training loss did not improve more than tol=0.000100 for two consecutive epochs. Stopping.\n",
      "Training set score: 0.784644\n",
      "Training variance:  -0.151876609867\n",
      "Test set score: 0.781845\n",
      "Testing variance:  -0.166041366518\n",
      "Running Time:  0.7080404758453369\n"
     ]
    }
   ],
   "source": [
    "#Try NN\n",
    "#NN upon RP dataset\n",
    "from sklearn.metrics import explained_variance_score\n",
    "\n",
    "X_train = data_RP[train_index]\n",
    "y_train = datalist_label[train_index].values\n",
    "X_test  = data_RP[test_index]\n",
    "y_test  = datalist_label[test_index].values\n",
    "\n",
    "start_time = time.time()\n",
    "\n",
    "mlp = MLPClassifier(hidden_layer_sizes=(50,10), max_iter=1000, alpha=1e-4,\n",
    "                    solver='adam', verbose=10, tol=1e-4, random_state=1,\n",
    "                    learning_rate_init=.03)\n",
    "\n",
    "mlp.fit(X_train, y_train)\n",
    "y_train_pred = mlp.predict(X_train)\n",
    "y_test_pred = mlp.predict(X_test)\n",
    "elapsed_time = time.time() - start_time\n",
    "\n",
    "print(\"Training set score: %f\" % mlp.score(X_train, y_train))\n",
    "print (\"Training variance: \", explained_variance_score(y_train, y_train_pred, multioutput='uniform_average'))\n",
    "print(\"Test set score: %f\" % mlp.score(X_test, y_test))\n",
    "print (\"Testing variance: \", explained_variance_score(y_test, y_test_pred, multioutput='uniform_average'))\n",
    "print (\"Running Time: \", elapsed_time)"
   ]
  },
  {
   "cell_type": "code",
   "execution_count": 89,
   "metadata": {},
   "outputs": [
    {
     "data": {
      "text/plain": [
       "array([0, 0, 0, ..., 0, 0, 0], dtype=int64)"
      ]
     },
     "execution_count": 89,
     "metadata": {},
     "output_type": "execute_result"
    }
   ],
   "source": [
    "#EM, Try GMMs with K=4\n",
    "new_component=2\n",
    "cv_type='full'\n",
    "gmm = mixture.GaussianMixture(n_components=new_component,\n",
    "                                      covariance_type=cv_type)\n",
    "gmm.fit(data_RP)\n",
    "datalist_pred = gmm.predict(data_RP)\n",
    "\n",
    "EM_data['K2_RP_label']=datalist_pred\n",
    "K2_RP_label = datalist_pred\n",
    "K2_RP_label"
   ]
  },
  {
   "cell_type": "code",
   "execution_count": 90,
   "metadata": {},
   "outputs": [
    {
     "data": {
      "text/html": [
       "<div>\n",
       "<style>\n",
       "    .dataframe thead tr:only-child th {\n",
       "        text-align: right;\n",
       "    }\n",
       "\n",
       "    .dataframe thead th {\n",
       "        text-align: left;\n",
       "    }\n",
       "\n",
       "    .dataframe tbody tr th {\n",
       "        vertical-align: top;\n",
       "    }\n",
       "</style>\n",
       "<table border=\"1\" class=\"dataframe\">\n",
       "  <thead>\n",
       "    <tr style=\"text-align: right;\">\n",
       "      <th>col_0</th>\n",
       "      <th>0</th>\n",
       "      <th>1</th>\n",
       "    </tr>\n",
       "    <tr>\n",
       "      <th>income_name</th>\n",
       "      <th></th>\n",
       "      <th></th>\n",
       "    </tr>\n",
       "  </thead>\n",
       "  <tbody>\n",
       "    <tr>\n",
       "      <th>&lt;=50K</th>\n",
       "      <td>24720</td>\n",
       "      <td>0</td>\n",
       "    </tr>\n",
       "    <tr>\n",
       "      <th>&gt;50K</th>\n",
       "      <td>7682</td>\n",
       "      <td>159</td>\n",
       "    </tr>\n",
       "  </tbody>\n",
       "</table>\n",
       "</div>"
      ],
      "text/plain": [
       "col_0            0    1\n",
       "income_name            \n",
       "<=50K        24720    0\n",
       ">50K          7682  159"
      ]
     },
     "execution_count": 90,
     "metadata": {},
     "output_type": "execute_result"
    }
   ],
   "source": [
    "tb1 = pd.crosstab(EM_data['income_name'],datalist_pred)\n",
    "#data_label.head()\n",
    "tb1"
   ]
  },
  {
   "cell_type": "code",
   "execution_count": 91,
   "metadata": {},
   "outputs": [
    {
     "data": {
      "text/html": [
       "<div>\n",
       "<style>\n",
       "    .dataframe thead tr:only-child th {\n",
       "        text-align: right;\n",
       "    }\n",
       "\n",
       "    .dataframe thead th {\n",
       "        text-align: left;\n",
       "    }\n",
       "\n",
       "    .dataframe tbody tr th {\n",
       "        vertical-align: top;\n",
       "    }\n",
       "</style>\n",
       "<table border=\"1\" class=\"dataframe\">\n",
       "  <thead>\n",
       "    <tr style=\"text-align: right;\">\n",
       "      <th></th>\n",
       "      <th>income</th>\n",
       "      <th>income_name</th>\n",
       "      <th>K2_RP_label</th>\n",
       "      <th>K2_RP_label_name</th>\n",
       "    </tr>\n",
       "  </thead>\n",
       "  <tbody>\n",
       "    <tr>\n",
       "      <th>0</th>\n",
       "      <td>0</td>\n",
       "      <td>&lt;=50K</td>\n",
       "      <td>0</td>\n",
       "      <td>&lt;=50K</td>\n",
       "    </tr>\n",
       "    <tr>\n",
       "      <th>1</th>\n",
       "      <td>0</td>\n",
       "      <td>&lt;=50K</td>\n",
       "      <td>0</td>\n",
       "      <td>&lt;=50K</td>\n",
       "    </tr>\n",
       "    <tr>\n",
       "      <th>2</th>\n",
       "      <td>0</td>\n",
       "      <td>&lt;=50K</td>\n",
       "      <td>0</td>\n",
       "      <td>&lt;=50K</td>\n",
       "    </tr>\n",
       "    <tr>\n",
       "      <th>3</th>\n",
       "      <td>0</td>\n",
       "      <td>&lt;=50K</td>\n",
       "      <td>0</td>\n",
       "      <td>&lt;=50K</td>\n",
       "    </tr>\n",
       "    <tr>\n",
       "      <th>4</th>\n",
       "      <td>0</td>\n",
       "      <td>&lt;=50K</td>\n",
       "      <td>0</td>\n",
       "      <td>&lt;=50K</td>\n",
       "    </tr>\n",
       "  </tbody>\n",
       "</table>\n",
       "</div>"
      ],
      "text/plain": [
       "   income income_name  K2_RP_label K2_RP_label_name\n",
       "0       0       <=50K            0            <=50K\n",
       "1       0       <=50K            0            <=50K\n",
       "2       0       <=50K            0            <=50K\n",
       "3       0       <=50K            0            <=50K\n",
       "4       0       <=50K            0            <=50K"
      ]
     },
     "execution_count": 91,
     "metadata": {},
     "output_type": "execute_result"
    }
   ],
   "source": [
    "#EM assign test K=4 label\n",
    "def em_K1_label(alpha):\n",
    "    label_max = max(tb1.iloc[i,alpha] for i in range(2))\n",
    "    if tb1.iloc[0,alpha] == label_max:\n",
    "        return '<=50K'\n",
    "    if tb1.iloc[1,alpha] == label_max:\n",
    "        return '>50K'\n",
    "EM_data['K2_RP_label_name']=EM_data['K2_RP_label'].apply(em_K1_label)\n",
    "EM_data.head()"
   ]
  },
  {
   "cell_type": "code",
   "execution_count": 92,
   "metadata": {},
   "outputs": [
    {
     "name": "stdout",
     "output_type": "stream",
     "text": [
      "K=2 RP EM -> 76.4074%\n"
     ]
    }
   ],
   "source": [
    "K2_RP_accuracy = len(EM_data[EM_data['income_name']==EM_data['K2_RP_label_name']])/len(EM_data)\n",
    "print('K=2 RP EM -> {0:.4f}%'.format(K2_RP_accuracy*100))"
   ]
  },
  {
   "cell_type": "code",
   "execution_count": 93,
   "metadata": {
    "collapsed": true
   },
   "outputs": [],
   "source": [
    "# EM K=17, full\n",
    "new_component=17\n",
    "cv_type='full'\n",
    "gmm = mixture.GaussianMixture(n_components=new_component,\n",
    "                                      covariance_type=cv_type)\n",
    "gmm.fit(data_RP)\n",
    "datalist_pred = gmm.predict(data_RP)\n",
    "\n",
    "EM_data['K17_RP_label']=datalist_pred\n",
    "K17_RP_label = datalist_pred"
   ]
  },
  {
   "cell_type": "code",
   "execution_count": 94,
   "metadata": {},
   "outputs": [
    {
     "data": {
      "text/html": [
       "<div>\n",
       "<style>\n",
       "    .dataframe thead tr:only-child th {\n",
       "        text-align: right;\n",
       "    }\n",
       "\n",
       "    .dataframe thead th {\n",
       "        text-align: left;\n",
       "    }\n",
       "\n",
       "    .dataframe tbody tr th {\n",
       "        vertical-align: top;\n",
       "    }\n",
       "</style>\n",
       "<table border=\"1\" class=\"dataframe\">\n",
       "  <thead>\n",
       "    <tr style=\"text-align: right;\">\n",
       "      <th>col_0</th>\n",
       "      <th>0</th>\n",
       "      <th>1</th>\n",
       "      <th>2</th>\n",
       "      <th>3</th>\n",
       "      <th>4</th>\n",
       "      <th>5</th>\n",
       "      <th>6</th>\n",
       "      <th>7</th>\n",
       "      <th>8</th>\n",
       "      <th>9</th>\n",
       "      <th>10</th>\n",
       "      <th>11</th>\n",
       "      <th>12</th>\n",
       "      <th>13</th>\n",
       "      <th>14</th>\n",
       "      <th>15</th>\n",
       "      <th>16</th>\n",
       "    </tr>\n",
       "    <tr>\n",
       "      <th>income_name</th>\n",
       "      <th></th>\n",
       "      <th></th>\n",
       "      <th></th>\n",
       "      <th></th>\n",
       "      <th></th>\n",
       "      <th></th>\n",
       "      <th></th>\n",
       "      <th></th>\n",
       "      <th></th>\n",
       "      <th></th>\n",
       "      <th></th>\n",
       "      <th></th>\n",
       "      <th></th>\n",
       "      <th></th>\n",
       "      <th></th>\n",
       "      <th></th>\n",
       "      <th></th>\n",
       "    </tr>\n",
       "  </thead>\n",
       "  <tbody>\n",
       "    <tr>\n",
       "      <th>&lt;=50K</th>\n",
       "      <td>22849</td>\n",
       "      <td>0</td>\n",
       "      <td>0</td>\n",
       "      <td>6</td>\n",
       "      <td>505</td>\n",
       "      <td>0</td>\n",
       "      <td>217</td>\n",
       "      <td>466</td>\n",
       "      <td>1</td>\n",
       "      <td>5</td>\n",
       "      <td>6</td>\n",
       "      <td>48</td>\n",
       "      <td>327</td>\n",
       "      <td>288</td>\n",
       "      <td>2</td>\n",
       "      <td>0</td>\n",
       "      <td>0</td>\n",
       "    </tr>\n",
       "    <tr>\n",
       "      <th>&gt;50K</th>\n",
       "      <td>5363</td>\n",
       "      <td>159</td>\n",
       "      <td>352</td>\n",
       "      <td>538</td>\n",
       "      <td>606</td>\n",
       "      <td>34</td>\n",
       "      <td>189</td>\n",
       "      <td>77</td>\n",
       "      <td>39</td>\n",
       "      <td>0</td>\n",
       "      <td>138</td>\n",
       "      <td>17</td>\n",
       "      <td>193</td>\n",
       "      <td>21</td>\n",
       "      <td>0</td>\n",
       "      <td>100</td>\n",
       "      <td>15</td>\n",
       "    </tr>\n",
       "  </tbody>\n",
       "</table>\n",
       "</div>"
      ],
      "text/plain": [
       "col_0           0    1    2    3    4   5    6    7   8   9    10  11   12  \\\n",
       "income_name                                                                  \n",
       "<=50K        22849    0    0    6  505   0  217  466   1   5    6  48  327   \n",
       ">50K          5363  159  352  538  606  34  189   77  39   0  138  17  193   \n",
       "\n",
       "col_0         13  14   15  16  \n",
       "income_name                    \n",
       "<=50K        288   2    0   0  \n",
       ">50K          21   0  100  15  "
      ]
     },
     "execution_count": 94,
     "metadata": {},
     "output_type": "execute_result"
    }
   ],
   "source": [
    "tb1 = pd.crosstab(EM_data['income_name'],datalist_pred)\n",
    "#data_label.head()\n",
    "tb1"
   ]
  },
  {
   "cell_type": "code",
   "execution_count": 95,
   "metadata": {},
   "outputs": [
    {
     "data": {
      "text/html": [
       "<div>\n",
       "<style>\n",
       "    .dataframe thead tr:only-child th {\n",
       "        text-align: right;\n",
       "    }\n",
       "\n",
       "    .dataframe thead th {\n",
       "        text-align: left;\n",
       "    }\n",
       "\n",
       "    .dataframe tbody tr th {\n",
       "        vertical-align: top;\n",
       "    }\n",
       "</style>\n",
       "<table border=\"1\" class=\"dataframe\">\n",
       "  <thead>\n",
       "    <tr style=\"text-align: right;\">\n",
       "      <th></th>\n",
       "      <th>income</th>\n",
       "      <th>income_name</th>\n",
       "      <th>K2_RP_label</th>\n",
       "      <th>K2_RP_label_name</th>\n",
       "      <th>K17_RP_label</th>\n",
       "      <th>K17_RP_label_name</th>\n",
       "    </tr>\n",
       "  </thead>\n",
       "  <tbody>\n",
       "    <tr>\n",
       "      <th>0</th>\n",
       "      <td>0</td>\n",
       "      <td>&lt;=50K</td>\n",
       "      <td>0</td>\n",
       "      <td>&lt;=50K</td>\n",
       "      <td>7</td>\n",
       "      <td>&lt;=50K</td>\n",
       "    </tr>\n",
       "    <tr>\n",
       "      <th>1</th>\n",
       "      <td>0</td>\n",
       "      <td>&lt;=50K</td>\n",
       "      <td>0</td>\n",
       "      <td>&lt;=50K</td>\n",
       "      <td>0</td>\n",
       "      <td>&lt;=50K</td>\n",
       "    </tr>\n",
       "    <tr>\n",
       "      <th>2</th>\n",
       "      <td>0</td>\n",
       "      <td>&lt;=50K</td>\n",
       "      <td>0</td>\n",
       "      <td>&lt;=50K</td>\n",
       "      <td>0</td>\n",
       "      <td>&lt;=50K</td>\n",
       "    </tr>\n",
       "    <tr>\n",
       "      <th>3</th>\n",
       "      <td>0</td>\n",
       "      <td>&lt;=50K</td>\n",
       "      <td>0</td>\n",
       "      <td>&lt;=50K</td>\n",
       "      <td>0</td>\n",
       "      <td>&lt;=50K</td>\n",
       "    </tr>\n",
       "    <tr>\n",
       "      <th>4</th>\n",
       "      <td>0</td>\n",
       "      <td>&lt;=50K</td>\n",
       "      <td>0</td>\n",
       "      <td>&lt;=50K</td>\n",
       "      <td>0</td>\n",
       "      <td>&lt;=50K</td>\n",
       "    </tr>\n",
       "  </tbody>\n",
       "</table>\n",
       "</div>"
      ],
      "text/plain": [
       "   income income_name  K2_RP_label K2_RP_label_name  K17_RP_label  \\\n",
       "0       0       <=50K            0            <=50K             7   \n",
       "1       0       <=50K            0            <=50K             0   \n",
       "2       0       <=50K            0            <=50K             0   \n",
       "3       0       <=50K            0            <=50K             0   \n",
       "4       0       <=50K            0            <=50K             0   \n",
       "\n",
       "  K17_RP_label_name  \n",
       "0             <=50K  \n",
       "1             <=50K  \n",
       "2             <=50K  \n",
       "3             <=50K  \n",
       "4             <=50K  "
      ]
     },
     "execution_count": 95,
     "metadata": {},
     "output_type": "execute_result"
    }
   ],
   "source": [
    "#EM: assign test K=17 label\n",
    "\n",
    "EM_data['K17_RP_label_name']=EM_data['K17_RP_label'].apply(em_K1_label)\n",
    "EM_data.head()"
   ]
  },
  {
   "cell_type": "code",
   "execution_count": 96,
   "metadata": {},
   "outputs": [
    {
     "name": "stdout",
     "output_type": "stream",
     "text": [
      "K=17 RP EM -> 80.4121%\n"
     ]
    }
   ],
   "source": [
    "K17_RP_accuracy = len(EM_data[EM_data['income_name']==EM_data['K17_RP_label_name']])/len(EM_data)\n",
    "print('K=17 RP EM -> {0:.4f}%'.format(K17_RP_accuracy*100))"
   ]
  },
  {
   "cell_type": "code",
   "execution_count": 97,
   "metadata": {
    "collapsed": true
   },
   "outputs": [],
   "source": [
    "# EM K=40, diag\n",
    "new_component=40\n",
    "cv_type='full'\n",
    "gmm = mixture.GaussianMixture(n_components=new_component,\n",
    "                                      covariance_type=cv_type)\n",
    "gmm.fit(data_RP)\n",
    "datalist_pred = gmm.predict(data_RP)\n",
    "\n",
    "EM_data['K40_RP_label']=datalist_pred\n",
    "K40_RP_label = datalist_pred"
   ]
  },
  {
   "cell_type": "code",
   "execution_count": 98,
   "metadata": {},
   "outputs": [
    {
     "data": {
      "text/html": [
       "<div>\n",
       "<style>\n",
       "    .dataframe thead tr:only-child th {\n",
       "        text-align: right;\n",
       "    }\n",
       "\n",
       "    .dataframe thead th {\n",
       "        text-align: left;\n",
       "    }\n",
       "\n",
       "    .dataframe tbody tr th {\n",
       "        vertical-align: top;\n",
       "    }\n",
       "</style>\n",
       "<table border=\"1\" class=\"dataframe\">\n",
       "  <thead>\n",
       "    <tr style=\"text-align: right;\">\n",
       "      <th>col_0</th>\n",
       "      <th>0</th>\n",
       "      <th>1</th>\n",
       "      <th>2</th>\n",
       "      <th>3</th>\n",
       "      <th>4</th>\n",
       "      <th>5</th>\n",
       "      <th>6</th>\n",
       "      <th>7</th>\n",
       "      <th>8</th>\n",
       "      <th>9</th>\n",
       "      <th>...</th>\n",
       "      <th>30</th>\n",
       "      <th>31</th>\n",
       "      <th>32</th>\n",
       "      <th>33</th>\n",
       "      <th>34</th>\n",
       "      <th>35</th>\n",
       "      <th>36</th>\n",
       "      <th>37</th>\n",
       "      <th>38</th>\n",
       "      <th>39</th>\n",
       "    </tr>\n",
       "    <tr>\n",
       "      <th>income_name</th>\n",
       "      <th></th>\n",
       "      <th></th>\n",
       "      <th></th>\n",
       "      <th></th>\n",
       "      <th></th>\n",
       "      <th></th>\n",
       "      <th></th>\n",
       "      <th></th>\n",
       "      <th></th>\n",
       "      <th></th>\n",
       "      <th></th>\n",
       "      <th></th>\n",
       "      <th></th>\n",
       "      <th></th>\n",
       "      <th></th>\n",
       "      <th></th>\n",
       "      <th></th>\n",
       "      <th></th>\n",
       "      <th></th>\n",
       "      <th></th>\n",
       "      <th></th>\n",
       "    </tr>\n",
       "  </thead>\n",
       "  <tbody>\n",
       "    <tr>\n",
       "      <th>&lt;=50K</th>\n",
       "      <td>0</td>\n",
       "      <td>5972</td>\n",
       "      <td>0</td>\n",
       "      <td>0</td>\n",
       "      <td>56</td>\n",
       "      <td>0</td>\n",
       "      <td>145</td>\n",
       "      <td>1</td>\n",
       "      <td>5</td>\n",
       "      <td>6</td>\n",
       "      <td>...</td>\n",
       "      <td>66</td>\n",
       "      <td>144</td>\n",
       "      <td>53</td>\n",
       "      <td>0</td>\n",
       "      <td>42</td>\n",
       "      <td>115</td>\n",
       "      <td>3607</td>\n",
       "      <td>54</td>\n",
       "      <td>0</td>\n",
       "      <td>2</td>\n",
       "    </tr>\n",
       "    <tr>\n",
       "      <th>&gt;50K</th>\n",
       "      <td>241</td>\n",
       "      <td>2161</td>\n",
       "      <td>159</td>\n",
       "      <td>358</td>\n",
       "      <td>401</td>\n",
       "      <td>15</td>\n",
       "      <td>0</td>\n",
       "      <td>37</td>\n",
       "      <td>0</td>\n",
       "      <td>57</td>\n",
       "      <td>...</td>\n",
       "      <td>32</td>\n",
       "      <td>5</td>\n",
       "      <td>26</td>\n",
       "      <td>2</td>\n",
       "      <td>0</td>\n",
       "      <td>164</td>\n",
       "      <td>218</td>\n",
       "      <td>0</td>\n",
       "      <td>27</td>\n",
       "      <td>12</td>\n",
       "    </tr>\n",
       "  </tbody>\n",
       "</table>\n",
       "<p>2 rows × 40 columns</p>\n",
       "</div>"
      ],
      "text/plain": [
       "col_0         0     1    2    3    4   5    6   7   8   9  ...  30   31  32  \\\n",
       "income_name                                                ...                \n",
       "<=50K          0  5972    0    0   56   0  145   1   5   6 ...  66  144  53   \n",
       ">50K         241  2161  159  358  401  15    0  37   0  57 ...  32    5  26   \n",
       "\n",
       "col_0        33  34   35    36  37  38  39  \n",
       "income_name                                 \n",
       "<=50K         0  42  115  3607  54   0   2  \n",
       ">50K          2   0  164   218   0  27  12  \n",
       "\n",
       "[2 rows x 40 columns]"
      ]
     },
     "execution_count": 98,
     "metadata": {},
     "output_type": "execute_result"
    }
   ],
   "source": [
    "tb1 = pd.crosstab(EM_data['income_name'],datalist_pred)\n",
    "#data_label.head()\n",
    "tb1"
   ]
  },
  {
   "cell_type": "code",
   "execution_count": 99,
   "metadata": {},
   "outputs": [
    {
     "data": {
      "text/html": [
       "<div>\n",
       "<style>\n",
       "    .dataframe thead tr:only-child th {\n",
       "        text-align: right;\n",
       "    }\n",
       "\n",
       "    .dataframe thead th {\n",
       "        text-align: left;\n",
       "    }\n",
       "\n",
       "    .dataframe tbody tr th {\n",
       "        vertical-align: top;\n",
       "    }\n",
       "</style>\n",
       "<table border=\"1\" class=\"dataframe\">\n",
       "  <thead>\n",
       "    <tr style=\"text-align: right;\">\n",
       "      <th></th>\n",
       "      <th>income</th>\n",
       "      <th>income_name</th>\n",
       "      <th>K2_RP_label</th>\n",
       "      <th>K2_RP_label_name</th>\n",
       "      <th>K17_RP_label</th>\n",
       "      <th>K17_RP_label_name</th>\n",
       "      <th>K40_RP_label</th>\n",
       "      <th>K40_RP_label_name</th>\n",
       "    </tr>\n",
       "  </thead>\n",
       "  <tbody>\n",
       "    <tr>\n",
       "      <th>0</th>\n",
       "      <td>0</td>\n",
       "      <td>&lt;=50K</td>\n",
       "      <td>0</td>\n",
       "      <td>&lt;=50K</td>\n",
       "      <td>7</td>\n",
       "      <td>&lt;=50K</td>\n",
       "      <td>23</td>\n",
       "      <td>&lt;=50K</td>\n",
       "    </tr>\n",
       "    <tr>\n",
       "      <th>1</th>\n",
       "      <td>0</td>\n",
       "      <td>&lt;=50K</td>\n",
       "      <td>0</td>\n",
       "      <td>&lt;=50K</td>\n",
       "      <td>0</td>\n",
       "      <td>&lt;=50K</td>\n",
       "      <td>36</td>\n",
       "      <td>&lt;=50K</td>\n",
       "    </tr>\n",
       "    <tr>\n",
       "      <th>2</th>\n",
       "      <td>0</td>\n",
       "      <td>&lt;=50K</td>\n",
       "      <td>0</td>\n",
       "      <td>&lt;=50K</td>\n",
       "      <td>0</td>\n",
       "      <td>&lt;=50K</td>\n",
       "      <td>20</td>\n",
       "      <td>&lt;=50K</td>\n",
       "    </tr>\n",
       "    <tr>\n",
       "      <th>3</th>\n",
       "      <td>0</td>\n",
       "      <td>&lt;=50K</td>\n",
       "      <td>0</td>\n",
       "      <td>&lt;=50K</td>\n",
       "      <td>0</td>\n",
       "      <td>&lt;=50K</td>\n",
       "      <td>20</td>\n",
       "      <td>&lt;=50K</td>\n",
       "    </tr>\n",
       "    <tr>\n",
       "      <th>4</th>\n",
       "      <td>0</td>\n",
       "      <td>&lt;=50K</td>\n",
       "      <td>0</td>\n",
       "      <td>&lt;=50K</td>\n",
       "      <td>0</td>\n",
       "      <td>&lt;=50K</td>\n",
       "      <td>20</td>\n",
       "      <td>&lt;=50K</td>\n",
       "    </tr>\n",
       "  </tbody>\n",
       "</table>\n",
       "</div>"
      ],
      "text/plain": [
       "   income income_name  K2_RP_label K2_RP_label_name  K17_RP_label  \\\n",
       "0       0       <=50K            0            <=50K             7   \n",
       "1       0       <=50K            0            <=50K             0   \n",
       "2       0       <=50K            0            <=50K             0   \n",
       "3       0       <=50K            0            <=50K             0   \n",
       "4       0       <=50K            0            <=50K             0   \n",
       "\n",
       "  K17_RP_label_name  K40_RP_label K40_RP_label_name  \n",
       "0             <=50K            23             <=50K  \n",
       "1             <=50K            36             <=50K  \n",
       "2             <=50K            20             <=50K  \n",
       "3             <=50K            20             <=50K  \n",
       "4             <=50K            20             <=50K  "
      ]
     },
     "execution_count": 99,
     "metadata": {},
     "output_type": "execute_result"
    }
   ],
   "source": [
    "#EM: assign test K=40 label\n",
    "\n",
    "EM_data['K40_RP_label_name']=EM_data['K40_RP_label'].apply(em_K1_label)\n",
    "EM_data.head()"
   ]
  },
  {
   "cell_type": "code",
   "execution_count": 100,
   "metadata": {},
   "outputs": [
    {
     "name": "stdout",
     "output_type": "stream",
     "text": [
      "K=40 RP EM -> 81.6652%\n"
     ]
    }
   ],
   "source": [
    "K40_RP_accuracy = len(EM_data[EM_data['income_name']==EM_data['K40_RP_label_name']])/len(EM_data)\n",
    "print('K=40 RP EM -> {0:.4f}%'.format(K40_RP_accuracy*100))"
   ]
  },
  {
   "cell_type": "code",
   "execution_count": 101,
   "metadata": {},
   "outputs": [
    {
     "data": {
      "text/html": [
       "<div>\n",
       "<style>\n",
       "    .dataframe thead tr:only-child th {\n",
       "        text-align: right;\n",
       "    }\n",
       "\n",
       "    .dataframe thead th {\n",
       "        text-align: left;\n",
       "    }\n",
       "\n",
       "    .dataframe tbody tr th {\n",
       "        vertical-align: top;\n",
       "    }\n",
       "</style>\n",
       "<table border=\"1\" class=\"dataframe\">\n",
       "  <thead>\n",
       "    <tr style=\"text-align: right;\">\n",
       "      <th></th>\n",
       "      <th>RP1</th>\n",
       "      <th>RP2</th>\n",
       "      <th>income</th>\n",
       "      <th>income_name</th>\n",
       "    </tr>\n",
       "  </thead>\n",
       "  <tbody>\n",
       "    <tr>\n",
       "      <th>0</th>\n",
       "      <td>-1196.229033</td>\n",
       "      <td>1118.223951</td>\n",
       "      <td>0</td>\n",
       "      <td>&lt;=50K</td>\n",
       "    </tr>\n",
       "    <tr>\n",
       "      <th>1</th>\n",
       "      <td>-23.670244</td>\n",
       "      <td>-24.674751</td>\n",
       "      <td>0</td>\n",
       "      <td>&lt;=50K</td>\n",
       "    </tr>\n",
       "    <tr>\n",
       "      <th>2</th>\n",
       "      <td>-68.123538</td>\n",
       "      <td>-14.361616</td>\n",
       "      <td>0</td>\n",
       "      <td>&lt;=50K</td>\n",
       "    </tr>\n",
       "    <tr>\n",
       "      <th>3</th>\n",
       "      <td>-77.637205</td>\n",
       "      <td>-19.164949</td>\n",
       "      <td>0</td>\n",
       "      <td>&lt;=50K</td>\n",
       "    </tr>\n",
       "    <tr>\n",
       "      <th>4</th>\n",
       "      <td>-67.938467</td>\n",
       "      <td>-15.276383</td>\n",
       "      <td>0</td>\n",
       "      <td>&lt;=50K</td>\n",
       "    </tr>\n",
       "  </tbody>\n",
       "</table>\n",
       "</div>"
      ],
      "text/plain": [
       "           RP1          RP2  income income_name\n",
       "0 -1196.229033  1118.223951       0       <=50K\n",
       "1   -23.670244   -24.674751       0       <=50K\n",
       "2   -68.123538   -14.361616       0       <=50K\n",
       "3   -77.637205   -19.164949       0       <=50K\n",
       "4   -67.938467   -15.276383       0       <=50K"
      ]
     },
     "execution_count": 101,
     "metadata": {},
     "output_type": "execute_result"
    }
   ],
   "source": [
    "#K-means\n",
    "data_RP_df = pd.DataFrame(data=data_RP[0:,0:],\n",
    "                   columns=['RP1','RP2'])\n",
    "data_RP_df['income'] = datalist_label\n",
    "data_RP_df['income_name'] = datalist_names\n",
    "data_RP_df.head()"
   ]
  },
  {
   "cell_type": "code",
   "execution_count": 102,
   "metadata": {},
   "outputs": [
    {
     "data": {
      "text/plain": [
       "array([-1196.22903266,  1118.22395125,     7.        ])"
      ]
     },
     "execution_count": 102,
     "metadata": {},
     "output_type": "execute_result"
    }
   ],
   "source": [
    "#EM treated for NN\n",
    "#choose K17_RP_label \n",
    "\n",
    "data_RP_EM_NN_df = pd.DataFrame(data=data_RP[0:,0:],\n",
    "                   columns=['RP1','RP2'])\n",
    "data_RP_EM_NN_df['RP17_label'] = EM_data['K17_RP_label']\n",
    "data_RP_EM_NN=data_RP_EM_NN_df.values\n",
    "data_RP_EM_NN[0]"
   ]
  },
  {
   "cell_type": "code",
   "execution_count": 103,
   "metadata": {},
   "outputs": [
    {
     "name": "stdout",
     "output_type": "stream",
     "text": [
      "Iteration 1, loss = 0.70918527\n",
      "Iteration 2, loss = 0.54874887\n",
      "Iteration 3, loss = 0.54738507\n",
      "Iteration 4, loss = 0.54860924\n",
      "Iteration 5, loss = 0.55220348\n",
      "Iteration 6, loss = 0.55209226\n",
      "Training loss did not improve more than tol=0.000100 for two consecutive epochs. Stopping.\n",
      "Training set score: 0.759214\n",
      "Training variance:  0.0\n",
      "Test set score: 0.759121\n",
      "Testing variance:  0.0\n",
      "Running Time:  0.49202823638916016\n"
     ]
    }
   ],
   "source": [
    "#NN upon PCA EM K=20 dataset\n",
    "X_train = data_RP_EM_NN[train_index]\n",
    "y_train = datalist_label[train_index]\n",
    "X_test  = data_RP_EM_NN[test_index]\n",
    "y_test  = datalist_label[test_index]\n",
    "\n",
    "start_time = time.time()\n",
    "\n",
    "mlp = MLPClassifier(hidden_layer_sizes=(50,10), max_iter=1000, alpha=1e-4,\n",
    "                    solver='adam', verbose=10, tol=1e-4, random_state=1,\n",
    "                    learning_rate_init=.03)\n",
    "\n",
    "mlp.fit(X_train, y_train)\n",
    "y_train_pred = mlp.predict(X_train)\n",
    "y_test_pred = mlp.predict(X_test)\n",
    "elapsed_time = time.time() - start_time\n",
    "\n",
    "print(\"Training set score: %f\" % mlp.score(X_train, y_train))\n",
    "print (\"Training variance: \", explained_variance_score(y_train, y_train_pred, multioutput='uniform_average'))\n",
    "print(\"Test set score: %f\" % mlp.score(X_test, y_test))\n",
    "print (\"Testing variance: \", explained_variance_score(y_test, y_test_pred, multioutput='uniform_average'))\n",
    "print (\"Running Time: \", elapsed_time)"
   ]
  },
  {
   "cell_type": "code",
   "execution_count": 104,
   "metadata": {},
   "outputs": [
    {
     "data": {
      "text/html": [
       "<div>\n",
       "<style>\n",
       "    .dataframe thead tr:only-child th {\n",
       "        text-align: right;\n",
       "    }\n",
       "\n",
       "    .dataframe thead th {\n",
       "        text-align: left;\n",
       "    }\n",
       "\n",
       "    .dataframe tbody tr th {\n",
       "        vertical-align: top;\n",
       "    }\n",
       "</style>\n",
       "<table border=\"1\" class=\"dataframe\">\n",
       "  <thead>\n",
       "    <tr style=\"text-align: right;\">\n",
       "      <th></th>\n",
       "      <th>RP1</th>\n",
       "      <th>RP2</th>\n",
       "      <th>income</th>\n",
       "    </tr>\n",
       "  </thead>\n",
       "  <tbody>\n",
       "    <tr>\n",
       "      <th>count</th>\n",
       "      <td>32561.000000</td>\n",
       "      <td>32561.000000</td>\n",
       "      <td>32561.000000</td>\n",
       "    </tr>\n",
       "    <tr>\n",
       "      <th>mean</th>\n",
       "      <td>-706.979535</td>\n",
       "      <td>556.918552</td>\n",
       "      <td>0.240810</td>\n",
       "    </tr>\n",
       "    <tr>\n",
       "      <th>std</th>\n",
       "      <td>3836.877333</td>\n",
       "      <td>3841.574720</td>\n",
       "      <td>0.427581</td>\n",
       "    </tr>\n",
       "    <tr>\n",
       "      <th>min</th>\n",
       "      <td>-51993.129820</td>\n",
       "      <td>-45.834133</td>\n",
       "      <td>0.000000</td>\n",
       "    </tr>\n",
       "    <tr>\n",
       "      <th>25%</th>\n",
       "      <td>-86.565366</td>\n",
       "      <td>-16.803148</td>\n",
       "      <td>0.000000</td>\n",
       "    </tr>\n",
       "    <tr>\n",
       "      <th>50%</th>\n",
       "      <td>-71.197820</td>\n",
       "      <td>-11.710065</td>\n",
       "      <td>0.000000</td>\n",
       "    </tr>\n",
       "    <tr>\n",
       "      <th>75%</th>\n",
       "      <td>-64.605948</td>\n",
       "      <td>-6.067767</td>\n",
       "      <td>0.000000</td>\n",
       "    </tr>\n",
       "    <tr>\n",
       "      <th>max</th>\n",
       "      <td>2.716609</td>\n",
       "      <td>52036.799189</td>\n",
       "      <td>1.000000</td>\n",
       "    </tr>\n",
       "  </tbody>\n",
       "</table>\n",
       "</div>"
      ],
      "text/plain": [
       "                RP1           RP2        income\n",
       "count  32561.000000  32561.000000  32561.000000\n",
       "mean    -706.979535    556.918552      0.240810\n",
       "std     3836.877333   3841.574720      0.427581\n",
       "min   -51993.129820    -45.834133      0.000000\n",
       "25%      -86.565366    -16.803148      0.000000\n",
       "50%      -71.197820    -11.710065      0.000000\n",
       "75%      -64.605948     -6.067767      0.000000\n",
       "max        2.716609  52036.799189      1.000000"
      ]
     },
     "execution_count": 104,
     "metadata": {},
     "output_type": "execute_result"
    }
   ],
   "source": [
    "data_RP_df.describe()"
   ]
  },
  {
   "cell_type": "code",
   "execution_count": 105,
   "metadata": {},
   "outputs": [
    {
     "data": {
      "text/html": [
       "<div>\n",
       "<style>\n",
       "    .dataframe thead tr:only-child th {\n",
       "        text-align: right;\n",
       "    }\n",
       "\n",
       "    .dataframe thead th {\n",
       "        text-align: left;\n",
       "    }\n",
       "\n",
       "    .dataframe tbody tr th {\n",
       "        vertical-align: top;\n",
       "    }\n",
       "</style>\n",
       "<table border=\"1\" class=\"dataframe\">\n",
       "  <thead>\n",
       "    <tr style=\"text-align: right;\">\n",
       "      <th></th>\n",
       "      <th>RP1</th>\n",
       "      <th>RP2</th>\n",
       "    </tr>\n",
       "    <tr>\n",
       "      <th>income_name</th>\n",
       "      <th></th>\n",
       "      <th></th>\n",
       "    </tr>\n",
       "  </thead>\n",
       "  <tbody>\n",
       "    <tr>\n",
       "      <th>&lt;=50K</th>\n",
       "      <td>-191.974064</td>\n",
       "      <td>70.553694</td>\n",
       "    </tr>\n",
       "    <tr>\n",
       "      <th>&gt;50K</th>\n",
       "      <td>-2330.616218</td>\n",
       "      <td>2090.261148</td>\n",
       "    </tr>\n",
       "  </tbody>\n",
       "</table>\n",
       "</div>"
      ],
      "text/plain": [
       "                     RP1          RP2\n",
       "income_name                          \n",
       "<=50K        -191.974064    70.553694\n",
       ">50K        -2330.616218  2090.261148"
      ]
     },
     "execution_count": 105,
     "metadata": {},
     "output_type": "execute_result"
    }
   ],
   "source": [
    "data_RP_df.pivot_table(index='income_name', values=['RP1','RP2'],aggfunc=np.mean)"
   ]
  },
  {
   "cell_type": "code",
   "execution_count": 106,
   "metadata": {},
   "outputs": [
    {
     "data": {
      "text/html": [
       "<div>\n",
       "<style>\n",
       "    .dataframe thead tr:only-child th {\n",
       "        text-align: right;\n",
       "    }\n",
       "\n",
       "    .dataframe thead th {\n",
       "        text-align: left;\n",
       "    }\n",
       "\n",
       "    .dataframe tbody tr th {\n",
       "        vertical-align: top;\n",
       "    }\n",
       "</style>\n",
       "<table border=\"1\" class=\"dataframe\">\n",
       "  <thead>\n",
       "    <tr style=\"text-align: right;\">\n",
       "      <th></th>\n",
       "      <th>RP1</th>\n",
       "      <th>RP2</th>\n",
       "      <th>income</th>\n",
       "    </tr>\n",
       "  </thead>\n",
       "  <tbody>\n",
       "    <tr>\n",
       "      <th>RP1</th>\n",
       "      <td>1.000000</td>\n",
       "      <td>-0.996587</td>\n",
       "      <td>-0.238330</td>\n",
       "    </tr>\n",
       "    <tr>\n",
       "      <th>RP2</th>\n",
       "      <td>-0.996587</td>\n",
       "      <td>1.000000</td>\n",
       "      <td>0.224801</td>\n",
       "    </tr>\n",
       "    <tr>\n",
       "      <th>income</th>\n",
       "      <td>-0.238330</td>\n",
       "      <td>0.224801</td>\n",
       "      <td>1.000000</td>\n",
       "    </tr>\n",
       "  </tbody>\n",
       "</table>\n",
       "</div>"
      ],
      "text/plain": [
       "             RP1       RP2    income\n",
       "RP1     1.000000 -0.996587 -0.238330\n",
       "RP2    -0.996587  1.000000  0.224801\n",
       "income -0.238330  0.224801  1.000000"
      ]
     },
     "execution_count": 106,
     "metadata": {},
     "output_type": "execute_result"
    }
   ],
   "source": [
    "d_corr_RP1=data_RP_df.iloc[:,[0,1,2]].corr()\n",
    "d_corr_RP1\n"
   ]
  },
  {
   "cell_type": "code",
   "execution_count": 107,
   "metadata": {},
   "outputs": [
    {
     "data": {
      "image/png": "[encoded data removed]",
      "text/plain": [
       "<matplotlib.figure.Figure at 0x2f8a27b8>"
      ]
     },
     "metadata": {},
     "output_type": "display_data"
    }
   ],
   "source": [
    "sns.set_style('whitegrid')\n",
    "sns.pairplot(data_RP_df.iloc[:,[0,1,2,3]], hue='income_name')\n",
    "plt.show()"
   ]
  },
  {
   "cell_type": "code",
   "execution_count": 108,
   "metadata": {},
   "outputs": [
    {
     "data": {
      "image/png": "[encoded data removed]",
      "text/plain": [
       "<matplotlib.figure.Figure at 0x30020ac8>"
      ]
     },
     "metadata": {},
     "output_type": "display_data"
    }
   ],
   "source": [
    "sns.set_style('whitegrid')\n",
    "plt.figure(figsize=(15,6))\n",
    "mask = np.zeros_like(d_corr_RP1, dtype=np.bool)\n",
    "mask[np.triu_indices_from(mask)] = True\n",
    "cmap = sns.diverging_palette(220, 10, as_cmap=True)\n",
    "sns.heatmap(d_corr_RP1,mask=mask, cmap=cmap, vmax=.3,\n",
    "            square=True,\n",
    "            linewidths=.5, cbar_kws={\"shrink\": .5})\n",
    "plt.show()"
   ]
  },
  {
   "cell_type": "code",
   "execution_count": 109,
   "metadata": {},
   "outputs": [
    {
     "data": {
      "image/png": "[encoded data removed]",
      "text/plain": [
       "<matplotlib.figure.Figure at 0x301ea898>"
      ]
     },
     "metadata": {},
     "output_type": "display_data"
    }
   ],
   "source": [
    "#K=2 K-means\n",
    "kmeans_model_1 = KMeans(n_clusters=2,random_state=123)\n",
    "distances_1 = kmeans_model_1.fit_transform(data_RP_df.iloc[:,0:2])\n",
    "labels_1 = kmeans_model_1.labels_\n",
    "data_RP_df['cluster_1']=labels_1\n",
    "with sns.color_palette(\"Set2\", 10):\n",
    "    sns.pairplot(data_RP_df.iloc[:,[0,1,4]], hue='cluster_1')"
   ]
  },
  {
   "cell_type": "code",
   "execution_count": 110,
   "metadata": {},
   "outputs": [
    {
     "data": {
      "text/html": [
       "<div>\n",
       "<style>\n",
       "    .dataframe thead tr:only-child th {\n",
       "        text-align: right;\n",
       "    }\n",
       "\n",
       "    .dataframe thead th {\n",
       "        text-align: left;\n",
       "    }\n",
       "\n",
       "    .dataframe tbody tr th {\n",
       "        vertical-align: top;\n",
       "    }\n",
       "</style>\n",
       "<table border=\"1\" class=\"dataframe\">\n",
       "  <thead>\n",
       "    <tr style=\"text-align: right;\">\n",
       "      <th>col_0</th>\n",
       "      <th>0</th>\n",
       "      <th>1</th>\n",
       "    </tr>\n",
       "    <tr>\n",
       "      <th>income_name</th>\n",
       "      <th></th>\n",
       "      <th></th>\n",
       "    </tr>\n",
       "  </thead>\n",
       "  <tbody>\n",
       "    <tr>\n",
       "      <th>&lt;=50K</th>\n",
       "      <td>24720</td>\n",
       "      <td>0</td>\n",
       "    </tr>\n",
       "    <tr>\n",
       "      <th>&gt;50K</th>\n",
       "      <td>7682</td>\n",
       "      <td>159</td>\n",
       "    </tr>\n",
       "  </tbody>\n",
       "</table>\n",
       "</div>"
      ],
      "text/plain": [
       "col_0            0    1\n",
       "income_name            \n",
       "<=50K        24720    0\n",
       ">50K          7682  159"
      ]
     },
     "execution_count": 110,
     "metadata": {},
     "output_type": "execute_result"
    }
   ],
   "source": [
    "#statistics of acceptable_label cluster_1 vs species\n",
    "tb1 = pd.crosstab(data_RP_df['income_name'],labels_1)\n",
    "tb1"
   ]
  },
  {
   "cell_type": "code",
   "execution_count": 111,
   "metadata": {},
   "outputs": [
    {
     "data": {
      "text/html": [
       "<div>\n",
       "<style>\n",
       "    .dataframe thead tr:only-child th {\n",
       "        text-align: right;\n",
       "    }\n",
       "\n",
       "    .dataframe thead th {\n",
       "        text-align: left;\n",
       "    }\n",
       "\n",
       "    .dataframe tbody tr th {\n",
       "        vertical-align: top;\n",
       "    }\n",
       "</style>\n",
       "<table border=\"1\" class=\"dataframe\">\n",
       "  <thead>\n",
       "    <tr style=\"text-align: right;\">\n",
       "      <th></th>\n",
       "      <th>RP1</th>\n",
       "      <th>RP2</th>\n",
       "      <th>income</th>\n",
       "      <th>income_name</th>\n",
       "      <th>cluster_1</th>\n",
       "      <th>cluster_1_label</th>\n",
       "    </tr>\n",
       "  </thead>\n",
       "  <tbody>\n",
       "    <tr>\n",
       "      <th>0</th>\n",
       "      <td>-1196.229033</td>\n",
       "      <td>1118.223951</td>\n",
       "      <td>0</td>\n",
       "      <td>&lt;=50K</td>\n",
       "      <td>0</td>\n",
       "      <td>&lt;=50K</td>\n",
       "    </tr>\n",
       "    <tr>\n",
       "      <th>1</th>\n",
       "      <td>-23.670244</td>\n",
       "      <td>-24.674751</td>\n",
       "      <td>0</td>\n",
       "      <td>&lt;=50K</td>\n",
       "      <td>0</td>\n",
       "      <td>&lt;=50K</td>\n",
       "    </tr>\n",
       "    <tr>\n",
       "      <th>2</th>\n",
       "      <td>-68.123538</td>\n",
       "      <td>-14.361616</td>\n",
       "      <td>0</td>\n",
       "      <td>&lt;=50K</td>\n",
       "      <td>0</td>\n",
       "      <td>&lt;=50K</td>\n",
       "    </tr>\n",
       "    <tr>\n",
       "      <th>3</th>\n",
       "      <td>-77.637205</td>\n",
       "      <td>-19.164949</td>\n",
       "      <td>0</td>\n",
       "      <td>&lt;=50K</td>\n",
       "      <td>0</td>\n",
       "      <td>&lt;=50K</td>\n",
       "    </tr>\n",
       "    <tr>\n",
       "      <th>4</th>\n",
       "      <td>-67.938467</td>\n",
       "      <td>-15.276383</td>\n",
       "      <td>0</td>\n",
       "      <td>&lt;=50K</td>\n",
       "      <td>0</td>\n",
       "      <td>&lt;=50K</td>\n",
       "    </tr>\n",
       "  </tbody>\n",
       "</table>\n",
       "</div>"
      ],
      "text/plain": [
       "           RP1          RP2  income income_name  cluster_1 cluster_1_label\n",
       "0 -1196.229033  1118.223951       0       <=50K          0           <=50K\n",
       "1   -23.670244   -24.674751       0       <=50K          0           <=50K\n",
       "2   -68.123538   -14.361616       0       <=50K          0           <=50K\n",
       "3   -77.637205   -19.164949       0       <=50K          0           <=50K\n",
       "4   -67.938467   -15.276383       0       <=50K          0           <=50K"
      ]
     },
     "execution_count": 111,
     "metadata": {},
     "output_type": "execute_result"
    }
   ],
   "source": [
    "#cluster_2_label\n",
    "def cluster_1_label(alpha):\n",
    "    label_max = max(tb1.iloc[i,alpha] for i in range(2))\n",
    "    if tb1.iloc[0,alpha] == label_max:\n",
    "        return '<=50K'\n",
    "    if tb1.iloc[1,alpha] == label_max:\n",
    "        return '>50K'\n",
    "data_RP_df['cluster_1_label']=data_RP_df['cluster_1'].apply(cluster_1_label)\n",
    "data_RP_df.head()"
   ]
  },
  {
   "cell_type": "code",
   "execution_count": 112,
   "metadata": {},
   "outputs": [
    {
     "data": {
      "image/png": "[encoded data removed]",
      "text/plain": [
       "<matplotlib.figure.Figure at 0x30909898>"
      ]
     },
     "metadata": {},
     "output_type": "display_data"
    }
   ],
   "source": [
    "#K=17\n",
    "kmeans_model_2 = KMeans(n_clusters=17,random_state=123)\n",
    "distances_2 = kmeans_model_2.fit_transform(data_RP_df.iloc[:,0:3])\n",
    "labels_2 = kmeans_model_2.labels_\n",
    "data_RP_df['cluster_17']=labels_2\n",
    "with sns.color_palette(\"Set2\", 10):\n",
    "    sns.pairplot(data_RP_df.iloc[:,[0,1,6]], hue='cluster_17')"
   ]
  },
  {
   "cell_type": "code",
   "execution_count": 113,
   "metadata": {},
   "outputs": [
    {
     "data": {
      "text/html": [
       "<div>\n",
       "<style>\n",
       "    .dataframe thead tr:only-child th {\n",
       "        text-align: right;\n",
       "    }\n",
       "\n",
       "    .dataframe thead th {\n",
       "        text-align: left;\n",
       "    }\n",
       "\n",
       "    .dataframe tbody tr th {\n",
       "        vertical-align: top;\n",
       "    }\n",
       "</style>\n",
       "<table border=\"1\" class=\"dataframe\">\n",
       "  <thead>\n",
       "    <tr style=\"text-align: right;\">\n",
       "      <th>col_0</th>\n",
       "      <th>0</th>\n",
       "      <th>1</th>\n",
       "      <th>2</th>\n",
       "      <th>3</th>\n",
       "      <th>4</th>\n",
       "      <th>5</th>\n",
       "      <th>6</th>\n",
       "      <th>7</th>\n",
       "      <th>8</th>\n",
       "      <th>9</th>\n",
       "      <th>10</th>\n",
       "      <th>11</th>\n",
       "      <th>12</th>\n",
       "      <th>13</th>\n",
       "      <th>14</th>\n",
       "      <th>15</th>\n",
       "      <th>16</th>\n",
       "    </tr>\n",
       "    <tr>\n",
       "      <th>income_name</th>\n",
       "      <th></th>\n",
       "      <th></th>\n",
       "      <th></th>\n",
       "      <th></th>\n",
       "      <th></th>\n",
       "      <th></th>\n",
       "      <th></th>\n",
       "      <th></th>\n",
       "      <th></th>\n",
       "      <th></th>\n",
       "      <th></th>\n",
       "      <th></th>\n",
       "      <th></th>\n",
       "      <th></th>\n",
       "      <th></th>\n",
       "      <th></th>\n",
       "      <th></th>\n",
       "    </tr>\n",
       "  </thead>\n",
       "  <tbody>\n",
       "    <tr>\n",
       "      <th>&lt;=50K</th>\n",
       "      <td>22958</td>\n",
       "      <td>0</td>\n",
       "      <td>54</td>\n",
       "      <td>0</td>\n",
       "      <td>604</td>\n",
       "      <td>0</td>\n",
       "      <td>181</td>\n",
       "      <td>261</td>\n",
       "      <td>7</td>\n",
       "      <td>1</td>\n",
       "      <td>251</td>\n",
       "      <td>6</td>\n",
       "      <td>144</td>\n",
       "      <td>154</td>\n",
       "      <td>0</td>\n",
       "      <td>0</td>\n",
       "      <td>99</td>\n",
       "    </tr>\n",
       "    <tr>\n",
       "      <th>&gt;50K</th>\n",
       "      <td>5391</td>\n",
       "      <td>159</td>\n",
       "      <td>611</td>\n",
       "      <td>358</td>\n",
       "      <td>630</td>\n",
       "      <td>34</td>\n",
       "      <td>58</td>\n",
       "      <td>90</td>\n",
       "      <td>0</td>\n",
       "      <td>39</td>\n",
       "      <td>0</td>\n",
       "      <td>83</td>\n",
       "      <td>136</td>\n",
       "      <td>2</td>\n",
       "      <td>94</td>\n",
       "      <td>15</td>\n",
       "      <td>141</td>\n",
       "    </tr>\n",
       "  </tbody>\n",
       "</table>\n",
       "</div>"
      ],
      "text/plain": [
       "col_0           0    1    2    3    4   5    6    7   8   9    10  11   12  \\\n",
       "income_name                                                                  \n",
       "<=50K        22958    0   54    0  604   0  181  261   7   1  251   6  144   \n",
       ">50K          5391  159  611  358  630  34   58   90   0  39    0  83  136   \n",
       "\n",
       "col_0         13  14  15   16  \n",
       "income_name                    \n",
       "<=50K        154   0   0   99  \n",
       ">50K           2  94  15  141  "
      ]
     },
     "execution_count": 113,
     "metadata": {},
     "output_type": "execute_result"
    }
   ],
   "source": [
    "#compare labels K=17\n",
    "tb1 = pd.crosstab(data_RP_df['income_name'],labels_2)\n",
    "tb1"
   ]
  },
  {
   "cell_type": "code",
   "execution_count": 114,
   "metadata": {},
   "outputs": [
    {
     "data": {
      "text/html": [
       "<div>\n",
       "<style>\n",
       "    .dataframe thead tr:only-child th {\n",
       "        text-align: right;\n",
       "    }\n",
       "\n",
       "    .dataframe thead th {\n",
       "        text-align: left;\n",
       "    }\n",
       "\n",
       "    .dataframe tbody tr th {\n",
       "        vertical-align: top;\n",
       "    }\n",
       "</style>\n",
       "<table border=\"1\" class=\"dataframe\">\n",
       "  <thead>\n",
       "    <tr style=\"text-align: right;\">\n",
       "      <th></th>\n",
       "      <th>RP1</th>\n",
       "      <th>RP2</th>\n",
       "      <th>income</th>\n",
       "      <th>income_name</th>\n",
       "      <th>cluster_1</th>\n",
       "      <th>cluster_1_label</th>\n",
       "      <th>cluster_17</th>\n",
       "      <th>cluster_17_label</th>\n",
       "    </tr>\n",
       "  </thead>\n",
       "  <tbody>\n",
       "    <tr>\n",
       "      <th>0</th>\n",
       "      <td>-1196.229033</td>\n",
       "      <td>1118.223951</td>\n",
       "      <td>0</td>\n",
       "      <td>&lt;=50K</td>\n",
       "      <td>0</td>\n",
       "      <td>&lt;=50K</td>\n",
       "      <td>10</td>\n",
       "      <td>&lt;=50K</td>\n",
       "    </tr>\n",
       "    <tr>\n",
       "      <th>1</th>\n",
       "      <td>-23.670244</td>\n",
       "      <td>-24.674751</td>\n",
       "      <td>0</td>\n",
       "      <td>&lt;=50K</td>\n",
       "      <td>0</td>\n",
       "      <td>&lt;=50K</td>\n",
       "      <td>0</td>\n",
       "      <td>&lt;=50K</td>\n",
       "    </tr>\n",
       "    <tr>\n",
       "      <th>2</th>\n",
       "      <td>-68.123538</td>\n",
       "      <td>-14.361616</td>\n",
       "      <td>0</td>\n",
       "      <td>&lt;=50K</td>\n",
       "      <td>0</td>\n",
       "      <td>&lt;=50K</td>\n",
       "      <td>0</td>\n",
       "      <td>&lt;=50K</td>\n",
       "    </tr>\n",
       "    <tr>\n",
       "      <th>3</th>\n",
       "      <td>-77.637205</td>\n",
       "      <td>-19.164949</td>\n",
       "      <td>0</td>\n",
       "      <td>&lt;=50K</td>\n",
       "      <td>0</td>\n",
       "      <td>&lt;=50K</td>\n",
       "      <td>0</td>\n",
       "      <td>&lt;=50K</td>\n",
       "    </tr>\n",
       "    <tr>\n",
       "      <th>4</th>\n",
       "      <td>-67.938467</td>\n",
       "      <td>-15.276383</td>\n",
       "      <td>0</td>\n",
       "      <td>&lt;=50K</td>\n",
       "      <td>0</td>\n",
       "      <td>&lt;=50K</td>\n",
       "      <td>0</td>\n",
       "      <td>&lt;=50K</td>\n",
       "    </tr>\n",
       "  </tbody>\n",
       "</table>\n",
       "</div>"
      ],
      "text/plain": [
       "           RP1          RP2  income income_name  cluster_1 cluster_1_label  \\\n",
       "0 -1196.229033  1118.223951       0       <=50K          0           <=50K   \n",
       "1   -23.670244   -24.674751       0       <=50K          0           <=50K   \n",
       "2   -68.123538   -14.361616       0       <=50K          0           <=50K   \n",
       "3   -77.637205   -19.164949       0       <=50K          0           <=50K   \n",
       "4   -67.938467   -15.276383       0       <=50K          0           <=50K   \n",
       "\n",
       "   cluster_17 cluster_17_label  \n",
       "0          10            <=50K  \n",
       "1           0            <=50K  \n",
       "2           0            <=50K  \n",
       "3           0            <=50K  \n",
       "4           0            <=50K  "
      ]
     },
     "execution_count": 114,
     "metadata": {},
     "output_type": "execute_result"
    }
   ],
   "source": [
    "#cluster_2_label\n",
    "\n",
    "data_RP_df['cluster_17_label']=data_RP_df['cluster_17'].apply(cluster_1_label)\n",
    "data_RP_df.head()"
   ]
  },
  {
   "cell_type": "code",
   "execution_count": 115,
   "metadata": {},
   "outputs": [
    {
     "name": "stdout",
     "output_type": "stream",
     "text": [
      "[[  -455.58105177    304.37825224]\n",
      " [-51938.51188223  52021.13738844]]\n"
     ]
    }
   ],
   "source": [
    "#find center of K=2\n",
    "centroids_RP1 = kmeans_model_1.cluster_centers_\n",
    "print (centroids_RP1)"
   ]
  },
  {
   "cell_type": "code",
   "execution_count": 116,
   "metadata": {},
   "outputs": [
    {
     "name": "stdout",
     "output_type": "stream",
     "text": [
      "[[ -6.94885840e+01  -1.34226484e+01   1.90165438e-01]\n",
      " [ -5.19385119e+04   5.20211374e+04   1.00000000e+00]\n",
      " [ -3.97774107e+03   3.89744012e+03   9.18796992e-01]\n",
      " [ -7.88094306e+03   7.80739348e+03   1.00000000e+00]\n",
      " [ -1.68599928e+03   1.89640538e+02   5.10534846e-01]\n",
      " [ -1.45114073e+04   1.44665232e+04   1.00000000e+00]\n",
      " [ -2.21247934e+03   2.13107210e+03   2.42677824e-01]\n",
      " [ -1.70948283e+03   1.62507807e+03   2.56410256e-01]\n",
      " [ -1.87981251e+04   1.88004598e+04  -5.55111512e-17]\n",
      " [ -1.04595237e+04   1.03902786e+04   9.75000000e-01]\n",
      " [ -1.25227453e+03   1.17097930e+03  -1.38777878e-15]\n",
      " [ -5.38292435e+03   5.30701207e+03   9.32584270e-01]\n",
      " [ -2.67861170e+03   2.59800478e+03   4.85714286e-01]\n",
      " [ -6.43533463e+02   4.30979370e+02   1.28205128e-02]\n",
      " [ -7.33719290e+03   7.27380722e+03   1.00000000e+00]\n",
      " [ -1.31493370e+04   1.31006125e+04   1.00000000e+00]\n",
      " [ -2.25750112e+03   2.58983216e+02   5.87500000e-01]]\n"
     ]
    }
   ],
   "source": [
    "#find center of K=17\n",
    "centroids_RP17 = kmeans_model_2.cluster_centers_\n",
    "print (centroids_RP17)"
   ]
  },
  {
   "cell_type": "code",
   "execution_count": 1,
   "metadata": {},
   "outputs": [
    {
     "ename": "NameError",
     "evalue": "name 'data_RP_df' is not defined",
     "output_type": "error",
     "traceback": [
      "\u001b[1;31m---------------------------------------------------------------------------\u001b[0m",
      "\u001b[1;31mNameError\u001b[0m                                 Traceback (most recent call last)",
      "\u001b[1;32m<ipython-input-1-f0561fbebf45>\u001b[0m in \u001b[0;36m<module>\u001b[1;34m()\u001b[0m\n\u001b[0;32m      1\u001b[0m \u001b[1;31m#RP K=2, upon cluster_1\u001b[0m\u001b[1;33m\u001b[0m\u001b[1;33m\u001b[0m\u001b[0m\n\u001b[0;32m      2\u001b[0m \u001b[0mcolors\u001b[0m \u001b[1;33m=\u001b[0m \u001b[1;33m[\u001b[0m\u001b[1;34m\"g.\"\u001b[0m\u001b[1;33m,\u001b[0m \u001b[1;34m\"r.\"\u001b[0m\u001b[1;33m,\u001b[0m \u001b[1;34m\"b.\"\u001b[0m\u001b[1;33m,\u001b[0m \u001b[1;34m\"y.\"\u001b[0m\u001b[1;33m]\u001b[0m\u001b[1;33m\u001b[0m\u001b[0m\n\u001b[1;32m----> 3\u001b[1;33m \u001b[1;32mfor\u001b[0m \u001b[0mi\u001b[0m \u001b[1;32min\u001b[0m \u001b[0mrange\u001b[0m\u001b[1;33m(\u001b[0m\u001b[0mlen\u001b[0m\u001b[1;33m(\u001b[0m\u001b[0mdata_RP_df\u001b[0m\u001b[1;33m)\u001b[0m\u001b[1;33m)\u001b[0m\u001b[1;33m:\u001b[0m\u001b[1;33m\u001b[0m\u001b[0m\n\u001b[0m\u001b[0;32m      4\u001b[0m     \u001b[0mplt\u001b[0m\u001b[1;33m.\u001b[0m\u001b[0mplot\u001b[0m\u001b[1;33m(\u001b[0m\u001b[0mdata_RP_df\u001b[0m\u001b[1;33m.\u001b[0m\u001b[0miloc\u001b[0m\u001b[1;33m[\u001b[0m\u001b[0mi\u001b[0m\u001b[1;33m,\u001b[0m\u001b[1;36m0\u001b[0m\u001b[1;33m]\u001b[0m\u001b[1;33m,\u001b[0m\u001b[0mdata_RP_df\u001b[0m\u001b[1;33m.\u001b[0m\u001b[0miloc\u001b[0m\u001b[1;33m[\u001b[0m\u001b[0mi\u001b[0m\u001b[1;33m,\u001b[0m\u001b[1;36m1\u001b[0m\u001b[1;33m]\u001b[0m\u001b[1;33m,\u001b[0m \u001b[0mcolors\u001b[0m\u001b[1;33m[\u001b[0m\u001b[0mdata_RP_df\u001b[0m\u001b[1;33m.\u001b[0m\u001b[0miloc\u001b[0m\u001b[1;33m[\u001b[0m\u001b[0mi\u001b[0m\u001b[1;33m,\u001b[0m\u001b[1;36m4\u001b[0m\u001b[1;33m]\u001b[0m\u001b[1;33m]\u001b[0m\u001b[1;33m,\u001b[0m \u001b[0mmarkersize\u001b[0m \u001b[1;33m=\u001b[0m \u001b[1;36m10\u001b[0m\u001b[1;33m)\u001b[0m\u001b[1;33m\u001b[0m\u001b[0m\n\u001b[0;32m      5\u001b[0m \u001b[0mplt\u001b[0m\u001b[1;33m.\u001b[0m\u001b[0mscatter\u001b[0m\u001b[1;33m(\u001b[0m\u001b[0mcentroids_RP1\u001b[0m\u001b[1;33m[\u001b[0m\u001b[1;33m:\u001b[0m\u001b[1;33m,\u001b[0m\u001b[1;36m0\u001b[0m\u001b[1;33m]\u001b[0m\u001b[1;33m,\u001b[0m \u001b[0mcentroids_RP1\u001b[0m\u001b[1;33m[\u001b[0m\u001b[1;33m:\u001b[0m\u001b[1;33m,\u001b[0m\u001b[1;36m1\u001b[0m\u001b[1;33m]\u001b[0m\u001b[1;33m,\u001b[0m\u001b[0mmarker\u001b[0m\u001b[1;33m=\u001b[0m\u001b[1;34m\"x\"\u001b[0m\u001b[1;33m,\u001b[0m \u001b[0ms\u001b[0m\u001b[1;33m=\u001b[0m\u001b[1;36m150\u001b[0m\u001b[1;33m,\u001b[0m \u001b[0mlinewidths\u001b[0m \u001b[1;33m=\u001b[0m\u001b[1;36m5\u001b[0m\u001b[1;33m,\u001b[0m \u001b[0mzorder\u001b[0m\u001b[1;33m=\u001b[0m\u001b[1;36m10\u001b[0m\u001b[1;33m)\u001b[0m\u001b[1;33m\u001b[0m\u001b[0m\n",
      "\u001b[1;31mNameError\u001b[0m: name 'data_RP_df' is not defined"
     ]
    }
   ],
   "source": [
    "#RP K=2, upon cluster_1\n",
    "colors = [\"g.\", \"r.\", \"b.\", \"y.\"]\n",
    "for i in range(len(data_RP_df)):\n",
    "    plt.plot(data_RP_df.iloc[i,0],data_RP_df.iloc[i,1], colors[data_RP_df.iloc[i,4]], markersize = 10)    \n",
    "plt.scatter(centroids_RP1[:,0], centroids_RP1[:,1],marker=\"x\", s=150, linewidths =5, zorder=10)\n",
    "plt.xlabel('RP1')\n",
    "plt.ylabel('RP2')\n",
    "plt.show()\n"
   ]
  },
  {
   "cell_type": "code",
   "execution_count": 68,
   "metadata": {},
   "outputs": [
    {
     "data": {
      "image/png": "[encoded data removed]",
      "text/plain": [
       "<matplotlib.figure.Figure at 0x16f1e5c0>"
      ]
     },
     "metadata": {},
     "output_type": "display_data"
    }
   ],
   "source": [
    "#RP K=2 upon original label\n",
    "colors = [\"g.\", \"r.\", \"b.\", \"y.\"]\n",
    "for i in range(len(data_RP_df)):\n",
    "    plt.plot(data_RP_df.iloc[i,0],data_RP_df.iloc[i,1], colors[data_RP_df.iloc[i,2]], markersize = 10)    \n",
    "plt.scatter(centroids_RP1[:,0], centroids_RP1[:,1],marker=\"x\", s=150, linewidths =5, zorder=10)\n",
    "plt.xlabel('RP1')\n",
    "plt.ylabel('RP2')\n",
    "plt.show()\n"
   ]
  },
  {
   "cell_type": "code",
   "execution_count": 118,
   "metadata": {},
   "outputs": [
    {
     "data": {
      "text/html": [
       "<div>\n",
       "<style>\n",
       "    .dataframe thead tr:only-child th {\n",
       "        text-align: right;\n",
       "    }\n",
       "\n",
       "    .dataframe thead th {\n",
       "        text-align: left;\n",
       "    }\n",
       "\n",
       "    .dataframe tbody tr th {\n",
       "        vertical-align: top;\n",
       "    }\n",
       "</style>\n",
       "<table border=\"1\" class=\"dataframe\">\n",
       "  <thead>\n",
       "    <tr style=\"text-align: right;\">\n",
       "      <th></th>\n",
       "      <th>RP1</th>\n",
       "      <th>RP2</th>\n",
       "      <th>income</th>\n",
       "      <th>income_name</th>\n",
       "      <th>cluster_1</th>\n",
       "      <th>cluster_1_label</th>\n",
       "      <th>cluster_17</th>\n",
       "      <th>cluster_17_label</th>\n",
       "    </tr>\n",
       "  </thead>\n",
       "  <tbody>\n",
       "    <tr>\n",
       "      <th>0</th>\n",
       "      <td>-1196.229033</td>\n",
       "      <td>1118.223951</td>\n",
       "      <td>0</td>\n",
       "      <td>&lt;=50K</td>\n",
       "      <td>0</td>\n",
       "      <td>&lt;=50K</td>\n",
       "      <td>10</td>\n",
       "      <td>&lt;=50K</td>\n",
       "    </tr>\n",
       "    <tr>\n",
       "      <th>1</th>\n",
       "      <td>-23.670244</td>\n",
       "      <td>-24.674751</td>\n",
       "      <td>0</td>\n",
       "      <td>&lt;=50K</td>\n",
       "      <td>0</td>\n",
       "      <td>&lt;=50K</td>\n",
       "      <td>0</td>\n",
       "      <td>&lt;=50K</td>\n",
       "    </tr>\n",
       "    <tr>\n",
       "      <th>2</th>\n",
       "      <td>-68.123538</td>\n",
       "      <td>-14.361616</td>\n",
       "      <td>0</td>\n",
       "      <td>&lt;=50K</td>\n",
       "      <td>0</td>\n",
       "      <td>&lt;=50K</td>\n",
       "      <td>0</td>\n",
       "      <td>&lt;=50K</td>\n",
       "    </tr>\n",
       "    <tr>\n",
       "      <th>3</th>\n",
       "      <td>-77.637205</td>\n",
       "      <td>-19.164949</td>\n",
       "      <td>0</td>\n",
       "      <td>&lt;=50K</td>\n",
       "      <td>0</td>\n",
       "      <td>&lt;=50K</td>\n",
       "      <td>0</td>\n",
       "      <td>&lt;=50K</td>\n",
       "    </tr>\n",
       "    <tr>\n",
       "      <th>4</th>\n",
       "      <td>-67.938467</td>\n",
       "      <td>-15.276383</td>\n",
       "      <td>0</td>\n",
       "      <td>&lt;=50K</td>\n",
       "      <td>0</td>\n",
       "      <td>&lt;=50K</td>\n",
       "      <td>0</td>\n",
       "      <td>&lt;=50K</td>\n",
       "    </tr>\n",
       "  </tbody>\n",
       "</table>\n",
       "</div>"
      ],
      "text/plain": [
       "           RP1          RP2  income income_name  cluster_1 cluster_1_label  \\\n",
       "0 -1196.229033  1118.223951       0       <=50K          0           <=50K   \n",
       "1   -23.670244   -24.674751       0       <=50K          0           <=50K   \n",
       "2   -68.123538   -14.361616       0       <=50K          0           <=50K   \n",
       "3   -77.637205   -19.164949       0       <=50K          0           <=50K   \n",
       "4   -67.938467   -15.276383       0       <=50K          0           <=50K   \n",
       "\n",
       "   cluster_17 cluster_17_label  \n",
       "0          10            <=50K  \n",
       "1           0            <=50K  \n",
       "2           0            <=50K  \n",
       "3           0            <=50K  \n",
       "4           0            <=50K  "
      ]
     },
     "execution_count": 118,
     "metadata": {},
     "output_type": "execute_result"
    }
   ],
   "source": [
    "data_RP_df.head()"
   ]
  },
  {
   "cell_type": "code",
   "execution_count": 77,
   "metadata": {},
   "outputs": [
    {
     "data": {
      "image/png": "[encoded data removed]",
      "text/plain": [
       "<matplotlib.figure.Figure at 0x34d41e48>"
      ]
     },
     "metadata": {},
     "output_type": "display_data"
    }
   ],
   "source": [
    "#RP K=17 upon cluster_4\n",
    "style.use(\"ggplot\")\n",
    "colors = [\"g.\", \"r.\", \"b.\", \"y.\", \"c.\", \"m.\", \"k.\", \"w.\",\n",
    "          \"g.\", \"r.\", \"b.\", \"y.\", \"c.\", \"m.\", \"k.\", \"w.\",\n",
    "          \"g.\", \"r.\", \"b.\", \"y.\", \"c.\", \"m.\", \"k.\", \"w.\",\n",
    "          \"g.\", \"r.\", \"b.\", \"y.\", \"c.\", \"m.\", \"k.\", \"w.\",\n",
    "          \"g.\", \"r.\", \"b.\", \"y.\", \"c.\", \"m.\", \"k.\", \"w.\"]\n",
    "for i in range(len(data_RP_df)):\n",
    "    plt.plot(data_RP_df.iloc[i,0],data_RP_df.iloc[i,1], colors[data_RP_df.iloc[i,6]], markersize = 10)    \n",
    "plt.scatter(centroids_RP17[:,0], centroids_RP17[:,1],marker=\"x\", s=150, linewidths =5, zorder=10)\n",
    "plt.xlabel('RP1')\n",
    "plt.ylabel('RP2')\n",
    "plt.show()"
   ]
  },
  {
   "cell_type": "code",
   "execution_count": 119,
   "metadata": {},
   "outputs": [
    {
     "data": {
      "text/html": [
       "<div>\n",
       "<style>\n",
       "    .dataframe thead tr:only-child th {\n",
       "        text-align: right;\n",
       "    }\n",
       "\n",
       "    .dataframe thead th {\n",
       "        text-align: left;\n",
       "    }\n",
       "\n",
       "    .dataframe tbody tr th {\n",
       "        vertical-align: top;\n",
       "    }\n",
       "</style>\n",
       "<table border=\"1\" class=\"dataframe\">\n",
       "  <thead>\n",
       "    <tr style=\"text-align: right;\">\n",
       "      <th></th>\n",
       "      <th>RP1</th>\n",
       "      <th>RP2</th>\n",
       "      <th>cluster_1</th>\n",
       "    </tr>\n",
       "  </thead>\n",
       "  <tbody>\n",
       "    <tr>\n",
       "      <th>RP1</th>\n",
       "      <td>1.000000</td>\n",
       "      <td>-0.996587</td>\n",
       "      <td>-0.935360</td>\n",
       "    </tr>\n",
       "    <tr>\n",
       "      <th>RP2</th>\n",
       "      <td>-0.996587</td>\n",
       "      <td>1.000000</td>\n",
       "      <td>0.938459</td>\n",
       "    </tr>\n",
       "    <tr>\n",
       "      <th>cluster_1</th>\n",
       "      <td>-0.935360</td>\n",
       "      <td>0.938459</td>\n",
       "      <td>1.000000</td>\n",
       "    </tr>\n",
       "  </tbody>\n",
       "</table>\n",
       "</div>"
      ],
      "text/plain": [
       "                RP1       RP2  cluster_1\n",
       "RP1        1.000000 -0.996587  -0.935360\n",
       "RP2       -0.996587  1.000000   0.938459\n",
       "cluster_1 -0.935360  0.938459   1.000000"
      ]
     },
     "execution_count": 119,
     "metadata": {},
     "output_type": "execute_result"
    }
   ],
   "source": [
    "d_corr_RP2=data_RP_df.iloc[:,[0,1,4]].corr()\n",
    "d_corr_RP2\n",
    "#Correlation K=2 for dataset after RP"
   ]
  },
  {
   "cell_type": "code",
   "execution_count": 120,
   "metadata": {},
   "outputs": [
    {
     "data": {
      "text/html": [
       "<div>\n",
       "<style>\n",
       "    .dataframe thead tr:only-child th {\n",
       "        text-align: right;\n",
       "    }\n",
       "\n",
       "    .dataframe thead th {\n",
       "        text-align: left;\n",
       "    }\n",
       "\n",
       "    .dataframe tbody tr th {\n",
       "        vertical-align: top;\n",
       "    }\n",
       "</style>\n",
       "<table border=\"1\" class=\"dataframe\">\n",
       "  <thead>\n",
       "    <tr style=\"text-align: right;\">\n",
       "      <th></th>\n",
       "      <th>RP1</th>\n",
       "      <th>RP2</th>\n",
       "      <th>cluster_17</th>\n",
       "    </tr>\n",
       "  </thead>\n",
       "  <tbody>\n",
       "    <tr>\n",
       "      <th>RP1</th>\n",
       "      <td>1.000000</td>\n",
       "      <td>-0.996587</td>\n",
       "      <td>-0.204257</td>\n",
       "    </tr>\n",
       "    <tr>\n",
       "      <th>RP2</th>\n",
       "      <td>-0.996587</td>\n",
       "      <td>1.000000</td>\n",
       "      <td>0.164931</td>\n",
       "    </tr>\n",
       "    <tr>\n",
       "      <th>cluster_17</th>\n",
       "      <td>-0.204257</td>\n",
       "      <td>0.164931</td>\n",
       "      <td>1.000000</td>\n",
       "    </tr>\n",
       "  </tbody>\n",
       "</table>\n",
       "</div>"
      ],
      "text/plain": [
       "                 RP1       RP2  cluster_17\n",
       "RP1         1.000000 -0.996587   -0.204257\n",
       "RP2        -0.996587  1.000000    0.164931\n",
       "cluster_17 -0.204257  0.164931    1.000000"
      ]
     },
     "execution_count": 120,
     "metadata": {},
     "output_type": "execute_result"
    }
   ],
   "source": [
    "d_corr_RP17=data_RP_df.iloc[:,[0,1,6]].corr()\n",
    "d_corr_RP17\n",
    "#lug_boot and persons"
   ]
  },
  {
   "cell_type": "code",
   "execution_count": 121,
   "metadata": {},
   "outputs": [
    {
     "name": "stdout",
     "output_type": "stream",
     "text": [
      "K=2 KMeans -> 76.4074%\n",
      "K=17 KMeans -> 80.2187%\n"
     ]
    }
   ],
   "source": [
    "cluster_2_accuracy = len(data_RP_df[data_RP_df['income_name']==data_RP_df['cluster_1_label']])/len(data_RP_df)\n",
    "cluster_17_accuracy = len(data_RP_df[data_RP_df['income_name']==data_RP_df['cluster_17_label']])/len(data_RP_df)\n",
    "print('K=2 KMeans -> {0:.4f}%'.format(cluster_2_accuracy*100))\n",
    "print('K=17 KMeans -> {0:.4f}%'.format(cluster_17_accuracy*100))"
   ]
  },
  {
   "cell_type": "code",
   "execution_count": 122,
   "metadata": {},
   "outputs": [
    {
     "data": {
      "image/png": "[encoded data removed]",
      "text/plain": [
       "<matplotlib.figure.Figure at 0x34d51e48>"
      ]
     },
     "metadata": {},
     "output_type": "display_data"
    }
   ],
   "source": [
    "#K=4\n",
    "kmeans_model_3 = KMeans(n_clusters=4,random_state=123)\n",
    "distances_3 = kmeans_model_3.fit_transform(data_RP_df.iloc[:,0:3])\n",
    "labels_3 = kmeans_model_3.labels_\n",
    "data_RP_df['cluster_4']=labels_3\n",
    "with sns.color_palette(\"Set2\", 10):\n",
    "    sns.pairplot(data_RP_df.iloc[:,[0,1,8]], hue='cluster_4')"
   ]
  },
  {
   "cell_type": "code",
   "execution_count": 123,
   "metadata": {},
   "outputs": [
    {
     "data": {
      "text/html": [
       "<div>\n",
       "<style>\n",
       "    .dataframe thead tr:only-child th {\n",
       "        text-align: right;\n",
       "    }\n",
       "\n",
       "    .dataframe thead th {\n",
       "        text-align: left;\n",
       "    }\n",
       "\n",
       "    .dataframe tbody tr th {\n",
       "        vertical-align: top;\n",
       "    }\n",
       "</style>\n",
       "<table border=\"1\" class=\"dataframe\">\n",
       "  <thead>\n",
       "    <tr style=\"text-align: right;\">\n",
       "      <th>col_0</th>\n",
       "      <th>0</th>\n",
       "      <th>1</th>\n",
       "      <th>2</th>\n",
       "      <th>3</th>\n",
       "    </tr>\n",
       "    <tr>\n",
       "      <th>income_name</th>\n",
       "      <th></th>\n",
       "      <th></th>\n",
       "      <th></th>\n",
       "      <th></th>\n",
       "    </tr>\n",
       "  </thead>\n",
       "  <tbody>\n",
       "    <tr>\n",
       "      <th>&lt;=50K</th>\n",
       "      <td>24149</td>\n",
       "      <td>0</td>\n",
       "      <td>8</td>\n",
       "      <td>563</td>\n",
       "    </tr>\n",
       "    <tr>\n",
       "      <th>&gt;50K</th>\n",
       "      <td>6163</td>\n",
       "      <td>159</td>\n",
       "      <td>542</td>\n",
       "      <td>977</td>\n",
       "    </tr>\n",
       "  </tbody>\n",
       "</table>\n",
       "</div>"
      ],
      "text/plain": [
       "col_0            0    1    2    3\n",
       "income_name                      \n",
       "<=50K        24149    0    8  563\n",
       ">50K          6163  159  542  977"
      ]
     },
     "execution_count": 123,
     "metadata": {},
     "output_type": "execute_result"
    }
   ],
   "source": [
    "#compare labels K=4\n",
    "tb1 = pd.crosstab(data_RP_df['income_name'],labels_3)\n",
    "tb1"
   ]
  },
  {
   "cell_type": "code",
   "execution_count": 124,
   "metadata": {},
   "outputs": [
    {
     "data": {
      "text/html": [
       "<div>\n",
       "<style>\n",
       "    .dataframe thead tr:only-child th {\n",
       "        text-align: right;\n",
       "    }\n",
       "\n",
       "    .dataframe thead th {\n",
       "        text-align: left;\n",
       "    }\n",
       "\n",
       "    .dataframe tbody tr th {\n",
       "        vertical-align: top;\n",
       "    }\n",
       "</style>\n",
       "<table border=\"1\" class=\"dataframe\">\n",
       "  <thead>\n",
       "    <tr style=\"text-align: right;\">\n",
       "      <th></th>\n",
       "      <th>RP1</th>\n",
       "      <th>RP2</th>\n",
       "      <th>income</th>\n",
       "      <th>income_name</th>\n",
       "      <th>cluster_1</th>\n",
       "      <th>cluster_1_label</th>\n",
       "      <th>cluster_17</th>\n",
       "      <th>cluster_17_label</th>\n",
       "      <th>cluster_4</th>\n",
       "      <th>cluster_4_label</th>\n",
       "    </tr>\n",
       "  </thead>\n",
       "  <tbody>\n",
       "    <tr>\n",
       "      <th>0</th>\n",
       "      <td>-1196.229033</td>\n",
       "      <td>1118.223951</td>\n",
       "      <td>0</td>\n",
       "      <td>&lt;=50K</td>\n",
       "      <td>0</td>\n",
       "      <td>&lt;=50K</td>\n",
       "      <td>10</td>\n",
       "      <td>&lt;=50K</td>\n",
       "      <td>0</td>\n",
       "      <td>&lt;=50K</td>\n",
       "    </tr>\n",
       "    <tr>\n",
       "      <th>1</th>\n",
       "      <td>-23.670244</td>\n",
       "      <td>-24.674751</td>\n",
       "      <td>0</td>\n",
       "      <td>&lt;=50K</td>\n",
       "      <td>0</td>\n",
       "      <td>&lt;=50K</td>\n",
       "      <td>0</td>\n",
       "      <td>&lt;=50K</td>\n",
       "      <td>0</td>\n",
       "      <td>&lt;=50K</td>\n",
       "    </tr>\n",
       "    <tr>\n",
       "      <th>2</th>\n",
       "      <td>-68.123538</td>\n",
       "      <td>-14.361616</td>\n",
       "      <td>0</td>\n",
       "      <td>&lt;=50K</td>\n",
       "      <td>0</td>\n",
       "      <td>&lt;=50K</td>\n",
       "      <td>0</td>\n",
       "      <td>&lt;=50K</td>\n",
       "      <td>0</td>\n",
       "      <td>&lt;=50K</td>\n",
       "    </tr>\n",
       "    <tr>\n",
       "      <th>3</th>\n",
       "      <td>-77.637205</td>\n",
       "      <td>-19.164949</td>\n",
       "      <td>0</td>\n",
       "      <td>&lt;=50K</td>\n",
       "      <td>0</td>\n",
       "      <td>&lt;=50K</td>\n",
       "      <td>0</td>\n",
       "      <td>&lt;=50K</td>\n",
       "      <td>0</td>\n",
       "      <td>&lt;=50K</td>\n",
       "    </tr>\n",
       "    <tr>\n",
       "      <th>4</th>\n",
       "      <td>-67.938467</td>\n",
       "      <td>-15.276383</td>\n",
       "      <td>0</td>\n",
       "      <td>&lt;=50K</td>\n",
       "      <td>0</td>\n",
       "      <td>&lt;=50K</td>\n",
       "      <td>0</td>\n",
       "      <td>&lt;=50K</td>\n",
       "      <td>0</td>\n",
       "      <td>&lt;=50K</td>\n",
       "    </tr>\n",
       "  </tbody>\n",
       "</table>\n",
       "</div>"
      ],
      "text/plain": [
       "           RP1          RP2  income income_name  cluster_1 cluster_1_label  \\\n",
       "0 -1196.229033  1118.223951       0       <=50K          0           <=50K   \n",
       "1   -23.670244   -24.674751       0       <=50K          0           <=50K   \n",
       "2   -68.123538   -14.361616       0       <=50K          0           <=50K   \n",
       "3   -77.637205   -19.164949       0       <=50K          0           <=50K   \n",
       "4   -67.938467   -15.276383       0       <=50K          0           <=50K   \n",
       "\n",
       "   cluster_17 cluster_17_label  cluster_4 cluster_4_label  \n",
       "0          10            <=50K          0           <=50K  \n",
       "1           0            <=50K          0           <=50K  \n",
       "2           0            <=50K          0           <=50K  \n",
       "3           0            <=50K          0           <=50K  \n",
       "4           0            <=50K          0           <=50K  "
      ]
     },
     "execution_count": 124,
     "metadata": {},
     "output_type": "execute_result"
    }
   ],
   "source": [
    "#cluster_2_label\n",
    "\n",
    "data_RP_df['cluster_4_label']=data_RP_df['cluster_4'].apply(cluster_1_label)\n",
    "data_RP_df.head()"
   ]
  },
  {
   "cell_type": "code",
   "execution_count": 126,
   "metadata": {},
   "outputs": [
    {
     "name": "stdout",
     "output_type": "stream",
     "text": [
      "K=4 KMeans -> 79.3188%\n"
     ]
    }
   ],
   "source": [
    "cluster_4_accuracy = len(data_RP_df[data_RP_df['income_name']==data_RP_df['cluster_4_label']])/len(data_RP_df)\n",
    "print('K=4 KMeans -> {0:.4f}%'.format(cluster_4_accuracy*100))"
   ]
  },
  {
   "cell_type": "code",
   "execution_count": 127,
   "metadata": {},
   "outputs": [
    {
     "name": "stdout",
     "output_type": "stream",
     "text": [
      "[[ -1.68827131e+02   1.34729830e+01   2.03318818e-01]\n",
      " [ -5.19385119e+04   5.20211374e+04   1.00000000e+00]\n",
      " [ -8.66173773e+03   8.59359751e+03   9.85454545e-01]\n",
      " [ -3.16902175e+03   3.06986522e+03   6.34415584e-01]]\n"
     ]
    }
   ],
   "source": [
    "#find center of K=4\n",
    "centroids_RP4 = kmeans_model_3.cluster_centers_\n",
    "print (centroids_RP4)"
   ]
  },
  {
   "cell_type": "code",
   "execution_count": 128,
   "metadata": {},
   "outputs": [
    {
     "data": {
      "image/png": "[encoded data removed]",
      "text/plain": [
       "<matplotlib.figure.Figure at 0x34d4f390>"
      ]
     },
     "metadata": {},
     "output_type": "display_data"
    }
   ],
   "source": [
    "#RP K=4 upon cluster_4\n",
    "style.use(\"ggplot\")\n",
    "colors = [\"g.\", \"r.\", \"b.\", \"y.\", \"c.\", \"m.\", \"k.\", \"w.\",\n",
    "          \"g.\", \"r.\", \"b.\", \"y.\", \"c.\", \"m.\", \"k.\", \"w.\",\n",
    "          \"g.\", \"r.\", \"b.\", \"y.\", \"c.\", \"m.\", \"k.\", \"w.\",\n",
    "          \"g.\", \"r.\", \"b.\", \"y.\", \"c.\", \"m.\", \"k.\", \"w.\",\n",
    "          \"g.\", \"r.\", \"b.\", \"y.\", \"c.\", \"m.\", \"k.\", \"w.\"]\n",
    "for i in range(len(data_RP_df)):\n",
    "    plt.plot(data_RP_df.iloc[i,0],data_RP_df.iloc[i,1], colors[data_RP_df.iloc[i,8]], markersize = 10)    \n",
    "plt.scatter(centroids_RP4[:,0], centroids_RP4[:,1],marker=\"x\", s=150, linewidths =5, zorder=10)\n",
    "plt.xlabel('RP1')\n",
    "plt.ylabel('RP2')\n",
    "plt.show()"
   ]
  },
  {
   "cell_type": "code",
   "execution_count": null,
   "metadata": {
    "collapsed": true
   },
   "outputs": [],
   "source": []
  }
 ],
 "metadata": {
  "kernelspec": {
   "display_name": "Python 3",
   "language": "python",
   "name": "python3"
  },
  "language_info": {
   "codemirror_mode": {
    "name": "ipython",
    "version": 3
   },
   "file_extension": ".py",
   "mimetype": "text/x-python",
   "name": "python",
   "nbconvert_exporter": "python",
   "pygments_lexer": "ipython3",
   "version": "3.6.2"
  }
 },
 "nbformat": 4,
 "nbformat_minor": 2
}
